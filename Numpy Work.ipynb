{
 "cells": [
  {
   "cell_type": "code",
   "execution_count": null,
   "id": "8656f8a0-07ae-4745-acd6-6c1be0b79cb4",
   "metadata": {},
   "outputs": [],
   "source": [
    "import numpy as np"
   ]
  },
  {
   "cell_type": "markdown",
   "id": "672d35a8-914a-43c5-9afe-666a08f4d988",
   "metadata": {},
   "source": [
    "## 0D"
   ]
  },
  {
   "cell_type": "code",
   "execution_count": null,
   "id": "23972c73-7b82-486f-8b1e-0a1f294c2980",
   "metadata": {},
   "outputs": [],
   "source": [
    "arr = np.array(42)\n",
    "arr"
   ]
  },
  {
   "cell_type": "code",
   "execution_count": null,
   "id": "150f9220-1ac1-478d-86bc-839411afa803",
   "metadata": {},
   "outputs": [],
   "source": [
    "arr.ndim"
   ]
  },
  {
   "cell_type": "code",
   "execution_count": null,
   "id": "6129076f-7c24-4649-a8e6-84268075ada8",
   "metadata": {},
   "outputs": [],
   "source": [
    "type(arr)"
   ]
  },
  {
   "cell_type": "markdown",
   "id": "596b91a0-c300-46be-bf4b-652651e51900",
   "metadata": {},
   "source": [
    "## 1D"
   ]
  },
  {
   "cell_type": "code",
   "execution_count": null,
   "id": "dc63b795-adad-4356-a33e-98ab92983959",
   "metadata": {},
   "outputs": [],
   "source": [
    "arr = np.array([1,2,3,4])\n",
    "arr"
   ]
  },
  {
   "cell_type": "code",
   "execution_count": null,
   "id": "82a42888-692f-46e2-9d12-9247a9a8ffd7",
   "metadata": {},
   "outputs": [],
   "source": [
    "arr.ndim"
   ]
  },
  {
   "cell_type": "code",
   "execution_count": null,
   "id": "95de69f9-9eca-4d3a-a40d-b463004940e7",
   "metadata": {},
   "outputs": [],
   "source": [
    "type(arr)"
   ]
  },
  {
   "cell_type": "code",
   "execution_count": null,
   "id": "6518fe86-c251-48af-b2db-184d2cc2a07c",
   "metadata": {},
   "outputs": [],
   "source": [
    "arr.shape"
   ]
  },
  {
   "cell_type": "code",
   "execution_count": null,
   "id": "3f1eafea-4649-4b7a-baab-c086da8d2af4",
   "metadata": {},
   "outputs": [],
   "source": [
    "arr.size"
   ]
  },
  {
   "cell_type": "markdown",
   "id": "6b1e6791-9686-4837-9a40-19f5be22f20a",
   "metadata": {},
   "source": [
    "## 2D"
   ]
  },
  {
   "cell_type": "code",
   "execution_count": null,
   "id": "9380e49c-1fed-4608-8630-9aa54bd191a9",
   "metadata": {},
   "outputs": [],
   "source": [
    "arr = np.array([[1,2,3],[4,5,6]])\n",
    "arr"
   ]
  },
  {
   "cell_type": "code",
   "execution_count": null,
   "id": "bf6164c7-7ba9-4cfa-8cd4-ac2b31fda9df",
   "metadata": {},
   "outputs": [],
   "source": [
    "arr.ndim"
   ]
  },
  {
   "cell_type": "code",
   "execution_count": null,
   "id": "6cdeb632-deb3-4499-9866-731ff28f06e4",
   "metadata": {},
   "outputs": [],
   "source": [
    "arr.shape"
   ]
  },
  {
   "cell_type": "code",
   "execution_count": null,
   "id": "fced9449-e63e-4b37-a534-4e8916b0002f",
   "metadata": {},
   "outputs": [],
   "source": [
    "arr.size"
   ]
  },
  {
   "cell_type": "markdown",
   "id": "a1f9320d-f4c6-4997-b135-b8e9d39e9a4e",
   "metadata": {},
   "source": [
    "## 3D"
   ]
  },
  {
   "cell_type": "code",
   "execution_count": null,
   "id": "3cf027cb-2cbd-45ed-8bae-9337553c3e78",
   "metadata": {},
   "outputs": [],
   "source": [
    "arr = np.array([\n",
    "    [[1,2,3,4],[5,6,7,8],[9,10,11,12]],\n",
    "    [[13,14,15,16],[17,18,19,20],[21,22,23,24]]\n",
    "])\n",
    "arr"
   ]
  },
  {
   "cell_type": "code",
   "execution_count": null,
   "id": "da1b141c-caf4-4e56-bd61-699d6e403142",
   "metadata": {},
   "outputs": [],
   "source": [
    "arr.ndim"
   ]
  },
  {
   "cell_type": "code",
   "execution_count": null,
   "id": "bb663c3e-314c-4b40-b076-9bea91e34a0c",
   "metadata": {},
   "outputs": [],
   "source": [
    "arr.shape"
   ]
  },
  {
   "cell_type": "code",
   "execution_count": null,
   "id": "3a05001c-b04c-421b-8c59-df1c9b1a69ab",
   "metadata": {},
   "outputs": [],
   "source": [
    "arr.size"
   ]
  },
  {
   "cell_type": "markdown",
   "id": "2a5c8aaf-53e2-4122-8709-0a7e2c07c9f1",
   "metadata": {},
   "source": [
    "## Access\n",
    "### 1D"
   ]
  },
  {
   "cell_type": "code",
   "execution_count": null,
   "id": "1afafbb6-984c-45ac-af0a-dd002f27e15f",
   "metadata": {},
   "outputs": [],
   "source": [
    "arr = np.array([1,2,3,4])\n",
    "arr"
   ]
  },
  {
   "cell_type": "code",
   "execution_count": null,
   "id": "d32f1b82-9f03-434c-9024-4b9c9ad30945",
   "metadata": {},
   "outputs": [],
   "source": [
    "arr[0]"
   ]
  },
  {
   "cell_type": "code",
   "execution_count": null,
   "id": "0d3b63b9-2c9f-4fe4-998d-d39e3b2e9ec7",
   "metadata": {},
   "outputs": [],
   "source": [
    "arr[2]"
   ]
  },
  {
   "cell_type": "markdown",
   "id": "b991568a-9b5e-4e35-a8d0-3643eb3efc15",
   "metadata": {},
   "source": [
    "### 2D"
   ]
  },
  {
   "cell_type": "code",
   "execution_count": null,
   "id": "aac22ae3-8ab6-4fe0-92e8-4d8b88811809",
   "metadata": {},
   "outputs": [],
   "source": [
    "arr = np.array([[1,2,3],[4,5,6]])\n",
    "arr"
   ]
  },
  {
   "cell_type": "code",
   "execution_count": null,
   "id": "a13565b5-c4f1-43c4-88b3-a90989a55432",
   "metadata": {},
   "outputs": [],
   "source": [
    "arr[1,1]"
   ]
  },
  {
   "cell_type": "code",
   "execution_count": null,
   "id": "db263d15-616e-415f-a8d9-b6275ff8dad6",
   "metadata": {},
   "outputs": [],
   "source": [
    "arr[0,2]"
   ]
  },
  {
   "cell_type": "markdown",
   "id": "d0f18783-b8c4-4909-a437-d8ae06020540",
   "metadata": {},
   "source": [
    "### 3D"
   ]
  },
  {
   "cell_type": "code",
   "execution_count": null,
   "id": "6cf4d39a-a68d-4df8-a6d0-5f256cd85ba2",
   "metadata": {},
   "outputs": [],
   "source": [
    "arr = np.array([\n",
    "    [[1,2,3],[4,5,6]],\n",
    "    [[7,8,9],[10,11,12]]\n",
    "])\n",
    "arr"
   ]
  },
  {
   "cell_type": "code",
   "execution_count": null,
   "id": "e1a767f7-ad16-4923-8d9e-6b5898386cb2",
   "metadata": {},
   "outputs": [],
   "source": [
    "arr[0,1,1]"
   ]
  },
  {
   "cell_type": "code",
   "execution_count": null,
   "id": "4eb21d85-26aa-457d-8e3f-9892fe6726a9",
   "metadata": {},
   "outputs": [],
   "source": [
    "arr[1,0,2]"
   ]
  },
  {
   "cell_type": "code",
   "execution_count": null,
   "id": "138f9e90-b081-4b0d-a7b7-648314467e17",
   "metadata": {},
   "outputs": [],
   "source": [
    "arr[1,0,-1]"
   ]
  },
  {
   "cell_type": "markdown",
   "id": "68fcf4cd-85f8-41b3-b306-b2aa4f4221ac",
   "metadata": {},
   "source": [
    "## Slicing\n",
    "### 1D"
   ]
  },
  {
   "cell_type": "code",
   "execution_count": null,
   "id": "b9e41d5e-2083-4972-b480-235ab78f52b0",
   "metadata": {},
   "outputs": [],
   "source": [
    "arr = np.array([1,2,3,4,5])\n",
    "arr"
   ]
  },
  {
   "cell_type": "code",
   "execution_count": null,
   "id": "f297834f-40a0-492a-8f32-71b656665120",
   "metadata": {},
   "outputs": [],
   "source": [
    "arr[1:4]"
   ]
  },
  {
   "cell_type": "code",
   "execution_count": null,
   "id": "ba82dc74-0abe-4434-9318-91c0c2edc41e",
   "metadata": {},
   "outputs": [],
   "source": [
    "arr[0:5]"
   ]
  },
  {
   "cell_type": "code",
   "execution_count": null,
   "id": "7b5a40be-3329-4643-970e-843af66b3f98",
   "metadata": {},
   "outputs": [],
   "source": [
    "arr[0:4]"
   ]
  },
  {
   "cell_type": "markdown",
   "id": "82735c82-a789-4164-9b72-e45b3778709b",
   "metadata": {},
   "source": [
    "### 2D"
   ]
  },
  {
   "cell_type": "code",
   "execution_count": null,
   "id": "2f275123-1c99-4c39-8511-6d57920942a2",
   "metadata": {},
   "outputs": [],
   "source": [
    "arr = np.array([[1,2,3,4],[5,6,7,8]])\n",
    "arr"
   ]
  },
  {
   "cell_type": "code",
   "execution_count": null,
   "id": "256bc2fc-cf09-4d5c-a19c-95cc3fcd1ee1",
   "metadata": {},
   "outputs": [],
   "source": [
    "arr[1,:]"
   ]
  },
  {
   "cell_type": "code",
   "execution_count": null,
   "id": "af6f3487-e472-452c-a57f-c231d96ea7a0",
   "metadata": {},
   "outputs": [],
   "source": [
    "arr[1,1:]"
   ]
  },
  {
   "cell_type": "code",
   "execution_count": null,
   "id": "71952d30-b6b4-4cad-9813-1486f5344d9d",
   "metadata": {},
   "outputs": [],
   "source": [
    "arr[0,1:4]"
   ]
  },
  {
   "cell_type": "markdown",
   "id": "6ea14c33-3a57-48ac-ae03-a3f67a1d845d",
   "metadata": {},
   "source": [
    "### 3D"
   ]
  },
  {
   "cell_type": "code",
   "execution_count": null,
   "id": "1c6547d5-984a-4bef-ba46-64ecae5eb27c",
   "metadata": {},
   "outputs": [],
   "source": [
    "arr = np.array([\n",
    "    [[1,2,3,4,5],[6,7,8,9,10]],\n",
    "    [[11,12,13,14,15],[16,17,18,19,20]]\n",
    "])\n",
    "arr"
   ]
  },
  {
   "cell_type": "code",
   "execution_count": null,
   "id": "c087b172-0083-4dcf-a356-b55cb9bd007b",
   "metadata": {},
   "outputs": [],
   "source": [
    "arr[0,1,1:4]"
   ]
  },
  {
   "cell_type": "code",
   "execution_count": null,
   "id": "7a050656-8364-4e37-8f19-9f4285d597cf",
   "metadata": {},
   "outputs": [],
   "source": [
    "arr[1,:]"
   ]
  },
  {
   "cell_type": "code",
   "execution_count": null,
   "id": "c6cac10e-0fe6-4baf-b9e6-4bcc3c111f18",
   "metadata": {},
   "outputs": [],
   "source": [
    "arr[0,1,:]"
   ]
  },
  {
   "cell_type": "markdown",
   "id": "8b298b41-f238-4f91-b2dc-0c80b8cfc546",
   "metadata": {},
   "source": [
    "## Step"
   ]
  },
  {
   "cell_type": "code",
   "execution_count": null,
   "id": "7480d091-1668-4de5-981e-7578feb9e5b7",
   "metadata": {},
   "outputs": [],
   "source": [
    "arr = np.array([1, 2, 3, 4, 5, 6, 7])\n",
    "\n",
    "print(arr[1:5:2])"
   ]
  },
  {
   "cell_type": "code",
   "execution_count": null,
   "id": "ba673567-2437-47ab-845f-6146c26357f8",
   "metadata": {},
   "outputs": [],
   "source": [
    "arr = np.array([1,2,3,4,5,6,7,8,9,10])\n",
    "arr"
   ]
  },
  {
   "cell_type": "code",
   "execution_count": null,
   "id": "4607b2a3-3100-47ef-a10d-e6c48fb87e45",
   "metadata": {},
   "outputs": [],
   "source": [
    "arr[1:10:4]"
   ]
  },
  {
   "cell_type": "code",
   "execution_count": null,
   "id": "c05e32bd-ef98-42b8-a527-09f05d6606a8",
   "metadata": {},
   "outputs": [],
   "source": [
    "arr[1:10:2]"
   ]
  },
  {
   "cell_type": "code",
   "execution_count": null,
   "id": "6a0a34ed-4864-4b51-b4a7-3798f9236e8f",
   "metadata": {},
   "outputs": [],
   "source": [
    "arr[1:10:3]"
   ]
  },
  {
   "cell_type": "markdown",
   "id": "1495a73f-1cf8-47e1-8f56-5344b15b5bc1",
   "metadata": {},
   "source": [
    "## Creating Arrays With a Defined Data Type"
   ]
  },
  {
   "cell_type": "code",
   "execution_count": null,
   "id": "f87b96ec-f784-4007-b4b0-6aa4f056af90",
   "metadata": {},
   "outputs": [],
   "source": [
    "arr = np.array([1,2,3,4])"
   ]
  },
  {
   "cell_type": "code",
   "execution_count": null,
   "id": "88b55439-eeb5-4b70-9abd-71eba9c927f9",
   "metadata": {},
   "outputs": [],
   "source": [
    "type(arr)"
   ]
  },
  {
   "cell_type": "code",
   "execution_count": null,
   "id": "bf411bc7-0dd2-416f-afc6-519850eb864e",
   "metadata": {},
   "outputs": [],
   "source": [
    "arr = np.array([1,2,3,4],dtype = 'S')\n",
    "print(arr)\n",
    "print(arr.dtype)"
   ]
  },
  {
   "cell_type": "code",
   "execution_count": null,
   "id": "b48bb73a-f6a9-4827-8317-a58debf78598",
   "metadata": {},
   "outputs": [],
   "source": [
    "arr = np.array([1,2,3,4],dtype = 'i')\n",
    "arr.dtype"
   ]
  },
  {
   "cell_type": "code",
   "execution_count": null,
   "id": "72cfb5b8-5a91-4b76-a5c8-ab40b8ef7822",
   "metadata": {},
   "outputs": [],
   "source": [
    "arr"
   ]
  },
  {
   "cell_type": "code",
   "execution_count": null,
   "id": "c5d76c19-9241-4071-9c8b-b786eba9e13b",
   "metadata": {},
   "outputs": [],
   "source": [
    "arr = np.array([1,2,3,4],dtype = 'f')\n",
    "arr"
   ]
  },
  {
   "cell_type": "code",
   "execution_count": null,
   "id": "49c470c4-d2e4-4874-965c-ac5ce95edf5c",
   "metadata": {},
   "outputs": [],
   "source": [
    "arr.dtype"
   ]
  },
  {
   "cell_type": "markdown",
   "id": "f31ef655-ad2a-4b6d-9ee3-35360bb09b51",
   "metadata": {},
   "source": [
    "## Converting Data Type on Existing Arrays"
   ]
  },
  {
   "cell_type": "code",
   "execution_count": null,
   "id": "b080c9e3-0cab-4fa1-9ded-17d8f1b45858",
   "metadata": {},
   "outputs": [],
   "source": [
    "arr = np.array([1,2,3,4])\n",
    "arr"
   ]
  },
  {
   "cell_type": "code",
   "execution_count": null,
   "id": "946b2d3a-6b27-443e-8ac7-74466f777102",
   "metadata": {},
   "outputs": [],
   "source": [
    "newarr = arr.astype('f')\n",
    "newarr"
   ]
  },
  {
   "cell_type": "code",
   "execution_count": null,
   "id": "fadc2912-812d-4c69-831e-3a7645384591",
   "metadata": {},
   "outputs": [],
   "source": [
    "newarr1 = newarr.astype('S')\n",
    "newarr1"
   ]
  },
  {
   "cell_type": "code",
   "execution_count": null,
   "id": "377833b6-9a3c-46d8-b191-d1d6f01fb189",
   "metadata": {},
   "outputs": [],
   "source": [
    "newarr2 = newarr.astype('i')\n",
    "newarr2"
   ]
  },
  {
   "cell_type": "markdown",
   "id": "eae1b158-6cf9-4d40-83d0-6b627695454c",
   "metadata": {},
   "source": [
    "## Copy"
   ]
  },
  {
   "cell_type": "code",
   "execution_count": null,
   "id": "aa8f1d65-ebd9-4129-a142-76cad025a10b",
   "metadata": {},
   "outputs": [],
   "source": [
    "arr1 = np.array([1,2,3,4])\n",
    "arr1"
   ]
  },
  {
   "cell_type": "code",
   "execution_count": null,
   "id": "de812a9c-02c1-4cd5-b654-30351d725ead",
   "metadata": {},
   "outputs": [],
   "source": [
    "df1 = arr1.copy()"
   ]
  },
  {
   "cell_type": "code",
   "execution_count": null,
   "id": "5241e6ae-52ce-4463-8ee2-f4f7c0d5252c",
   "metadata": {},
   "outputs": [],
   "source": [
    "arr1[0] = 42\n",
    "arr1"
   ]
  },
  {
   "cell_type": "code",
   "execution_count": null,
   "id": "fd840210-dc81-489a-be78-2ed57d251b06",
   "metadata": {},
   "outputs": [],
   "source": [
    "df"
   ]
  },
  {
   "cell_type": "code",
   "execution_count": null,
   "id": "2659bdd6-f4d1-4228-a6a8-6bb67e8009f5",
   "metadata": {},
   "outputs": [],
   "source": [
    "arr = np.array([[1,2,3,4],[5,6,7,8]])\n",
    "arr"
   ]
  },
  {
   "cell_type": "code",
   "execution_count": null,
   "id": "8ec8850d-f6e6-4c73-a042-143d1e9170e5",
   "metadata": {},
   "outputs": [],
   "source": [
    "df = arr.copy()\n",
    "df"
   ]
  },
  {
   "cell_type": "code",
   "execution_count": null,
   "id": "6a9c0008-4830-4466-882c-70381afdfa04",
   "metadata": {},
   "outputs": [],
   "source": [
    "df[0,1] = 10\n",
    "arr[0,1] = 20"
   ]
  },
  {
   "cell_type": "code",
   "execution_count": null,
   "id": "4b104a2e-a3e6-4961-8cb5-d4337fe25c1f",
   "metadata": {},
   "outputs": [],
   "source": [
    "print(arr)\n",
    "print(df)"
   ]
  },
  {
   "cell_type": "markdown",
   "id": "32fa1be8-2835-4f5f-8c49-0cf987ca02c1",
   "metadata": {},
   "source": [
    "## View"
   ]
  },
  {
   "cell_type": "code",
   "execution_count": null,
   "id": "2a95f29f-ee41-4a43-b67e-a7eac65aa23e",
   "metadata": {},
   "outputs": [],
   "source": [
    "arr = np.array([1,2,3,4])\n",
    "arr"
   ]
  },
  {
   "cell_type": "code",
   "execution_count": null,
   "id": "e656c5e0-60ce-41e0-a3ac-a2d9d8134575",
   "metadata": {},
   "outputs": [],
   "source": [
    "df = arr.view()\n",
    "df"
   ]
  },
  {
   "cell_type": "code",
   "execution_count": null,
   "id": "009b5746-eef3-41ad-ab87-2b06cf7aa7b0",
   "metadata": {},
   "outputs": [],
   "source": [
    "arr[0] = 15"
   ]
  },
  {
   "cell_type": "code",
   "execution_count": null,
   "id": "d47e1d98-4cb2-4190-afc0-33d3e3ba451b",
   "metadata": {},
   "outputs": [],
   "source": [
    "print(arr)\n",
    "print(df)"
   ]
  },
  {
   "cell_type": "code",
   "execution_count": null,
   "id": "14d8b019-d7c5-44e9-a7b9-d9e7da6caef3",
   "metadata": {},
   "outputs": [],
   "source": [
    "df[2] = 30"
   ]
  },
  {
   "cell_type": "code",
   "execution_count": null,
   "id": "f9231468-7586-4fcb-9b44-5193d9f0b876",
   "metadata": {},
   "outputs": [],
   "source": [
    "print(arr)\n",
    "print(df)"
   ]
  },
  {
   "cell_type": "markdown",
   "id": "6219784d-3ad6-467d-89f5-900bc12f2624",
   "metadata": {},
   "source": [
    "## Check View And Copy"
   ]
  },
  {
   "cell_type": "code",
   "execution_count": null,
   "id": "53b43ccc-2dd6-4b33-a754-09e78b42a908",
   "metadata": {},
   "outputs": [],
   "source": [
    "print(df1.base)"
   ]
  },
  {
   "cell_type": "code",
   "execution_count": null,
   "id": "47a673fe-8381-41bc-b003-9d6d95e2b502",
   "metadata": {},
   "outputs": [],
   "source": [
    "print(df.base)"
   ]
  },
  {
   "cell_type": "markdown",
   "id": "411f50e5-b48e-4b0d-bf7f-35cacb2317bd",
   "metadata": {},
   "source": [
    "## Reshape"
   ]
  },
  {
   "cell_type": "code",
   "execution_count": null,
   "id": "11902ca0-c9fd-464e-82b0-a92675b3fed5",
   "metadata": {},
   "outputs": [],
   "source": [
    "arr = np.arange(1,11)\n",
    "arr"
   ]
  },
  {
   "cell_type": "code",
   "execution_count": null,
   "id": "9f29d3ed-de8f-4ffa-ad81-465556f0b6f6",
   "metadata": {},
   "outputs": [],
   "source": [
    "newarr = arr.reshape(2,5)\n",
    "newarr"
   ]
  },
  {
   "cell_type": "code",
   "execution_count": null,
   "id": "bc499d01-2e18-4696-8f58-acec6c377f0a",
   "metadata": {},
   "outputs": [],
   "source": [
    "arr = np.arange(1,16)\n",
    "arr"
   ]
  },
  {
   "cell_type": "code",
   "execution_count": null,
   "id": "a23d9c21-753e-4518-bcca-aa42f8597aef",
   "metadata": {},
   "outputs": [],
   "source": [
    "newarr = arr.reshape(3,5)\n",
    "newarr"
   ]
  },
  {
   "cell_type": "code",
   "execution_count": null,
   "id": "cb0d16f9-c6bf-44ac-87de-66319348fd80",
   "metadata": {},
   "outputs": [],
   "source": [
    "arr = np.arange(1,13)\n",
    "arr"
   ]
  },
  {
   "cell_type": "code",
   "execution_count": null,
   "id": "e3de0ab3-ac81-4bb6-8a6e-201d5f911eee",
   "metadata": {},
   "outputs": [],
   "source": [
    "newarr = arr.reshape(2,6)\n",
    "newarr"
   ]
  },
  {
   "cell_type": "code",
   "execution_count": null,
   "id": "b7eb340a-d224-41a6-847e-afcfa4ba7a1c",
   "metadata": {},
   "outputs": [],
   "source": [
    "newarr = arr.reshape(2,2,3)\n",
    "newarr"
   ]
  },
  {
   "cell_type": "code",
   "execution_count": null,
   "id": "5a48b7cb-98b5-42fe-a3f5-91d63ab66a81",
   "metadata": {},
   "outputs": [],
   "source": [
    "x = newarr.reshape(-1)\n",
    "x"
   ]
  },
  {
   "cell_type": "code",
   "execution_count": null,
   "id": "841e14c5-68fb-4f37-ae3f-2d389c91c10b",
   "metadata": {},
   "outputs": [],
   "source": [
    "arr = np.array([[1,2,3],[4,5,6]])\n",
    "arr"
   ]
  },
  {
   "cell_type": "code",
   "execution_count": null,
   "id": "c70619dc-50dc-4a73-81c7-d8df7ecc1a58",
   "metadata": {},
   "outputs": [],
   "source": [
    "newarr = arr.reshape(-1)\n",
    "newarr"
   ]
  },
  {
   "cell_type": "markdown",
   "id": "d166d61d-a679-4c8f-9740-498198688a75",
   "metadata": {},
   "source": [
    "## Other functions that commonly used for array creation"
   ]
  },
  {
   "cell_type": "markdown",
   "id": "a5ac58d2-acec-4a04-bc20-a36f91e92fbf",
   "metadata": {},
   "source": [
    "## 1. Areange()"
   ]
  },
  {
   "cell_type": "code",
   "execution_count": null,
   "id": "7ddf31d2-6134-4622-90a5-8bc49dc9bc48",
   "metadata": {},
   "outputs": [],
   "source": [
    "arr = np.arange(0,11,2)\n",
    "arr"
   ]
  },
  {
   "cell_type": "markdown",
   "id": "cee353aa-779d-41d1-8e02-5be2d984723b",
   "metadata": {},
   "source": [
    "## 2. ones()"
   ]
  },
  {
   "cell_type": "code",
   "execution_count": null,
   "id": "3e935f28-fc8a-4104-91c0-918cc92c5080",
   "metadata": {},
   "outputs": [],
   "source": [
    "arr = np.ones((3,4),dtype = 'i')\n",
    "arr"
   ]
  },
  {
   "cell_type": "code",
   "execution_count": null,
   "id": "ec5cf9bd-0d63-4b3e-8e3e-e41c698fbe31",
   "metadata": {},
   "outputs": [],
   "source": [
    "arr = np.ones((3,3,4),dtype = 'i')\n",
    "arr"
   ]
  },
  {
   "cell_type": "markdown",
   "id": "4bf90ef9-3490-4df4-91f4-59ae13bdcdd1",
   "metadata": {},
   "source": [
    "## 3.zeros()"
   ]
  },
  {
   "cell_type": "code",
   "execution_count": null,
   "id": "ef4c3b5d-4338-4f3e-965d-1167395a3203",
   "metadata": {},
   "outputs": [],
   "source": [
    "arr = np.zeros((3,4),dtype = 'i')\n",
    "arr"
   ]
  },
  {
   "cell_type": "code",
   "execution_count": null,
   "id": "4e435446-d5a5-4ca7-8667-e70ce331f0ec",
   "metadata": {},
   "outputs": [],
   "source": [
    "arr = np.zeros((3,3,4),dtype = 'i')\n",
    "arr"
   ]
  },
  {
   "cell_type": "markdown",
   "id": "2c2789b3-8f6f-4a59-99ea-47e51a5e9ad1",
   "metadata": {},
   "source": [
    "## 4.linspace()"
   ]
  },
  {
   "cell_type": "code",
   "execution_count": null,
   "id": "f43436d4-0b95-4f63-a2b7-5be8810cb93f",
   "metadata": {},
   "outputs": [],
   "source": [
    "arr = np.linspace(0,1,5)\n",
    "arr"
   ]
  },
  {
   "cell_type": "code",
   "execution_count": null,
   "id": "9078eec0-c86c-492e-b3b5-f1eefedf29e0",
   "metadata": {},
   "outputs": [],
   "source": [
    "arr = np.linspace(0,10,5)\n",
    "arr"
   ]
  },
  {
   "cell_type": "markdown",
   "id": "f72bb1fe-3232-4e44-8c51-d1e7fb1296e2",
   "metadata": {},
   "source": [
    "## 5.Diag()"
   ]
  },
  {
   "cell_type": "code",
   "execution_count": null,
   "id": "8975d631-48d8-4281-84b0-19b3cccd9cfe",
   "metadata": {},
   "outputs": [],
   "source": [
    "arr = np.diag([1,2,3,4,5])\n",
    "arr"
   ]
  },
  {
   "cell_type": "code",
   "execution_count": null,
   "id": "046ccd1a-f47a-443a-851a-12f2df5869c0",
   "metadata": {},
   "outputs": [],
   "source": [
    "arr =  np.diag([4,5,6,7,8])\n",
    "arr"
   ]
  },
  {
   "cell_type": "markdown",
   "id": "e355fa09-b6a2-4136-b44c-a7cf89b50a03",
   "metadata": {},
   "source": [
    "## 6. eye()"
   ]
  },
  {
   "cell_type": "code",
   "execution_count": null,
   "id": "b2f25cb0-98e8-41f6-92a6-131f12419123",
   "metadata": {},
   "outputs": [],
   "source": [
    "arr = np.eye(4)\n",
    "arr"
   ]
  },
  {
   "cell_type": "code",
   "execution_count": null,
   "id": "a1e0b938-80c6-4177-8db1-ea6b2e6abc78",
   "metadata": {},
   "outputs": [],
   "source": [
    "arr = np.eye(10)\n",
    "arr"
   ]
  },
  {
   "cell_type": "markdown",
   "id": "2b465d47-f412-4ca8-a6f0-b28a8b0244d5",
   "metadata": {},
   "source": [
    "## Mathematical Operations"
   ]
  },
  {
   "cell_type": "markdown",
   "id": "bfcfd3d7-aca7-4434-8bae-26b80728a4e5",
   "metadata": {},
   "source": [
    "## 1. Add"
   ]
  },
  {
   "cell_type": "code",
   "execution_count": null,
   "id": "441e7dbf-ec8f-40ff-9859-b6a6cf5472b0",
   "metadata": {},
   "outputs": [],
   "source": [
    "arr = np.array([1,2,3,4])\n",
    "arr1 = np.array([5,6,7,8])"
   ]
  },
  {
   "cell_type": "code",
   "execution_count": null,
   "id": "b3ac727e-1807-4144-9297-2f4a29204ccb",
   "metadata": {},
   "outputs": [],
   "source": [
    "a = np.add(arr,arr1)\n",
    "a"
   ]
  },
  {
   "cell_type": "markdown",
   "id": "1dbbca12-8a60-4f6a-bd49-b3f1a643d609",
   "metadata": {},
   "source": [
    "## 2. subtract"
   ]
  },
  {
   "cell_type": "code",
   "execution_count": null,
   "id": "6ce3deab-f98e-46ce-bf8b-20bf2b63ee12",
   "metadata": {},
   "outputs": [],
   "source": [
    "b = np.subtract(arr1,arr)\n",
    "b"
   ]
  },
  {
   "cell_type": "code",
   "execution_count": null,
   "id": "4963ef10-2a78-4774-9347-a40ee2f98df2",
   "metadata": {},
   "outputs": [],
   "source": [
    "b = np.subtract(arr,arr1)\n",
    "b"
   ]
  },
  {
   "cell_type": "markdown",
   "id": "d148370e-79fe-4b82-b842-63c78959dee3",
   "metadata": {},
   "source": [
    "## 3. multiply"
   ]
  },
  {
   "cell_type": "code",
   "execution_count": null,
   "id": "9d0c3d1f-bee8-470c-b167-49d553e119c8",
   "metadata": {},
   "outputs": [],
   "source": [
    "c = np.multiply(arr,arr1)\n",
    "c"
   ]
  },
  {
   "cell_type": "markdown",
   "id": "b5b2a8f3-644b-4af1-8204-072240e0129d",
   "metadata": {},
   "source": [
    "## 4. Dot"
   ]
  },
  {
   "cell_type": "code",
   "execution_count": null,
   "id": "38b4052f-47e5-4fbb-a5ea-ef05d9c5c1f8",
   "metadata": {},
   "outputs": [],
   "source": [
    "d = np.dot(arr,arr1)"
   ]
  },
  {
   "cell_type": "code",
   "execution_count": null,
   "id": "ab290fad-8ae1-49a2-9287-6f8edc6a8e5f",
   "metadata": {},
   "outputs": [],
   "source": [
    "d"
   ]
  },
  {
   "cell_type": "markdown",
   "id": "674d0a29-c2e8-4a74-b004-352927605eba",
   "metadata": {},
   "source": [
    "## 5.sum()"
   ]
  },
  {
   "cell_type": "code",
   "execution_count": null,
   "id": "109a7a16-a29f-4a7a-9162-0fa052f9a4a5",
   "metadata": {},
   "outputs": [],
   "source": [
    "a = np.sum(arr)"
   ]
  },
  {
   "cell_type": "code",
   "execution_count": null,
   "id": "681d378b-8422-439b-a2e8-1d55cf5262d4",
   "metadata": {},
   "outputs": [],
   "source": [
    "a"
   ]
  },
  {
   "cell_type": "markdown",
   "id": "c738043d-7733-45cc-977d-3efc4bfabc55",
   "metadata": {},
   "source": [
    "## mean()"
   ]
  },
  {
   "cell_type": "code",
   "execution_count": null,
   "id": "82ec2ae4-3e65-478d-a5a9-2f89876f107b",
   "metadata": {},
   "outputs": [],
   "source": [
    "a = np.mean(arr)"
   ]
  },
  {
   "cell_type": "code",
   "execution_count": null,
   "id": "417d01b2-42af-4b64-81a7-237885e32ee2",
   "metadata": {},
   "outputs": [],
   "source": [
    "a"
   ]
  },
  {
   "cell_type": "markdown",
   "id": "e150cea8-3833-4498-b805-6b03c65adee3",
   "metadata": {},
   "source": [
    "## Standard deviation "
   ]
  },
  {
   "cell_type": "code",
   "execution_count": null,
   "id": "b0877b2f-67f2-46a9-8ed5-d8ccb31331c4",
   "metadata": {},
   "outputs": [],
   "source": [
    "a = np.std(arr)"
   ]
  },
  {
   "cell_type": "code",
   "execution_count": null,
   "id": "76a28d9b-fe37-4722-ad79-39036a42a9a4",
   "metadata": {},
   "outputs": [],
   "source": [
    "a"
   ]
  },
  {
   "cell_type": "markdown",
   "id": "61d9fe85-22ba-4e91-895e-d8b4092c124d",
   "metadata": {},
   "source": [
    "## min"
   ]
  },
  {
   "cell_type": "code",
   "execution_count": null,
   "id": "e4467626-2e68-49bd-9180-b9537c6cb46a",
   "metadata": {},
   "outputs": [],
   "source": [
    "a = np.min(arr)"
   ]
  },
  {
   "cell_type": "code",
   "execution_count": null,
   "id": "81ce4191-976e-4a91-b584-e8cc1d17a021",
   "metadata": {},
   "outputs": [],
   "source": [
    "a"
   ]
  },
  {
   "cell_type": "markdown",
   "id": "beb80a2c-ae6c-4b5f-b7ed-981c3672f00c",
   "metadata": {},
   "source": [
    "## max"
   ]
  },
  {
   "cell_type": "code",
   "execution_count": null,
   "id": "9d3e31a3-662e-4d4b-9638-615dd44a028a",
   "metadata": {},
   "outputs": [],
   "source": [
    "a = np.max(arr)"
   ]
  },
  {
   "cell_type": "code",
   "execution_count": null,
   "id": "c8a7d3f8-7c3a-46b7-af30-2dbd29865cc8",
   "metadata": {},
   "outputs": [],
   "source": [
    "a"
   ]
  },
  {
   "cell_type": "markdown",
   "id": "c3a14027-b99b-4ecf-91e7-e808403fd0a0",
   "metadata": {},
   "source": [
    "## variance"
   ]
  },
  {
   "cell_type": "code",
   "execution_count": null,
   "id": "e28a479c-5c43-4833-a980-188e911d4e9d",
   "metadata": {},
   "outputs": [],
   "source": [
    "a = np.var(arr)"
   ]
  },
  {
   "cell_type": "code",
   "execution_count": null,
   "id": "0d083084-c455-414a-8ee9-74c1cc69169e",
   "metadata": {},
   "outputs": [],
   "source": [
    "a"
   ]
  },
  {
   "cell_type": "markdown",
   "id": "1f51d40a-e9db-427d-8e58-b6746b43c196",
   "metadata": {},
   "source": [
    "## Iterating Arrays"
   ]
  },
  {
   "cell_type": "markdown",
   "id": "49ba8739-6eb9-426e-aa8a-2cf34cbf6e41",
   "metadata": {},
   "source": [
    "## nditer()"
   ]
  },
  {
   "cell_type": "code",
   "execution_count": null,
   "id": "c29e427f-407f-41cb-91f3-07b999c25744",
   "metadata": {},
   "outputs": [],
   "source": [
    "arr = np.array([[[1, 2], [3, 4]], [[5, 6], [7, 8]]])"
   ]
  },
  {
   "cell_type": "code",
   "execution_count": null,
   "id": "e145ee88-d6b9-4b14-99ef-8f156b487491",
   "metadata": {},
   "outputs": [],
   "source": [
    "for x in np.nditer(arr):\n",
    "    print(x)"
   ]
  },
  {
   "cell_type": "code",
   "execution_count": null,
   "id": "674c0581-1092-4061-941c-d026d61842e7",
   "metadata": {},
   "outputs": [],
   "source": [
    "arr = np.array([[1,2,3,4],[5,6,7,8],[9,10,11,12]])"
   ]
  },
  {
   "cell_type": "code",
   "execution_count": null,
   "id": "e81c1123-6743-427f-a4d1-ca1095779874",
   "metadata": {},
   "outputs": [],
   "source": [
    "for x in np.nditer(arr):\n",
    "    print(x)"
   ]
  },
  {
   "cell_type": "markdown",
   "id": "bb0bf4c9-67df-4274-b6b5-d9776a3da039",
   "metadata": {},
   "source": [
    "## ndenumerate()"
   ]
  },
  {
   "cell_type": "code",
   "execution_count": null,
   "id": "25e9c42f-a7f2-429b-98cc-723a2a3129fa",
   "metadata": {},
   "outputs": [],
   "source": [
    "arr = np.array([1,2,3,4])\n",
    "arr"
   ]
  },
  {
   "cell_type": "code",
   "execution_count": null,
   "id": "e49a3534-4197-493d-a1f0-41a7fd581aea",
   "metadata": {},
   "outputs": [],
   "source": [
    "for x in np.ndenumerate(arr):\n",
    "    print(x)"
   ]
  },
  {
   "cell_type": "code",
   "execution_count": null,
   "id": "c9a92ada-3a20-4f0f-81b4-12d28cbb8f3e",
   "metadata": {},
   "outputs": [],
   "source": [
    "arr = np.array([[[1, 2], [3, 4]], [[5, 6], [7, 8]]])"
   ]
  },
  {
   "cell_type": "code",
   "execution_count": null,
   "id": "c1e03245-a644-4896-81f9-cc61feff8a09",
   "metadata": {},
   "outputs": [],
   "source": [
    "for x in np.ndenumerate(arr):\n",
    "    print(x)"
   ]
  },
  {
   "cell_type": "markdown",
   "id": "263f7599-082a-4c78-ae23-c249ff8040b8",
   "metadata": {},
   "source": [
    "## Joining NumPy Arrays\n",
    "## Concatenate()"
   ]
  },
  {
   "cell_type": "code",
   "execution_count": null,
   "id": "8d412e8c-0ec1-494d-b62f-5484e7608e23",
   "metadata": {},
   "outputs": [],
   "source": [
    "arr = np.array([1,2,3,4])\n",
    "arr1 = np.array([5,6,7,8])"
   ]
  },
  {
   "cell_type": "code",
   "execution_count": null,
   "id": "05d0b2cb-d7f8-4107-97d6-9f70447b67ab",
   "metadata": {},
   "outputs": [],
   "source": [
    "a = np.concatenate((arr,arr1))"
   ]
  },
  {
   "cell_type": "code",
   "execution_count": null,
   "id": "5738a57a-5cf4-4d5e-a6ef-a94e40310a13",
   "metadata": {},
   "outputs": [],
   "source": [
    "a"
   ]
  },
  {
   "cell_type": "code",
   "execution_count": null,
   "id": "19689899-6b52-4796-8bea-e9736ccc3f8b",
   "metadata": {},
   "outputs": [],
   "source": [
    "arr1 = np.array([[2, 5,9], [4,1,3]])\n",
    "arr2 = np.array([[5,8,3], [4,6, 1]])\n"
   ]
  },
  {
   "cell_type": "code",
   "execution_count": null,
   "id": "c0c7cdc8-d903-41ce-8f9b-ef9a159f7979",
   "metadata": {},
   "outputs": [],
   "source": [
    "a = np.concatenate((arr1,arr2))\n",
    "a"
   ]
  },
  {
   "cell_type": "code",
   "execution_count": null,
   "id": "9f00f39b-2720-4156-8d57-a6a5dcb50d89",
   "metadata": {},
   "outputs": [],
   "source": [
    "a = np.concatenate((arr1,arr2),axis = 1)\n",
    "a"
   ]
  },
  {
   "cell_type": "markdown",
   "id": "f358de21-e30a-4338-9c74-cb207b3b7cb7",
   "metadata": {},
   "source": [
    "## Stack()"
   ]
  },
  {
   "cell_type": "code",
   "execution_count": 202,
   "id": "13984ec4-0e26-4ac3-83fc-ac75c03411e9",
   "metadata": {},
   "outputs": [],
   "source": [
    "arr1 = np.array([1,2,3,4])\n",
    "arr2 = np.array([5,6,7,8])"
   ]
  },
  {
   "cell_type": "code",
   "execution_count": 206,
   "id": "bbc85a8c-6969-4aa0-953d-d3f1ab702bf0",
   "metadata": {},
   "outputs": [
    {
     "data": {
      "text/plain": [
       "array([[1, 2, 3, 4],\n",
       "       [5, 6, 7, 8]])"
      ]
     },
     "execution_count": 206,
     "metadata": {},
     "output_type": "execute_result"
    }
   ],
   "source": [
    "arr = np.stack((arr1,arr2))\n",
    "arr"
   ]
  },
  {
   "cell_type": "code",
   "execution_count": 208,
   "id": "32bb2d0f-7c25-4906-b360-dd1c69bcbbbf",
   "metadata": {},
   "outputs": [
    {
     "data": {
      "text/plain": [
       "array([[1, 5],\n",
       "       [2, 6],\n",
       "       [3, 7],\n",
       "       [4, 8]])"
      ]
     },
     "execution_count": 208,
     "metadata": {},
     "output_type": "execute_result"
    }
   ],
   "source": [
    "arr = np.stack((arr1,arr2),axis = 1)\n",
    "arr"
   ]
  },
  {
   "cell_type": "markdown",
   "id": "b4e7449a-6244-4ee8-a91f-cb69f6a51eeb",
   "metadata": {},
   "source": [
    "## hstack"
   ]
  },
  {
   "cell_type": "code",
   "execution_count": 211,
   "id": "1cc5bc3c-52f8-4100-b86a-453cfcdeff49",
   "metadata": {},
   "outputs": [],
   "source": [
    "arr1 = np.array([1,2,3,4])\n",
    "arr2 = np.array([5,6,7,8])"
   ]
  },
  {
   "cell_type": "code",
   "execution_count": 213,
   "id": "9a1aa0bd-841e-4342-a18f-e1340e15e2ea",
   "metadata": {},
   "outputs": [
    {
     "data": {
      "text/plain": [
       "array([1, 2, 3, 4, 5, 6, 7, 8])"
      ]
     },
     "execution_count": 213,
     "metadata": {},
     "output_type": "execute_result"
    }
   ],
   "source": [
    "arr = np.hstack((arr1,arr2))\n",
    "arr"
   ]
  },
  {
   "cell_type": "code",
   "execution_count": 217,
   "id": "35d9e297-9668-4567-99bb-0ed1ed2428d2",
   "metadata": {},
   "outputs": [
    {
     "data": {
      "text/plain": [
       "array([1, 2, 3, 4, 5, 6, 7, 8])"
      ]
     },
     "execution_count": 217,
     "metadata": {},
     "output_type": "execute_result"
    }
   ],
   "source": [
    "arr = np.hstack((arr1,arr2))\n",
    "arr"
   ]
  },
  {
   "cell_type": "markdown",
   "id": "37680f92-bc96-40ee-961c-27d18f8680e9",
   "metadata": {},
   "source": [
    "## vstack"
   ]
  },
  {
   "cell_type": "code",
   "execution_count": 220,
   "id": "41e407c6-ee03-4344-890a-88fb1e832051",
   "metadata": {},
   "outputs": [],
   "source": [
    "array1 = np.array([ [[1, 2, 3]], [[4, 5, 6]] ])\n",
    "array2 = np.array([[[7, 8, 9]], [[10, 11, 12]]])"
   ]
  },
  {
   "cell_type": "code",
   "execution_count": 224,
   "id": "cbd0070d-d228-4fcd-9342-2cd33acb0a18",
   "metadata": {},
   "outputs": [
    {
     "data": {
      "text/plain": [
       "array([[[ 1,  2,  3]],\n",
       "\n",
       "       [[ 4,  5,  6]],\n",
       "\n",
       "       [[ 7,  8,  9]],\n",
       "\n",
       "       [[10, 11, 12]]])"
      ]
     },
     "execution_count": 224,
     "metadata": {},
     "output_type": "execute_result"
    }
   ],
   "source": [
    "arr = np.vstack((array1,array2))\n",
    "arr"
   ]
  },
  {
   "cell_type": "markdown",
   "id": "25ca523c-4b47-4074-aeb9-cee861ee07a8",
   "metadata": {},
   "source": [
    "## dstack"
   ]
  },
  {
   "cell_type": "code",
   "execution_count": 229,
   "id": "7773ddd4-0e38-4a27-82b3-03a2e350ec6e",
   "metadata": {},
   "outputs": [],
   "source": [
    "array1 = np.array([[1, 2, 3], [4, 5, 6]])\n",
    "array2 = np.array([[7, 8, 9], [10, 11, 12]])\n"
   ]
  },
  {
   "cell_type": "code",
   "execution_count": 233,
   "id": "2c150627-37e0-4499-b33d-11162a7b6520",
   "metadata": {},
   "outputs": [
    {
     "data": {
      "text/plain": [
       "array([[[ 1,  7],\n",
       "        [ 2,  8],\n",
       "        [ 3,  9]],\n",
       "\n",
       "       [[ 4, 10],\n",
       "        [ 5, 11],\n",
       "        [ 6, 12]]])"
      ]
     },
     "execution_count": 233,
     "metadata": {},
     "output_type": "execute_result"
    }
   ],
   "source": [
    "arr = np.dstack((array1,array2))\n",
    "arr"
   ]
  },
  {
   "cell_type": "code",
   "execution_count": 239,
   "id": "06ba63d8-23a8-44fe-993b-0a4db0f4f787",
   "metadata": {},
   "outputs": [],
   "source": [
    "array1 = np.array([[[1, 2], [3, 4]], [[5, 6], [7, 8]]])\n",
    "array2 = np.array([[[9, 10], [11, 12]], [[13, 14], [15, 16]]])\n"
   ]
  },
  {
   "cell_type": "code",
   "execution_count": 241,
   "id": "382bf32c-0709-460f-a367-c4d68f1c2d50",
   "metadata": {},
   "outputs": [
    {
     "data": {
      "text/plain": [
       "array([[[ 1,  2,  9, 10],\n",
       "        [ 3,  4, 11, 12]],\n",
       "\n",
       "       [[ 5,  6, 13, 14],\n",
       "        [ 7,  8, 15, 16]]])"
      ]
     },
     "execution_count": 241,
     "metadata": {},
     "output_type": "execute_result"
    }
   ],
   "source": [
    "arr = np.dstack((array1,array2))\n",
    "arr"
   ]
  },
  {
   "cell_type": "markdown",
   "id": "31123df6-28b0-448b-aa10-3cbe6aa47e85",
   "metadata": {},
   "source": [
    "## Split()"
   ]
  },
  {
   "cell_type": "code",
   "execution_count": 244,
   "id": "c1d000d3-9ce3-4110-be3d-3cfac529b501",
   "metadata": {},
   "outputs": [],
   "source": [
    "arr = np.array([1, 2, 3, 4, 5, 6])"
   ]
  },
  {
   "cell_type": "code",
   "execution_count": 248,
   "id": "c300e60f-3c7f-4047-9826-0ec666c1663b",
   "metadata": {},
   "outputs": [
    {
     "data": {
      "text/plain": [
       "[array([1, 2, 3]), array([4, 5, 6])]"
      ]
     },
     "execution_count": 248,
     "metadata": {},
     "output_type": "execute_result"
    }
   ],
   "source": [
    "arr1 = np.array_split(arr,2)\n",
    "arr1"
   ]
  },
  {
   "cell_type": "code",
   "execution_count": 250,
   "id": "13012149-8323-4b2e-8a26-5aa5876c9ba3",
   "metadata": {},
   "outputs": [
    {
     "data": {
      "text/plain": [
       "[array([1, 2]), array([3, 4]), array([5, 6])]"
      ]
     },
     "execution_count": 250,
     "metadata": {},
     "output_type": "execute_result"
    }
   ],
   "source": [
    "arr1 = np.array_split(arr,3)\n",
    "arr1"
   ]
  },
  {
   "cell_type": "code",
   "execution_count": 254,
   "id": "bb31ae58-0fcb-410c-86ef-e7516c961cf2",
   "metadata": {},
   "outputs": [
    {
     "data": {
      "text/plain": [
       "array([[ 1,  2,  3,  4],\n",
       "       [ 5,  6,  7,  8],\n",
       "       [ 9, 10, 11, 12]])"
      ]
     },
     "execution_count": 254,
     "metadata": {},
     "output_type": "execute_result"
    }
   ],
   "source": [
    "arr = np.array([[1, 2, 3, 4], [5, 6, 7, 8], [9, 10, 11, 12]])\n",
    "arr"
   ]
  },
  {
   "cell_type": "code",
   "execution_count": 260,
   "id": "a135af3c-4ba6-4925-8041-85318d9c0406",
   "metadata": {},
   "outputs": [
    {
     "data": {
      "text/plain": [
       "[array([[ 1,  2],\n",
       "        [ 5,  6],\n",
       "        [ 9, 10]]),\n",
       " array([[ 3,  4],\n",
       "        [ 7,  8],\n",
       "        [11, 12]])]"
      ]
     },
     "execution_count": 260,
     "metadata": {},
     "output_type": "execute_result"
    }
   ],
   "source": [
    "arr1 = np.array_split(arr,2,axis = 1)\n",
    "arr1"
   ]
  },
  {
   "cell_type": "code",
   "execution_count": null,
   "id": "b05e490f-b9dd-4fd6-9e2d-3712aae8311b",
   "metadata": {},
   "outputs": [],
   "source": []
  }
 ],
 "metadata": {
  "kernelspec": {
   "display_name": "Python 3 (ipykernel)",
   "language": "python",
   "name": "python3"
  },
  "language_info": {
   "codemirror_mode": {
    "name": "ipython",
    "version": 3
   },
   "file_extension": ".py",
   "mimetype": "text/x-python",
   "name": "python",
   "nbconvert_exporter": "python",
   "pygments_lexer": "ipython3",
   "version": "3.12.4"
  }
 },
 "nbformat": 4,
 "nbformat_minor": 5
}
