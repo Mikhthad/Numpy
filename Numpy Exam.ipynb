{
 "cells": [
  {
   "cell_type": "code",
   "execution_count": 1,
   "id": "db243f57-0a9c-48f6-b146-5631dd99ae32",
   "metadata": {},
   "outputs": [],
   "source": [
    "import numpy as np"
   ]
  },
  {
   "cell_type": "markdown",
   "id": "ae549717-a705-40ee-be67-124c02191c63",
   "metadata": {},
   "source": [
    "## 1.\tExplain the difference between deep copy and shallow copy in NumPy arrays."
   ]
  },
  {
   "cell_type": "markdown",
   "id": "0551121e-5303-47f6-8cd7-30c2c3c47974",
   "metadata": {},
   "source": [
    "### Deep Copy\n",
    "Definition: A deep copy creates a new object and recursively copies all objects found in the original. It duplicates everything, including nested objects.\n",
    "### Shallow Copy\n",
    "Definition: A shallow copy creates a new object, but inserts references into it to the objects found in the original. It copies the outer structure but not the nested objects."
   ]
  },
  {
   "cell_type": "markdown",
   "id": "317a04e6-db43-451a-a4a1-caf0f42b206a",
   "metadata": {},
   "source": [
    "## 2. Explain the difference between array and list?"
   ]
  },
  {
   "cell_type": "markdown",
   "id": "a2f2806a-7b04-4714-999e-2bc6d6291d6e",
   "metadata": {},
   "source": [
    "### list\n",
    "* a list contain different types of data types.\n",
    "* list have huge memory usage\n",
    "### array\n",
    "* array contain same data type\n",
    "* less memory usage\n",
    "* stored in contigenously location\n",
    "* item wise computetion is possible"
   ]
  },
  {
   "cell_type": "markdown",
   "id": "412d10c4-e846-430b-bc27-e217f3564978",
   "metadata": {},
   "source": [
    "## 3.\tGiven an array a = np.array([10, 20, 30]), how do you square every element in the array?"
   ]
  },
  {
   "cell_type": "code",
   "execution_count": 6,
   "id": "612d9613-e3c0-4b2f-a750-3de41e2b19bb",
   "metadata": {},
   "outputs": [
    {
     "data": {
      "text/plain": [
       "array([10, 20, 30])"
      ]
     },
     "execution_count": 6,
     "metadata": {},
     "output_type": "execute_result"
    }
   ],
   "source": [
    "arr = np.array([10, 20, 30])\n",
    "arr"
   ]
  },
  {
   "cell_type": "code",
   "execution_count": 10,
   "id": "503e38d4-1fbf-4557-b551-8b80743ccf87",
   "metadata": {},
   "outputs": [
    {
     "data": {
      "text/plain": [
       "array([100, 400, 900])"
      ]
     },
     "execution_count": 10,
     "metadata": {},
     "output_type": "execute_result"
    }
   ],
   "source": [
    "sq = np.square(arr)\n",
    "sq"
   ]
  },
  {
   "cell_type": "markdown",
   "id": "79ddd74d-ca27-4480-ba25-e077b5611d81",
   "metadata": {},
   "source": [
    "## 4.\tHow do you create an array of zeros with shape (3, 4)?"
   ]
  },
  {
   "cell_type": "code",
   "execution_count": 20,
   "id": "4d993de8-5e22-4fd2-aafd-5cb5e72c60d7",
   "metadata": {},
   "outputs": [
    {
     "data": {
      "text/plain": [
       "array([[0., 0., 0., 0.],\n",
       "       [0., 0., 0., 0.],\n",
       "       [0., 0., 0., 0.]])"
      ]
     },
     "execution_count": 20,
     "metadata": {},
     "output_type": "execute_result"
    }
   ],
   "source": [
    "arr = np.zeros((3,4))\n",
    "arr"
   ]
  },
  {
   "cell_type": "markdown",
   "id": "609707fa-dedf-4191-a21c-b305f5fff35b",
   "metadata": {},
   "source": [
    "## 5.\tGiven the 1D array a = np.array([1, 2, 3, 4, 5]), how do you calculate the cumulative sum of the elements?"
   ]
  },
  {
   "cell_type": "code",
   "execution_count": 23,
   "id": "528cad75-01a5-4808-b803-056f7b1d5e65",
   "metadata": {},
   "outputs": [
    {
     "data": {
      "text/plain": [
       "array([1, 2, 3, 4, 5])"
      ]
     },
     "execution_count": 23,
     "metadata": {},
     "output_type": "execute_result"
    }
   ],
   "source": [
    "cm = np.array([1, 2, 3, 4, 5])\n",
    "cm"
   ]
  },
  {
   "cell_type": "code",
   "execution_count": 42,
   "id": "d2eb2f74-c9d7-4f38-b65e-37ec1195fbc0",
   "metadata": {},
   "outputs": [
    {
     "data": {
      "text/plain": [
       "array([ 1,  3,  6, 10, 15])"
      ]
     },
     "execution_count": 42,
     "metadata": {},
     "output_type": "execute_result"
    }
   ],
   "source": [
    "arr = cm.cumsum()\n",
    "arr"
   ]
  },
  {
   "cell_type": "markdown",
   "id": "1ebfbd2b-8373-4663-8833-06eaead06d63",
   "metadata": {},
   "source": [
    "## 6.\tHow do you reverse the elements in a NumPy array a = np.array([1, 2, 3, 4, 5])?"
   ]
  },
  {
   "cell_type": "code",
   "execution_count": 34,
   "id": "5f9e701b-1243-42f8-ae1b-8d20b5a84d3d",
   "metadata": {},
   "outputs": [
    {
     "data": {
      "text/plain": [
       "array([1, 2, 3, 4, 5])"
      ]
     },
     "execution_count": 34,
     "metadata": {},
     "output_type": "execute_result"
    }
   ],
   "source": [
    "array = np.array([1, 2, 3, 4, 5])\n",
    "array"
   ]
  },
  {
   "cell_type": "code",
   "execution_count": 51,
   "id": "f52a78a1-8326-4c97-bd93-1684c5a019b9",
   "metadata": {},
   "outputs": [
    {
     "data": {
      "text/plain": [
       "array([5, 4, 3, 2, 1])"
      ]
     },
     "execution_count": 51,
     "metadata": {},
     "output_type": "execute_result"
    }
   ],
   "source": [
    "array[::-1]"
   ]
  },
  {
   "cell_type": "markdown",
   "id": "8c86fdd0-4501-4ca7-89a1-9aecb12948bf",
   "metadata": {},
   "source": [
    "## 7.\tHow do you find the indices of elements that are greater than 4 in the array a = np.array([1, 2, 3, 4, 5, 6, 7])?\n"
   ]
  },
  {
   "cell_type": "code",
   "execution_count": 45,
   "id": "ff48bde9-1774-46f2-9e0e-85b58edc6049",
   "metadata": {},
   "outputs": [
    {
     "data": {
      "text/plain": [
       "array([1, 2, 3, 4, 5, 6, 7])"
      ]
     },
     "execution_count": 45,
     "metadata": {},
     "output_type": "execute_result"
    }
   ],
   "source": [
    "arr = np.array([1, 2, 3, 4, 5, 6, 7])\n",
    "arr"
   ]
  },
  {
   "cell_type": "code",
   "execution_count": 92,
   "id": "96d6d71c-d3b5-49a8-8075-1fd9a581b610",
   "metadata": {},
   "outputs": [
    {
     "name": "stdout",
     "output_type": "stream",
     "text": [
      "(4,) 5\n",
      "(5,) 6\n",
      "(6,) 7\n"
     ]
    }
   ],
   "source": [
    "for idx,x in np.ndenumerate(arr):\n",
    "   if x>4:\n",
    "       print(idx,x)\n",
    "      "
   ]
  },
  {
   "cell_type": "markdown",
   "id": "6f45497a-f1af-4441-ad85-b51f529b3c6a",
   "metadata": {},
   "source": [
    "## 8.\tHow do you create a 2D array with random floating-point numbers between 0 and 1 of shape (3, 3)?"
   ]
  },
  {
   "cell_type": "code",
   "execution_count": 97,
   "id": "def6b3c4-f248-4f64-b6b3-82e1be00b0b1",
   "metadata": {},
   "outputs": [
    {
     "data": {
      "text/plain": [
       "array([[0.67457996, 0.79399947, 0.38741513],\n",
       "       [0.2930919 , 0.37908106, 0.98877965],\n",
       "       [0.70739244, 0.26795969, 0.49276949]])"
      ]
     },
     "execution_count": 97,
     "metadata": {},
     "output_type": "execute_result"
    }
   ],
   "source": [
    "arr = np.random.rand(3,3)\n",
    "arr"
   ]
  },
  {
   "cell_type": "markdown",
   "id": "68c73523-eb8b-41c3-8d0b-c32af17de138",
   "metadata": {},
   "source": [
    "## 9.\tExtract the elements at indices [0, 2, 4] from the array a = np.array([10, 20, 30, 40, 50])."
   ]
  },
  {
   "cell_type": "code",
   "execution_count": 100,
   "id": "b5c6c6a5-9a49-494a-ad9a-0b2f4099bdec",
   "metadata": {},
   "outputs": [
    {
     "data": {
      "text/plain": [
       "array([10, 20, 30, 40, 50])"
      ]
     },
     "execution_count": 100,
     "metadata": {},
     "output_type": "execute_result"
    }
   ],
   "source": [
    "a = np.array([10, 20, 30, 40, 50])\n",
    "a"
   ]
  },
  {
   "cell_type": "code",
   "execution_count": 108,
   "id": "16f6e726-d561-41bc-bff1-6e926e256635",
   "metadata": {},
   "outputs": [
    {
     "data": {
      "text/plain": [
       "array([10, 30, 50])"
      ]
     },
     "execution_count": 108,
     "metadata": {},
     "output_type": "execute_result"
    }
   ],
   "source": [
    "a[0::2]"
   ]
  },
  {
   "cell_type": "markdown",
   "id": "fb1c04c7-5025-44bc-9124-671cc7c55872",
   "metadata": {},
   "source": [
    "## 10.\tGiven the array a = np.array([10, 20, 30, 40]), how do you normalize the array so that its values are between 0 and 1?"
   ]
  },
  {
   "cell_type": "code",
   "execution_count": 120,
   "id": "1a9f3bcc-a189-41f4-b802-0dd01bd5c776",
   "metadata": {},
   "outputs": [
    {
     "data": {
      "text/plain": [
       "array([10, 20, 30, 40])"
      ]
     },
     "execution_count": 120,
     "metadata": {},
     "output_type": "execute_result"
    }
   ],
   "source": [
    "a = np.array([10, 20, 30, 40])\n",
    "a"
   ]
  },
  {
   "cell_type": "code",
   "execution_count": 122,
   "id": "c1cfe5c7-6419-42af-8fc2-7564d1c7d4a9",
   "metadata": {},
   "outputs": [
    {
     "data": {
      "text/plain": [
       "array([0.        , 0.33333333, 0.66666667, 1.        ])"
      ]
     },
     "execution_count": 122,
     "metadata": {},
     "output_type": "execute_result"
    }
   ],
   "source": [
    "b = (a-np.min(a))/(np.max(a)-np.min(a))\n",
    "b"
   ]
  },
  {
   "cell_type": "code",
   "execution_count": null,
   "id": "cd88a3b7-6ca3-4584-9b09-171da2e245df",
   "metadata": {},
   "outputs": [],
   "source": []
  },
  {
   "cell_type": "markdown",
   "id": "6f5edb00-cb11-483d-adf8-05cb48140aa9",
   "metadata": {},
   "source": [
    "## 11.\tHow do you concatenate two arrays a = np.array([1, 2, 3]) and b = np.array([4, 5, 6]) along the first axis?"
   ]
  },
  {
   "cell_type": "code",
   "execution_count": 128,
   "id": "a69ec1cd-e3c2-4b89-8e6f-6366e77655c1",
   "metadata": {},
   "outputs": [],
   "source": [
    "a = np.array([1, 2, 3]) \n",
    "b = np.array([4, 5, 6]) "
   ]
  },
  {
   "cell_type": "code",
   "execution_count": 132,
   "id": "7eb5d170-4e54-4d97-9211-c8e6e87ff6f3",
   "metadata": {},
   "outputs": [
    {
     "data": {
      "text/plain": [
       "array([1, 2, 3, 4, 5, 6])"
      ]
     },
     "execution_count": 132,
     "metadata": {},
     "output_type": "execute_result"
    }
   ],
   "source": [
    "arr = np.concatenate((a,b),axis = 0)\n",
    "arr"
   ]
  },
  {
   "cell_type": "markdown",
   "id": "cdc277e7-c57e-4dd9-a7ca-4f376f810bbc",
   "metadata": {},
   "source": [
    "## 12.\tHow do you find the dot product of two arrays a = np.array([1, 2, 3]) and b = np.array([4, 5, 6])?"
   ]
  },
  {
   "cell_type": "code",
   "execution_count": 135,
   "id": "f4ca65b8-7f04-49a4-8ede-8d733ac2dc8a",
   "metadata": {},
   "outputs": [],
   "source": [
    "a = np.array([1, 2, 3])\n",
    "b = np.array([4, 5, 6])"
   ]
  },
  {
   "cell_type": "code",
   "execution_count": 143,
   "id": "a0b527d1-17b3-4391-92f2-5d68d30bac96",
   "metadata": {},
   "outputs": [
    {
     "data": {
      "text/plain": [
       "32"
      ]
     },
     "execution_count": 143,
     "metadata": {},
     "output_type": "execute_result"
    }
   ],
   "source": [
    "arr = np.dot(a,b)\n",
    "arr"
   ]
  },
  {
   "cell_type": "markdown",
   "id": "a6e3cf03-c13b-4d5b-9c88-8149ee81ff58",
   "metadata": {},
   "source": [
    "## 13.\tHow do you create an identity matrix of size 4x4?"
   ]
  },
  {
   "cell_type": "code",
   "execution_count": 150,
   "id": "cad1ef40-4698-4899-99df-a0538a1aa1e0",
   "metadata": {},
   "outputs": [
    {
     "data": {
      "text/plain": [
       "array([[1., 0., 0., 0.],\n",
       "       [0., 1., 0., 0.],\n",
       "       [0., 0., 1., 0.],\n",
       "       [0., 0., 0., 1.]])"
      ]
     },
     "execution_count": 150,
     "metadata": {},
     "output_type": "execute_result"
    }
   ],
   "source": [
    "arr = np.eye(4,4)\n",
    "arr"
   ]
  },
  {
   "cell_type": "markdown",
   "id": "dabdefcf-4311-4bde-8d26-7ddec95f0445",
   "metadata": {},
   "source": [
    "## 14.\tHow do you generate an array with random integers between 1 and 100, of shape (4, 4)?"
   ]
  },
  {
   "cell_type": "code",
   "execution_count": 159,
   "id": "5653331c-e8c7-493d-81ea-db1517902aa9",
   "metadata": {},
   "outputs": [
    {
     "data": {
      "text/plain": [
       "array([[83, 61, 14, 30],\n",
       "       [32, 14, 24, 26],\n",
       "       [98, 27, 18, 10],\n",
       "       [ 1, 13, 35, 25]])"
      ]
     },
     "execution_count": 159,
     "metadata": {},
     "output_type": "execute_result"
    }
   ],
   "source": [
    "arr = np.random.randint(1,100,size = (4,4))\n",
    "arr"
   ]
  },
  {
   "cell_type": "markdown",
   "id": "a378b367-4fe0-4693-b726-2d0cfe037986",
   "metadata": {},
   "source": [
    "## 15.\tHow do you split a NumPy array a = np.array([1, 2, 3, 4, 5, 6]) into three sub-arrays?"
   ]
  },
  {
   "cell_type": "code",
   "execution_count": 162,
   "id": "7b6344f5-abdb-47a9-b7cb-3d563811d027",
   "metadata": {},
   "outputs": [],
   "source": [
    "a = np.array([1, 2, 3, 4, 5, 6]) "
   ]
  },
  {
   "cell_type": "code",
   "execution_count": 168,
   "id": "1e0e4ff0-1730-4ab0-a50c-09a9a74f5075",
   "metadata": {},
   "outputs": [
    {
     "data": {
      "text/plain": [
       "[array([1, 2]), array([3, 4]), array([5, 6])]"
      ]
     },
     "execution_count": 168,
     "metadata": {},
     "output_type": "execute_result"
    }
   ],
   "source": [
    "split = np.split(a,3)\n",
    "split"
   ]
  },
  {
   "cell_type": "markdown",
   "id": "ae860657-a308-4655-84f7-d99c17f22e25",
   "metadata": {},
   "source": [
    "## 16.\tGiven the 2D array a = np.array([[1, 2, 3], [4, 5, 6], [7, 8, 9]]), how do you compute the sum of all elements along the second axis?"
   ]
  },
  {
   "cell_type": "code",
   "execution_count": 171,
   "id": "b6941c5e-ddf4-4d33-a9c6-fa52570f2d57",
   "metadata": {},
   "outputs": [],
   "source": [
    "a = np.array([[1, 2, 3], [4, 5, 6], [7, 8, 9]])"
   ]
  },
  {
   "cell_type": "code",
   "execution_count": 175,
   "id": "ddb0b3b9-414c-48ab-8c9f-d570178fe149",
   "metadata": {},
   "outputs": [
    {
     "data": {
      "text/plain": [
       "array([ 6, 15, 24])"
      ]
     },
     "execution_count": 175,
     "metadata": {},
     "output_type": "execute_result"
    }
   ],
   "source": [
    "sum = a.sum(axis = 1)\n",
    "sum"
   ]
  },
  {
   "cell_type": "markdown",
   "id": "a90fe0e5-6aea-4bda-8a91-fd512b9101f6",
   "metadata": {},
   "source": [
    "## 17.\tHow do you compute the element-wise maximum of two arrays a = np.array([1, 2, 3]) and b = np.array([3, 2, 1])?"
   ]
  },
  {
   "cell_type": "code",
   "execution_count": 178,
   "id": "2a37c26c-f5d5-4737-a2a9-1149601cc5ce",
   "metadata": {},
   "outputs": [],
   "source": [
    "a = np.array([1, 2, 3]) \n",
    "b = np.array([3, 2, 1])"
   ]
  },
  {
   "cell_type": "code",
   "execution_count": 188,
   "id": "56285d31-d353-4273-89f9-5561c7aebc8e",
   "metadata": {},
   "outputs": [
    {
     "data": {
      "text/plain": [
       "array([3, 2, 3])"
      ]
     },
     "execution_count": 188,
     "metadata": {},
     "output_type": "execute_result"
    }
   ],
   "source": [
    "arr = np.maximum(a,b)\n",
    "arr"
   ]
  },
  {
   "cell_type": "markdown",
   "id": "645cf7ad-1fcc-429b-9d23-b6bd664229be",
   "metadata": {},
   "source": [
    "## 18.\tHow do you find the unique elements in the array a = np.array([1, 2, 2, 3, 3, 4, 5])?"
   ]
  },
  {
   "cell_type": "code",
   "execution_count": 191,
   "id": "73deef1a-42ff-47c1-b5d7-e93c6c5fbe2d",
   "metadata": {},
   "outputs": [],
   "source": [
    "a = np.array([1, 2, 2, 3, 3, 4, 5])"
   ]
  },
  {
   "cell_type": "code",
   "execution_count": 206,
   "id": "d3e26e47-6837-4b87-95ef-453680fa4c75",
   "metadata": {},
   "outputs": [
    {
     "data": {
      "text/plain": [
       "array([1, 2, 3, 4, 5])"
      ]
     },
     "execution_count": 206,
     "metadata": {},
     "output_type": "execute_result"
    }
   ],
   "source": [
    "arr = np.unique(a)\n",
    "arr"
   ]
  },
  {
   "cell_type": "markdown",
   "id": "17171dbc-9268-4b04-b9e8-853b8bfb4168",
   "metadata": {},
   "source": [
    "## 19.\tHow do you use np.arange to create an array of values between 1 and 50 with a step of 3, and then filter the elements that are divisible by 5?"
   ]
  },
  {
   "cell_type": "code",
   "execution_count": 263,
   "id": "f18fc4b7-1f58-42d7-8ed7-de8b5eb79f79",
   "metadata": {},
   "outputs": [
    {
     "data": {
      "text/plain": [
       "array([ 1,  4,  7, 10, 13, 16, 19, 22, 25, 28, 31, 34, 37, 40, 43, 46, 49])"
      ]
     },
     "execution_count": 263,
     "metadata": {},
     "output_type": "execute_result"
    }
   ],
   "source": [
    "arr = np.arange(1,50,3)\n",
    "arr"
   ]
  },
  {
   "cell_type": "code",
   "execution_count": 267,
   "id": "3f9928ba-cd5c-4fc3-93bc-623931fc47c1",
   "metadata": {},
   "outputs": [
    {
     "data": {
      "text/plain": [
       "array([10, 25, 40])"
      ]
     },
     "execution_count": 267,
     "metadata": {},
     "output_type": "execute_result"
    }
   ],
   "source": [
    "filter = arr%5==0\n",
    "filter= arr[filter]\n",
    "filter"
   ]
  },
  {
   "cell_type": "markdown",
   "id": "5e015007-14d0-46ee-b9b6-5bd434945d35",
   "metadata": {},
   "source": [
    "## 20.\tGiven the array a = np.array([1, 2, 3, 4, 5]) and b = np.array([6, 7, 8, 9, 10]), use np.where to replace elements in a that are less than 3 with -3, then  horizontally stack a and b."
   ]
  },
  {
   "cell_type": "code",
   "execution_count": 253,
   "id": "a17117d9-2d56-4f95-8ff9-a9fa304acac8",
   "metadata": {},
   "outputs": [],
   "source": [
    "a = np.array([1, 2, 3, 4, 5]) \n",
    "b = np.array([6, 7, 8, 9, 10])"
   ]
  },
  {
   "cell_type": "code",
   "execution_count": 273,
   "id": "582f9bb8-e18f-4be3-8e21-5c1ab0ab5d7d",
   "metadata": {},
   "outputs": [
    {
     "data": {
      "text/plain": [
       "array([-3, -3,  3,  4,  5,  6,  7,  8,  9, 10])"
      ]
     },
     "execution_count": 273,
     "metadata": {},
     "output_type": "execute_result"
    }
   ],
   "source": [
    "rep = np.where(a<3,-3,a)\n",
    "d = np.hstack((rep,b))\n",
    "d"
   ]
  },
  {
   "cell_type": "markdown",
   "id": "2d00c54b-7d53-4fa7-844b-1afaa78e42ac",
   "metadata": {},
   "source": [
    "## 21.\tHow do you generate a 3D array of shape (4, 3, 2) where each 2D slice (3x2) is filled with random values between 0 and 1, and then normalize the entire 3D array to values between 0 and 1 (with respect to the min and max of the array)?"
   ]
  },
  {
   "cell_type": "code",
   "execution_count": 289,
   "id": "5e16a182-7909-4e8f-a64f-8a78b322f637",
   "metadata": {},
   "outputs": [
    {
     "data": {
      "text/plain": [
       "array([[[0.37454012, 0.95071431],\n",
       "        [0.73199394, 0.59865848],\n",
       "        [0.15601864, 0.15599452]],\n",
       "\n",
       "       [[0.05808361, 0.86617615],\n",
       "        [0.60111501, 0.70807258],\n",
       "        [0.02058449, 0.96990985]],\n",
       "\n",
       "       [[0.83244264, 0.21233911],\n",
       "        [0.18182497, 0.18340451],\n",
       "        [0.30424224, 0.52475643]],\n",
       "\n",
       "       [[0.43194502, 0.29122914],\n",
       "        [0.61185289, 0.13949386],\n",
       "        [0.29214465, 0.36636184]]])"
      ]
     },
     "execution_count": 289,
     "metadata": {},
     "output_type": "execute_result"
    }
   ],
   "source": [
    "np.random.seed(42)\n",
    "arr = np.random.rand(4,3,2)\n",
    "arr"
   ]
  },
  {
   "cell_type": "code",
   "execution_count": 291,
   "id": "624bef47-6c1f-4513-91cd-c26869211ce6",
   "metadata": {},
   "outputs": [
    {
     "data": {
      "text/plain": [
       "array([[[0.37284965, 0.9797798 ],\n",
       "        [0.74938422, 0.60893137],\n",
       "        [0.14266357, 0.14263816]],\n",
       "\n",
       "       [[0.03950081, 0.89072903],\n",
       "        [0.61151903, 0.72418595],\n",
       "        [0.        , 1.        ]],\n",
       "\n",
       "       [[0.85519484, 0.20199041],\n",
       "        [0.16984743, 0.17151129],\n",
       "        [0.2987993 , 0.53108445]],\n",
       "\n",
       "       [[0.4333188 , 0.28509156],\n",
       "        [0.62283009, 0.12525671],\n",
       "        [0.28605594, 0.36423482]]])"
      ]
     },
     "execution_count": 291,
     "metadata": {},
     "output_type": "execute_result"
    }
   ],
   "source": [
    "nor = (arr-np.min(arr))/(np.max(arr)-np.min(arr))\n",
    "nor"
   ]
  },
  {
   "cell_type": "markdown",
   "id": "606ae9d8-a8ed-4ac1-8745-606d65608231",
   "metadata": {},
   "source": [
    "## 22.\tGiven a 2D array of shape (5, 5) filled with random integers between 1 and 100, replace all odd numbers with -1 and all even numbers with 1."
   ]
  },
  {
   "cell_type": "code",
   "execution_count": 294,
   "id": "f425972f-8277-490c-bbfd-01fa7fc0d046",
   "metadata": {},
   "outputs": [
    {
     "data": {
      "text/plain": [
       "array([[62, 62, 47, 62, 51],\n",
       "       [55, 64,  3, 51,  7],\n",
       "       [21, 73, 39, 18,  4],\n",
       "       [89, 60, 14,  9, 90],\n",
       "       [53,  2, 84, 92, 60]])"
      ]
     },
     "execution_count": 294,
     "metadata": {},
     "output_type": "execute_result"
    }
   ],
   "source": [
    "arr = np.random.randint(1,100,size=(5,5))\n",
    "arr"
   ]
  },
  {
   "cell_type": "code",
   "execution_count": 312,
   "id": "2ae582bc-ddfb-42b6-ba30-9410d9748ce3",
   "metadata": {},
   "outputs": [
    {
     "data": {
      "text/plain": [
       "array([[ 1,  1, -1,  1, -1],\n",
       "       [-1,  1, -1, -1, -1],\n",
       "       [-1, -1, -1,  1,  1],\n",
       "       [-1,  1,  1, -1,  1],\n",
       "       [-1,  1,  1,  1,  1]])"
      ]
     },
     "execution_count": 312,
     "metadata": {},
     "output_type": "execute_result"
    }
   ],
   "source": [
    "rep = np.where(arr%2==0,1,-1)\n",
    "rep"
   ]
  },
  {
   "cell_type": "markdown",
   "id": "e5d9d56a-0f3f-4723-a09c-05e4685ee652",
   "metadata": {},
   "source": [
    "## 23.\tGiven a large 1D array of 10 million random floating-point numbers between 0 and 1, find the 10th and 90th percentile of the values.## "
   ]
  },
  {
   "cell_type": "code",
   "execution_count": 315,
   "id": "b99f92b0-636f-4a94-bfe8-5c988b5d8575",
   "metadata": {},
   "outputs": [
    {
     "data": {
      "text/plain": [
       "array([0.12203823, 0.49517691, 0.03438852, ..., 0.81595227, 0.63648839,\n",
       "       0.08875056])"
      ]
     },
     "execution_count": 315,
     "metadata": {},
     "output_type": "execute_result"
    }
   ],
   "source": [
    "arr =np.random.rand(10000000)\n",
    "arr"
   ]
  },
  {
   "cell_type": "code",
   "execution_count": 317,
   "id": "351db007-2ac0-4799-89e6-0df94af7a88e",
   "metadata": {},
   "outputs": [
    {
     "name": "stdout",
     "output_type": "stream",
     "text": [
      "0.0998946347916304\n",
      "0.8998586403668534\n"
     ]
    }
   ],
   "source": [
    "per = np.percentile(arr,10)\n",
    "perc = np.percentile(arr,90)\n",
    "print(per)\n",
    "print(perc)"
   ]
  },
  {
   "cell_type": "markdown",
   "id": "8fa5f043-fc70-4fb1-9cc9-04493555673f",
   "metadata": {},
   "source": [
    "## 24.\tGiven a 5x5 matrix arr, use np.where to:\n",
    "•\tReplace all elements greater than 10 with the value 100.\n",
    "\n",
    "•\tReplace all elements less than or equal to 10 with the value -100\n"
   ]
  },
  {
   "cell_type": "code",
   "execution_count": 327,
   "id": "e9ad0308-1218-49f2-aa1e-334c4a769167",
   "metadata": {},
   "outputs": [],
   "source": [
    "arr = np.arange(0,25)\n",
    "res = arr.reshape(5,5)"
   ]
  },
  {
   "cell_type": "code",
   "execution_count": 331,
   "id": "f27e5799-e881-4fea-8dc7-ff49a66310da",
   "metadata": {},
   "outputs": [
    {
     "data": {
      "text/plain": [
       "array([[-100, -100, -100, -100, -100],\n",
       "       [-100, -100, -100, -100, -100],\n",
       "       [-100,  100,  100,  100,  100],\n",
       "       [ 100,  100,  100,  100,  100],\n",
       "       [ 100,  100,  100,  100,  100]])"
      ]
     },
     "execution_count": 331,
     "metadata": {},
     "output_type": "execute_result"
    }
   ],
   "source": [
    "a = np.where(res>10,100,-100)\n",
    "a"
   ]
  },
  {
   "cell_type": "markdown",
   "id": "de1e05a7-5803-4b1f-86cc-99cca5ca0f1c",
   "metadata": {},
   "source": [
    "## 25.\tGiven a 2D array arr = np.array([[1, 2, 3, 4], [5, 6, 7, 8], [9, 10, 11, 12]]), perform the following operations:\n",
    "•\tHorizontally split the array into two equal parts.\n",
    "•\tVertically split the array into three equal parts.\n",
    "•\tStack the split parts vertically and horizontally.\n"
   ]
  },
  {
   "cell_type": "code",
   "execution_count": 334,
   "id": "13097b7a-148b-4fc6-a653-b22c35cd8f42",
   "metadata": {},
   "outputs": [],
   "source": [
    "arr = np.array([[1, 2, 3, 4], [5, 6, 7, 8], [9, 10, 11, 12]])"
   ]
  },
  {
   "cell_type": "code",
   "execution_count": 375,
   "id": "9ffbf452-15be-4274-9c92-64cf88484453",
   "metadata": {},
   "outputs": [
    {
     "data": {
      "text/plain": [
       "[array([[ 1,  2],\n",
       "        [ 5,  6],\n",
       "        [ 9, 10]]),\n",
       " array([[ 3,  4],\n",
       "        [ 7,  8],\n",
       "        [11, 12]])]"
      ]
     },
     "execution_count": 375,
     "metadata": {},
     "output_type": "execute_result"
    }
   ],
   "source": [
    "splth = np.array_split(arr,2,axis = 1)\n",
    "splth"
   ]
  },
  {
   "cell_type": "code",
   "execution_count": 359,
   "id": "18b96ad2-4fa2-4f91-8fe8-aa495fb415bd",
   "metadata": {},
   "outputs": [
    {
     "data": {
      "text/plain": [
       "[array([[1, 2, 3, 4]]), array([[5, 6, 7, 8]]), array([[ 9, 10, 11, 12]])]"
      ]
     },
     "execution_count": 359,
     "metadata": {},
     "output_type": "execute_result"
    }
   ],
   "source": [
    "spltv = np.array_split(arr,3)\n",
    "spltv"
   ]
  },
  {
   "cell_type": "code",
   "execution_count": null,
   "id": "db380a6c-cd01-4ac7-b729-c11b9ea93bb0",
   "metadata": {},
   "outputs": [],
   "source": []
  }
 ],
 "metadata": {
  "kernelspec": {
   "display_name": "Python 3 (ipykernel)",
   "language": "python",
   "name": "python3"
  },
  "language_info": {
   "codemirror_mode": {
    "name": "ipython",
    "version": 3
   },
   "file_extension": ".py",
   "mimetype": "text/x-python",
   "name": "python",
   "nbconvert_exporter": "python",
   "pygments_lexer": "ipython3",
   "version": "3.12.4"
  }
 },
 "nbformat": 4,
 "nbformat_minor": 5
}
