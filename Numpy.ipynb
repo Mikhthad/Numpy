{
 "cells": [
  {
   "cell_type": "code",
   "execution_count": 2,
   "id": "d2a5b20a-84c9-4b9e-9150-52d54a8d3027",
   "metadata": {},
   "outputs": [],
   "source": [
    "import numpy as np"
   ]
  },
  {
   "cell_type": "code",
   "execution_count": 3,
   "id": "287544a4-e1b1-4a48-9dc7-c674c75e7132",
   "metadata": {},
   "outputs": [],
   "source": [
    "a = [1,2,3]"
   ]
  },
  {
   "cell_type": "code",
   "execution_count": 4,
   "id": "f07695bc-84b9-49d2-a413-7b7086d42b17",
   "metadata": {},
   "outputs": [],
   "source": [
    "b = [4,5,6]"
   ]
  },
  {
   "cell_type": "code",
   "execution_count": 5,
   "id": "8bac13df-2157-48ca-8c70-be83e39d5ea4",
   "metadata": {},
   "outputs": [],
   "source": [
    "da = a+b"
   ]
  },
  {
   "cell_type": "code",
   "execution_count": 6,
   "id": "cc180bf4-3686-474e-88f5-902fe57375bd",
   "metadata": {},
   "outputs": [
    {
     "data": {
      "text/plain": [
       "[1, 2, 3, 4, 5, 6]"
      ]
     },
     "execution_count": 6,
     "metadata": {},
     "output_type": "execute_result"
    }
   ],
   "source": [
    "da"
   ]
  },
  {
   "cell_type": "markdown",
   "id": "04eb0e6c-3afd-4857-9892-1ad5681595fe",
   "metadata": {},
   "source": [
    "Introduction to NumPy\n",
    "\n",
    "•\tNumPy (Numerical Python) is a library for the Python programming language that provides support for large, multi-dimensional arrays and matrices, along with a collection of mathematical functions to operate on these arrays\n",
    "\n",
    "What is an Array in Python?\n",
    "\n",
    "•\tAn array is a collection of items stored at contiguous memory locations. The idea is to store multiple items of the same type together."
   ]
  },
  {
   "cell_type": "markdown",
   "id": "74f78aef-a4f6-4fe9-b0f6-f79b7c1c0140",
   "metadata": {},
   "source": [
    "Q) Why Use NumPy?\n",
    "\n",
    " •\tIn Python we have lists that serve the purpose of arrays, but they are slow to process.\n",
    "\n",
    " •\tNumPy aims to provide an array object that is up to 50x faster than traditional Python  lists.\n",
    "\n",
    " •\tThe array object in NumPy is called ndarray, it provides a lot of supporting functions that make working with ndarray very easy.\n",
    "\n",
    " •\tArrays are very frequently used in data science, where speed and resources are very important.\n",
    "\n",
    "Q) Why is NumPy Faster Than Lists?\n",
    "\n",
    " •\tNumPy arrays are stored at one continuous place in memory unlike lists, so processes can access and manipulate them very efficiently.\n",
    "\n",
    " •\tThis behaviour is called locality of reference in computer science.\n",
    "\n",
    " •\tThis is the main reason why NumPy is faster than lists. Also, it is optimized to work with latest CPU architectures.\n",
    "\n",
    " •\tNo need for data type checking.\n",
    "\n",
    " •\tItem wise\n",
    "\n",
    "computations available."
   ]
  },
  {
   "cell_type": "markdown",
   "id": "b3e4b125-1cb0-4b85-9ca0-c35a135d31dd",
   "metadata": {},
   "source": [
    "# Create Numpy ndarray Object"
   ]
  },
  {
   "cell_type": "markdown",
   "id": "c65692d7-164e-41cc-a9bb-f6633a988712",
   "metadata": {},
   "source": [
    "### 0 Dimensional array"
   ]
  },
  {
   "cell_type": "code",
   "execution_count": 11,
   "id": "424b5b82-4e21-415c-a8eb-7f97b8ce7188",
   "metadata": {},
   "outputs": [
    {
     "data": {
      "text/plain": [
       "array(34)"
      ]
     },
     "execution_count": 11,
     "metadata": {},
     "output_type": "execute_result"
    }
   ],
   "source": [
    "arr = np.array(34)\n",
    "arr"
   ]
  },
  {
   "cell_type": "markdown",
   "id": "b578ad8a-6ec9-42ef-afee-4948f421ca94",
   "metadata": {},
   "source": [
    "### 1 Dimensional array\n",
    "An array that has  0-D arrays as its elements its called uni-dimensional or 1-D array"
   ]
  },
  {
   "cell_type": "code",
   "execution_count": 13,
   "id": "21aea114-6cb9-446b-9089-25502110b604",
   "metadata": {},
   "outputs": [
    {
     "data": {
      "text/plain": [
       "array([1, 2, 3])"
      ]
     },
     "execution_count": 13,
     "metadata": {},
     "output_type": "execute_result"
    }
   ],
   "source": [
    "oned = np.array([1,2,3])\n",
    "oned"
   ]
  },
  {
   "cell_type": "markdown",
   "id": "eb5a2779-32a9-4048-9bce-d78de4c8daa4",
   "metadata": {},
   "source": [
    "### 2 dimensional\n",
    "An array that has 1-D arrays as its elements its called uni-dimensional or 2-D array"
   ]
  },
  {
   "cell_type": "code",
   "execution_count": 15,
   "id": "10a69bf0-1d07-48a4-aa22-507dc4742f7b",
   "metadata": {},
   "outputs": [
    {
     "data": {
      "text/plain": [
       "array([[1, 2, 3],\n",
       "       [4, 5, 6]])"
      ]
     },
     "execution_count": 15,
     "metadata": {},
     "output_type": "execute_result"
    }
   ],
   "source": [
    "twod = np.array([\n",
    "    [1,2,3],\n",
    "    [4,5,6]\n",
    "                ])\n",
    "twod"
   ]
  },
  {
   "cell_type": "code",
   "execution_count": 16,
   "id": "9e413084-830f-4653-af7a-ded1aab1eef8",
   "metadata": {},
   "outputs": [
    {
     "data": {
      "text/plain": [
       "array([[1, 2, 3, 5],\n",
       "       [4, 5, 6, 6],\n",
       "       [7, 8, 9, 5],\n",
       "       [1, 0, 2, 5]])"
      ]
     },
     "execution_count": 16,
     "metadata": {},
     "output_type": "execute_result"
    }
   ],
   "source": [
    "four = np.array([\n",
    "    [1,2,3,5],\n",
    "    [4,5,6,6],\n",
    "    [7,8,9,5],\n",
    "    [1,0,2,5]])\n",
    "four"
   ]
  },
  {
   "cell_type": "code",
   "execution_count": 17,
   "id": "d1f2d375-463b-4645-b2ab-9f7b16af3db6",
   "metadata": {},
   "outputs": [
    {
     "data": {
      "text/plain": [
       "array([[ 1,  2,  3],\n",
       "       [ 4,  5,  6],\n",
       "       [ 7,  8,  9],\n",
       "       [10, 11, 12]])"
      ]
     },
     "execution_count": 17,
     "metadata": {},
     "output_type": "execute_result"
    }
   ],
   "source": [
    "Three = np.array([[1,2,3,],\n",
    "                 [4,5,6,],\n",
    "                 [7,8,9],\n",
    "                 [10,11,12]])\n",
    "Three"
   ]
  },
  {
   "cell_type": "code",
   "execution_count": 18,
   "id": "83b768f4-dd1f-46ff-9d3c-4b47f0601b40",
   "metadata": {},
   "outputs": [
    {
     "data": {
      "text/plain": [
       "numpy.ndarray"
      ]
     },
     "execution_count": 18,
     "metadata": {},
     "output_type": "execute_result"
    }
   ],
   "source": [
    "type(Three)"
   ]
  },
  {
   "cell_type": "markdown",
   "id": "24bc0d68-0404-4713-a78b-6209fb5d5547",
   "metadata": {},
   "source": [
    "### 3 Dimensional\n",
    "An array that has 2-D arrays as its elements its called uni-dimensional or 3-D array"
   ]
  },
  {
   "cell_type": "code",
   "execution_count": 20,
   "id": "14b374e6-a260-470f-8423-d3c5544ddbb2",
   "metadata": {},
   "outputs": [
    {
     "data": {
      "text/plain": [
       "array([[[1, 2, 3],\n",
       "        [1, 2, 3]],\n",
       "\n",
       "       [[1, 2, 3],\n",
       "        [1, 2, 3]]])"
      ]
     },
     "execution_count": 20,
     "metadata": {},
     "output_type": "execute_result"
    }
   ],
   "source": [
    "threed = np.array([\n",
    "    [[1,2,3],[1,2,3,]],\n",
    "    [[1,2,3],[1,2,3]]\n",
    "                   ])\n",
    "threed"
   ]
  },
  {
   "cell_type": "code",
   "execution_count": 21,
   "id": "00022f95-2c1c-4ed3-9e6b-79c2decbea93",
   "metadata": {},
   "outputs": [
    {
     "data": {
      "text/plain": [
       "array([[[1, 2, 3],\n",
       "        [1, 2, 3],\n",
       "        [1, 2, 3]],\n",
       "\n",
       "       [[4, 5, 6],\n",
       "        [4, 5, 6],\n",
       "        [4, 5, 6]],\n",
       "\n",
       "       [[7, 8, 9],\n",
       "        [7, 8, 9],\n",
       "        [7, 8, 9]]])"
      ]
     },
     "execution_count": 21,
     "metadata": {},
     "output_type": "execute_result"
    }
   ],
   "source": [
    "thred = np.array([\n",
    "    [[1,2,3],[1,2,3],[1,2,3]],\n",
    "    [[4,5,6],[4,5,6],[4,5,6]],\n",
    "    [[7,8,9],[7,8,9],[7,8,9]]\n",
    "])\n",
    "thred"
   ]
  },
  {
   "cell_type": "markdown",
   "id": "ddef3c05-e49e-47f8-b02e-51cc1b93c533",
   "metadata": {},
   "source": [
    "### checking Dimension"
   ]
  },
  {
   "cell_type": "code",
   "execution_count": 23,
   "id": "98f285a9-73bb-48da-820f-601e6256d4ac",
   "metadata": {},
   "outputs": [
    {
     "data": {
      "text/plain": [
       "3"
      ]
     },
     "execution_count": 23,
     "metadata": {},
     "output_type": "execute_result"
    }
   ],
   "source": [
    "thred.ndim"
   ]
  },
  {
   "cell_type": "code",
   "execution_count": 24,
   "id": "2926a8c9-5c89-4924-8222-1a89dae97f4e",
   "metadata": {},
   "outputs": [
    {
     "data": {
      "text/plain": [
       "27"
      ]
     },
     "execution_count": 24,
     "metadata": {},
     "output_type": "execute_result"
    }
   ],
   "source": [
    "thred.size"
   ]
  },
  {
   "cell_type": "code",
   "execution_count": 25,
   "id": "5a1e3fc9-1d4a-48b1-b140-795ddbb0fdda",
   "metadata": {},
   "outputs": [
    {
     "data": {
      "text/plain": [
       "(3, 3, 3)"
      ]
     },
     "execution_count": 25,
     "metadata": {},
     "output_type": "execute_result"
    }
   ],
   "source": [
    "thred.shape"
   ]
  },
  {
   "cell_type": "code",
   "execution_count": 26,
   "id": "6cd21942-ff60-485d-8c01-c1d72398e2c4",
   "metadata": {},
   "outputs": [
    {
     "data": {
      "text/plain": [
       "dtype('int32')"
      ]
     },
     "execution_count": 26,
     "metadata": {},
     "output_type": "execute_result"
    }
   ],
   "source": [
    "thred.dtype"
   ]
  },
  {
   "cell_type": "code",
   "execution_count": 27,
   "id": "917e22f8-6cd7-460c-94b4-bec854aa6e5c",
   "metadata": {},
   "outputs": [
    {
     "data": {
      "text/plain": [
       "array([[[ 1,  2,  3,  4,  5],\n",
       "        [ 6,  7,  8,  9, 10]],\n",
       "\n",
       "       [[ 1,  2,  3,  4,  5],\n",
       "        [ 6,  7,  8,  9, 10]],\n",
       "\n",
       "       [[ 1,  2,  3,  4,  5],\n",
       "        [ 6,  7,  8,  9, 10]]])"
      ]
     },
     "execution_count": 27,
     "metadata": {},
     "output_type": "execute_result"
    }
   ],
   "source": [
    "a = np.array([\n",
    "    [[1,2,3,4,5],\n",
    "    [6,7,8,9,10]],\n",
    "    \n",
    "    [[1,2,3,4,5],\n",
    "    [6,7,8,9,10]],\n",
    "    \n",
    "    [[1,2,3,4,5],\n",
    "    [6,7,8,9,10]]])\n",
    "a"
   ]
  },
  {
   "cell_type": "code",
   "execution_count": 28,
   "id": "ca15cd2c-66e1-41ae-abe5-fe19a851a87a",
   "metadata": {},
   "outputs": [
    {
     "data": {
      "text/plain": [
       "3"
      ]
     },
     "execution_count": 28,
     "metadata": {},
     "output_type": "execute_result"
    }
   ],
   "source": [
    "a.ndim"
   ]
  },
  {
   "cell_type": "code",
   "execution_count": 29,
   "id": "e1e38b40-9ff3-4256-ad0c-30b211114c9f",
   "metadata": {},
   "outputs": [
    {
     "data": {
      "text/plain": [
       "(3, 2, 5)"
      ]
     },
     "execution_count": 29,
     "metadata": {},
     "output_type": "execute_result"
    }
   ],
   "source": [
    "a.shape"
   ]
  },
  {
   "cell_type": "code",
   "execution_count": 30,
   "id": "6628cf3a-0726-46bd-a3fb-1518e910c0fc",
   "metadata": {},
   "outputs": [
    {
     "data": {
      "text/plain": [
       "30"
      ]
     },
     "execution_count": 30,
     "metadata": {},
     "output_type": "execute_result"
    }
   ],
   "source": [
    "a.size"
   ]
  },
  {
   "cell_type": "code",
   "execution_count": 31,
   "id": "bb8c9b90-78f7-4e71-8fed-d2731d90ce86",
   "metadata": {},
   "outputs": [
    {
     "data": {
      "text/plain": [
       "8"
      ]
     },
     "execution_count": 31,
     "metadata": {},
     "output_type": "execute_result"
    }
   ],
   "source": [
    "a[2,1,2]"
   ]
  },
  {
   "cell_type": "markdown",
   "id": "db8d81c0-b169-4340-a02b-d64209a8e8b0",
   "metadata": {},
   "source": [
    "### 4 Dimensional\n",
    "An array that has 3-D arrays as its elements its called uni-dimensional or 4-D array"
   ]
  },
  {
   "cell_type": "code",
   "execution_count": 33,
   "id": "e98f0f74-04fa-4337-8e29-d66750f4df71",
   "metadata": {},
   "outputs": [],
   "source": [
    "fourd = np.array([[[\n",
    "    [1,2,3],[1,2,3,]],\n",
    "    [[1,2,3],[1,2,3]]\n",
    "                   ]])"
   ]
  },
  {
   "cell_type": "code",
   "execution_count": 34,
   "id": "bec8135b-10d1-4428-a978-5aef88ea5109",
   "metadata": {},
   "outputs": [
    {
     "data": {
      "text/plain": [
       "array([[[[1, 2, 3],\n",
       "         [1, 2, 3]],\n",
       "\n",
       "        [[1, 2, 3],\n",
       "         [1, 2, 3]]]])"
      ]
     },
     "execution_count": 34,
     "metadata": {},
     "output_type": "execute_result"
    }
   ],
   "source": [
    "fourd"
   ]
  },
  {
   "cell_type": "code",
   "execution_count": 35,
   "id": "86de03fb-8dd1-4f19-a603-1e00c97dd5ff",
   "metadata": {},
   "outputs": [],
   "source": [
    "four_two_thre = np.array([[\n",
    "    [1,2,3],[1,2,3]],\n",
    "                          \n",
    "    [[1,2,3],[1,2,3]],\n",
    "                          \n",
    "    [[4,5,6,],[4,5,6]],\n",
    "                          \n",
    "    [[7,8,9],[7,8,9]\n",
    "]])"
   ]
  },
  {
   "cell_type": "code",
   "execution_count": 36,
   "id": "f2fbbbc1-93ba-4f27-8448-98b2200ce746",
   "metadata": {},
   "outputs": [
    {
     "data": {
      "text/plain": [
       "array([[[1, 2, 3],\n",
       "        [1, 2, 3]],\n",
       "\n",
       "       [[1, 2, 3],\n",
       "        [1, 2, 3]],\n",
       "\n",
       "       [[4, 5, 6],\n",
       "        [4, 5, 6]],\n",
       "\n",
       "       [[7, 8, 9],\n",
       "        [7, 8, 9]]])"
      ]
     },
     "execution_count": 36,
     "metadata": {},
     "output_type": "execute_result"
    }
   ],
   "source": [
    "four_two_thre"
   ]
  },
  {
   "cell_type": "code",
   "execution_count": 37,
   "id": "bbc5f0c5-0365-4b24-83af-d63c6eabba07",
   "metadata": {},
   "outputs": [
    {
     "data": {
      "text/plain": [
       "(4, 2, 3)"
      ]
     },
     "execution_count": 37,
     "metadata": {},
     "output_type": "execute_result"
    }
   ],
   "source": [
    "four_two_thre.shape"
   ]
  },
  {
   "cell_type": "code",
   "execution_count": 38,
   "id": "71787ed6-da0f-474c-b0c9-c488482ff92e",
   "metadata": {},
   "outputs": [
    {
     "data": {
      "text/plain": [
       "6"
      ]
     },
     "execution_count": 38,
     "metadata": {},
     "output_type": "execute_result"
    }
   ],
   "source": [
    "four_two_thre[2,0,2]"
   ]
  },
  {
   "cell_type": "code",
   "execution_count": 39,
   "id": "4d7d40d0-7e90-4ce0-b645-b6c29f6daeba",
   "metadata": {},
   "outputs": [],
   "source": [
    "df= np.array([[\n",
    "    [1,2,3,4],\n",
    "    [3,4,5,6]],\n",
    "    [[11,12,13,14],\n",
    "    [15,16,17,18]\n",
    "]])"
   ]
  },
  {
   "cell_type": "code",
   "execution_count": 40,
   "id": "f1b30d86-ffce-4f53-bcab-0f0c71060cef",
   "metadata": {},
   "outputs": [
    {
     "data": {
      "text/plain": [
       "5"
      ]
     },
     "execution_count": 40,
     "metadata": {},
     "output_type": "execute_result"
    }
   ],
   "source": [
    "#accessing element 5\n",
    "df[0,1,2]"
   ]
  },
  {
   "cell_type": "markdown",
   "id": "aeaafb3d-2093-4761-8c87-54be1c053349",
   "metadata": {},
   "source": [
    "## Negative Slicing"
   ]
  },
  {
   "cell_type": "code",
   "execution_count": 42,
   "id": "5c9cfb8c-aca5-475e-a72f-01219cc44bac",
   "metadata": {},
   "outputs": [],
   "source": [
    "arr1 = np.array([1,2,3,4])"
   ]
  },
  {
   "cell_type": "code",
   "execution_count": 43,
   "id": "c3179648-970e-4a14-9851-549336a690a9",
   "metadata": {},
   "outputs": [
    {
     "data": {
      "text/plain": [
       "4"
      ]
     },
     "execution_count": 43,
     "metadata": {},
     "output_type": "execute_result"
    }
   ],
   "source": [
    "arr1[-1]"
   ]
  },
  {
   "cell_type": "code",
   "execution_count": 44,
   "id": "13098c26-641d-4abc-a27a-4763356026fa",
   "metadata": {},
   "outputs": [],
   "source": [
    "arr2=np.array([[1,2,3],[4,5,6]])"
   ]
  },
  {
   "cell_type": "code",
   "execution_count": 45,
   "id": "5dd30261-6f7d-4a98-8e24-54d00f254f81",
   "metadata": {},
   "outputs": [
    {
     "data": {
      "text/plain": [
       "6"
      ]
     },
     "execution_count": 45,
     "metadata": {},
     "output_type": "execute_result"
    }
   ],
   "source": [
    "arr2[-1,-1]"
   ]
  },
  {
   "cell_type": "code",
   "execution_count": 46,
   "id": "103b8a23-6cac-4f29-9e69-eb6e2b01b234",
   "metadata": {},
   "outputs": [
    {
     "data": {
      "text/plain": [
       "5"
      ]
     },
     "execution_count": 46,
     "metadata": {},
     "output_type": "execute_result"
    }
   ],
   "source": [
    "arr2[1,-2]"
   ]
  },
  {
   "cell_type": "code",
   "execution_count": 47,
   "id": "1f6fdcc0-eef9-4671-a602-b8854a64ca11",
   "metadata": {},
   "outputs": [],
   "source": [
    "df = np.array([[1,2,3,4],[5,6,7,8]])"
   ]
  },
  {
   "cell_type": "code",
   "execution_count": 48,
   "id": "8e8aabf6-aa47-4545-925d-a215536939c4",
   "metadata": {},
   "outputs": [
    {
     "data": {
      "text/plain": [
       "(2, 4)"
      ]
     },
     "execution_count": 48,
     "metadata": {},
     "output_type": "execute_result"
    }
   ],
   "source": [
    "df.shape"
   ]
  },
  {
   "cell_type": "code",
   "execution_count": 49,
   "id": "71db0498-f360-4e00-bc9f-1ed4c1a51cf0",
   "metadata": {},
   "outputs": [
    {
     "data": {
      "text/plain": [
       "7"
      ]
     },
     "execution_count": 49,
     "metadata": {},
     "output_type": "execute_result"
    }
   ],
   "source": [
    "df[-1,-2]"
   ]
  },
  {
   "cell_type": "markdown",
   "id": "4fd53d4d-4652-4a3f-871c-55c9845c4c46",
   "metadata": {},
   "source": [
    "## Slicing arrays"
   ]
  },
  {
   "cell_type": "code",
   "execution_count": 51,
   "id": "cd0c04b5-63f4-46c9-88a9-dc779bd14043",
   "metadata": {},
   "outputs": [],
   "source": [
    "df = np.array([[1,2,3,4],[5,6,7,8]])"
   ]
  },
  {
   "cell_type": "code",
   "execution_count": 52,
   "id": "3b6dcb6f-aee6-499c-bf96-29c9c6d405ff",
   "metadata": {},
   "outputs": [
    {
     "data": {
      "text/plain": [
       "array([2, 3, 4])"
      ]
     },
     "execution_count": 52,
     "metadata": {},
     "output_type": "execute_result"
    }
   ],
   "source": [
    "df[0,1:]"
   ]
  },
  {
   "cell_type": "code",
   "execution_count": 53,
   "id": "d1bc3fa4-5cc0-4049-a439-3c6d4be4b748",
   "metadata": {},
   "outputs": [
    {
     "data": {
      "text/plain": [
       "array([1, 2])"
      ]
     },
     "execution_count": 53,
     "metadata": {},
     "output_type": "execute_result"
    }
   ],
   "source": [
    "df[0,:2]"
   ]
  },
  {
   "cell_type": "code",
   "execution_count": 54,
   "id": "473e378c-474c-49b6-b75d-a80cfeab41f6",
   "metadata": {},
   "outputs": [],
   "source": [
    "arr2 = np.array([[1,2,3,4,5,6],\n",
    "                [7,8,9,10,11,12],\n",
    "                [13,14,15,16,17,18]])"
   ]
  },
  {
   "cell_type": "code",
   "execution_count": 55,
   "id": "c75411f6-3d66-48e0-a797-f681a21756ee",
   "metadata": {},
   "outputs": [
    {
     "data": {
      "text/plain": [
       "array([[ 3,  4,  5],\n",
       "       [ 9, 10, 11],\n",
       "       [15, 16, 17]])"
      ]
     },
     "execution_count": 55,
     "metadata": {},
     "output_type": "execute_result"
    }
   ],
   "source": [
    "arr2[:,2:5]"
   ]
  },
  {
   "cell_type": "code",
   "execution_count": 56,
   "id": "5460a02b-3570-4ee9-87d5-132651756034",
   "metadata": {},
   "outputs": [
    {
     "data": {
      "text/plain": [
       "(3, 6)"
      ]
     },
     "execution_count": 56,
     "metadata": {},
     "output_type": "execute_result"
    }
   ],
   "source": [
    "arr2.shape"
   ]
  },
  {
   "cell_type": "code",
   "execution_count": 57,
   "id": "3df67903-af0e-48a4-96ec-86a51964a841",
   "metadata": {},
   "outputs": [],
   "source": [
    "arr3 = np.array([[\n",
    "    [1,2,3,4,5,6],[7,8,9,10,11,12],[13,14,15,16,17,18],[19,20,21,22,23,24]],\n",
    "    [[25,26,27,28,29,30],[31,32,33,34,35,36],[37,38,39,40,41,42],[43,44,45,46,47,48]             \n",
    "]])"
   ]
  },
  {
   "cell_type": "code",
   "execution_count": 58,
   "id": "08750984-9e44-4375-9655-438f35c6f111",
   "metadata": {},
   "outputs": [
    {
     "data": {
      "text/plain": [
       "(2, 4, 6)"
      ]
     },
     "execution_count": 58,
     "metadata": {},
     "output_type": "execute_result"
    }
   ],
   "source": [
    "arr3.shape"
   ]
  },
  {
   "cell_type": "code",
   "execution_count": 59,
   "id": "9ab5949b-0407-45e7-87f1-349d56af8416",
   "metadata": {},
   "outputs": [
    {
     "data": {
      "text/plain": [
       "array([[ 1,  2,  3],\n",
       "       [ 7,  8,  9],\n",
       "       [13, 14, 15],\n",
       "       [19, 20, 21]])"
      ]
     },
     "execution_count": 59,
     "metadata": {},
     "output_type": "execute_result"
    }
   ],
   "source": [
    "arr3[0,:,:3]"
   ]
  },
  {
   "cell_type": "code",
   "execution_count": 60,
   "id": "3824cc74-fe8f-41f3-8b1b-b10f04d097f2",
   "metadata": {},
   "outputs": [],
   "source": [
    "arr=np.array([1,2,3,4,5,6,7,8,9])"
   ]
  },
  {
   "cell_type": "code",
   "execution_count": 61,
   "id": "0984f839-66c1-4f5c-85ab-007ffb088057",
   "metadata": {},
   "outputs": [
    {
     "data": {
      "text/plain": [
       "array([3, 8])"
      ]
     },
     "execution_count": 61,
     "metadata": {},
     "output_type": "execute_result"
    }
   ],
   "source": [
    "arr[2::5]"
   ]
  },
  {
   "cell_type": "code",
   "execution_count": 62,
   "id": "aeb2a418-83fc-4852-9808-1157705eba90",
   "metadata": {},
   "outputs": [
    {
     "data": {
      "text/plain": [
       "array([1, 5, 9])"
      ]
     },
     "execution_count": 62,
     "metadata": {},
     "output_type": "execute_result"
    }
   ],
   "source": [
    "arr[::4]"
   ]
  },
  {
   "cell_type": "code",
   "execution_count": 63,
   "id": "22c200bd-99ae-4efd-8892-a5f0c3210fd1",
   "metadata": {},
   "outputs": [],
   "source": [
    "arr2 = np.array([[1,2,3,4,5],[6,7,8,9,10]])"
   ]
  },
  {
   "cell_type": "code",
   "execution_count": 64,
   "id": "7b25d85c-d5b4-4884-9780-738022f19b64",
   "metadata": {},
   "outputs": [
    {
     "data": {
      "text/plain": [
       "array([[ 1,  3,  5],\n",
       "       [ 6,  8, 10]])"
      ]
     },
     "execution_count": 64,
     "metadata": {},
     "output_type": "execute_result"
    }
   ],
   "source": [
    "arr2[:,::2]"
   ]
  },
  {
   "cell_type": "code",
   "execution_count": 65,
   "id": "1d65a545-ed80-43e7-bdb3-8191fd3f5be1",
   "metadata": {},
   "outputs": [],
   "source": [
    "thsix=np.array([[1,2,3,4,5,6],\n",
    "          [7,8,9,10,11,12],\n",
    "          [13,14,15,16,17,18]])"
   ]
  },
  {
   "cell_type": "code",
   "execution_count": 66,
   "id": "92191dc9-98aa-48be-a4d6-03773e761688",
   "metadata": {},
   "outputs": [
    {
     "data": {
      "text/plain": [
       "array([[ 3,  6],\n",
       "       [ 9, 12],\n",
       "       [15, 18]])"
      ]
     },
     "execution_count": 66,
     "metadata": {},
     "output_type": "execute_result"
    }
   ],
   "source": [
    "thsix[:,2::3]"
   ]
  },
  {
   "cell_type": "code",
   "execution_count": 67,
   "id": "3bbe5fe2-6f18-4ba7-8ccc-c29f6eb856db",
   "metadata": {},
   "outputs": [
    {
     "data": {
      "text/plain": [
       "array([[ 1,  4],\n",
       "       [ 7, 10],\n",
       "       [13, 16]])"
      ]
     },
     "execution_count": 67,
     "metadata": {},
     "output_type": "execute_result"
    }
   ],
   "source": [
    "thsix[:,::3]"
   ]
  },
  {
   "cell_type": "code",
   "execution_count": 68,
   "id": "87e6a2e9-97b3-437d-b345-50fcf9d35c39",
   "metadata": {},
   "outputs": [],
   "source": [
    "fouthr = np.array([\n",
    "    [1,2,3,4,5,6],[7,8,9,10,11,12],[13,14,15,16,17,18],[19,20,21,22,23,24]\n",
    "                  ])"
   ]
  },
  {
   "cell_type": "code",
   "execution_count": 69,
   "id": "164ab56d-68b0-416f-955e-df420ef37ef3",
   "metadata": {},
   "outputs": [
    {
     "data": {
      "text/plain": [
       "(4, 6)"
      ]
     },
     "execution_count": 69,
     "metadata": {},
     "output_type": "execute_result"
    }
   ],
   "source": [
    "fouthr.shape"
   ]
  },
  {
   "cell_type": "code",
   "execution_count": 70,
   "id": "66df50d4-0696-4f1b-b4ee-aa8680351674",
   "metadata": {},
   "outputs": [
    {
     "data": {
      "text/plain": [
       "array([[ 7, 10],\n",
       "       [13, 16],\n",
       "       [19, 22]])"
      ]
     },
     "execution_count": 70,
     "metadata": {},
     "output_type": "execute_result"
    }
   ],
   "source": [
    "fouthr[1:,::3]"
   ]
  },
  {
   "cell_type": "markdown",
   "id": "d96a6b4c-97cb-4b5a-9cb4-d5c786240749",
   "metadata": {},
   "source": [
    "## data types convret"
   ]
  },
  {
   "cell_type": "code",
   "execution_count": 72,
   "id": "ad05226e-7dac-4da7-8683-c153661d7fd3",
   "metadata": {},
   "outputs": [
    {
     "name": "stdout",
     "output_type": "stream",
     "text": [
      "[1 2 3 4]\n"
     ]
    }
   ],
   "source": [
    "arr = np.array([1,2,3,4])\n",
    "print(arr)"
   ]
  },
  {
   "cell_type": "code",
   "execution_count": 73,
   "id": "056b7a38-a30a-475c-966c-62dc04b46f03",
   "metadata": {},
   "outputs": [
    {
     "name": "stdout",
     "output_type": "stream",
     "text": [
      "|S1\n"
     ]
    },
    {
     "data": {
      "text/plain": [
       "array([b'1', b'2', b'3', b'4'], dtype='|S1')"
      ]
     },
     "execution_count": 73,
     "metadata": {},
     "output_type": "execute_result"
    }
   ],
   "source": [
    "arr = np.array([1,2,3,4],dtype = 'S')\n",
    "print(arr.dtype)\n",
    "arr"
   ]
  },
  {
   "cell_type": "code",
   "execution_count": 74,
   "id": "31c4ecf4-d6c1-4bf8-b44f-056f6b036fb3",
   "metadata": {},
   "outputs": [
    {
     "name": "stdout",
     "output_type": "stream",
     "text": [
      "float32\n"
     ]
    },
    {
     "data": {
      "text/plain": [
       "array([1., 2., 3., 4.], dtype=float32)"
      ]
     },
     "execution_count": 74,
     "metadata": {},
     "output_type": "execute_result"
    }
   ],
   "source": [
    "arr = np.array([1,2,3,4],dtype = 'f')\n",
    "print(arr.dtype)\n",
    "arr"
   ]
  },
  {
   "cell_type": "code",
   "execution_count": 75,
   "id": "937b5e66-28d5-4055-9d6c-393033805d77",
   "metadata": {},
   "outputs": [
    {
     "name": "stdout",
     "output_type": "stream",
     "text": [
      "[1 2 3 4]\n",
      "int32\n"
     ]
    }
   ],
   "source": [
    "arr = np.array([1.1,2.1,3.1,4.1])\n",
    "newarr = arr.astype('i')\n",
    "print(newarr)\n",
    "print(newarr.dtype)"
   ]
  },
  {
   "cell_type": "code",
   "execution_count": 76,
   "id": "d018aeda-9f29-4188-9131-c87649154ad2",
   "metadata": {},
   "outputs": [
    {
     "name": "stdout",
     "output_type": "stream",
     "text": [
      "[b'1' b'2' b'3' b'4']\n",
      "|S11\n"
     ]
    }
   ],
   "source": [
    "arrs = newarr.astype('S')\n",
    "print(arrs)\n",
    "print(arrs.dtype)"
   ]
  },
  {
   "cell_type": "markdown",
   "id": "7148b3a3-9e79-4f81-89ab-27f06e2ec4e7",
   "metadata": {},
   "source": [
    "## copy and view"
   ]
  },
  {
   "cell_type": "markdown",
   "id": "19be55b6-e0a6-4594-8f86-9cc5b28f7a70",
   "metadata": {},
   "source": [
    "### Copy"
   ]
  },
  {
   "cell_type": "code",
   "execution_count": 79,
   "id": "4ef345c2-30ce-4d07-9708-c7c17901d10a",
   "metadata": {},
   "outputs": [
    {
     "name": "stdout",
     "output_type": "stream",
     "text": [
      "[1 2 3 4 5]\n",
      "[1 2 3 4 5]\n"
     ]
    }
   ],
   "source": [
    "arr = np.array([1,2,3,4,5])\n",
    "x = arr.copy()\n",
    "print(arr)\n",
    "print(x)"
   ]
  },
  {
   "cell_type": "code",
   "execution_count": 80,
   "id": "c0f034c6-4692-4316-ae65-8bd8d3724175",
   "metadata": {},
   "outputs": [],
   "source": [
    "arr[0]  = 42"
   ]
  },
  {
   "cell_type": "code",
   "execution_count": 81,
   "id": "37aca401-b68c-431d-98c5-e40c578e2d9f",
   "metadata": {},
   "outputs": [
    {
     "name": "stdout",
     "output_type": "stream",
     "text": [
      "[42  2  3  4  5]\n",
      "[1 2 3 4 5]\n"
     ]
    }
   ],
   "source": [
    "print(arr)\n",
    "print(x)"
   ]
  },
  {
   "cell_type": "code",
   "execution_count": 82,
   "id": "30eadb06-fd87-4c32-b271-b55b75f97f59",
   "metadata": {},
   "outputs": [
    {
     "data": {
      "text/plain": [
       "array([10, 11, 12, 13, 14, 15])"
      ]
     },
     "execution_count": 82,
     "metadata": {},
     "output_type": "execute_result"
    }
   ],
   "source": [
    "arr1 = np.array([10,11,12,13,14,15])\n",
    "arr1"
   ]
  },
  {
   "cell_type": "code",
   "execution_count": 83,
   "id": "32c944cd-1a6e-4622-8c56-bd0a8ba56b65",
   "metadata": {},
   "outputs": [
    {
     "data": {
      "text/plain": [
       "array([10, 32, 12, 13, 14, 15])"
      ]
     },
     "execution_count": 83,
     "metadata": {},
     "output_type": "execute_result"
    }
   ],
   "source": [
    "arr1[1] = 32\n",
    "arr1"
   ]
  },
  {
   "cell_type": "code",
   "execution_count": 84,
   "id": "0b49dfb4-4c84-46fb-9c2b-e2976228a03d",
   "metadata": {},
   "outputs": [
    {
     "data": {
      "text/plain": [
       "array([10, 32, 12, 13, 14, 15])"
      ]
     },
     "execution_count": 84,
     "metadata": {},
     "output_type": "execute_result"
    }
   ],
   "source": [
    "y = arr1.copy()\n",
    "y"
   ]
  },
  {
   "cell_type": "code",
   "execution_count": 85,
   "id": "a275142d-9149-493f-822c-3120df8b97f9",
   "metadata": {},
   "outputs": [
    {
     "name": "stdout",
     "output_type": "stream",
     "text": [
      "[10 32 12 13 14 15]\n",
      "[10 32 12 13 14 15]\n"
     ]
    }
   ],
   "source": [
    "print(arr1)\n",
    "print(y)"
   ]
  },
  {
   "cell_type": "markdown",
   "id": "6c4ca2dc-6709-413f-a8be-78566e210ba8",
   "metadata": {},
   "source": [
    "### View"
   ]
  },
  {
   "cell_type": "code",
   "execution_count": 87,
   "id": "e523a1fa-a197-4c60-93e4-13c8a4607155",
   "metadata": {},
   "outputs": [
    {
     "data": {
      "text/plain": [
       "array([4, 5, 6, 7, 8])"
      ]
     },
     "execution_count": 87,
     "metadata": {},
     "output_type": "execute_result"
    }
   ],
   "source": [
    "arr = np.array([4,5,6,7,8])\n",
    "arr"
   ]
  },
  {
   "cell_type": "code",
   "execution_count": 88,
   "id": "08baea0f-9379-4a67-93e5-89f317d70d2a",
   "metadata": {},
   "outputs": [
    {
     "data": {
      "text/plain": [
       "array([4, 5, 6, 7, 8])"
      ]
     },
     "execution_count": 88,
     "metadata": {},
     "output_type": "execute_result"
    }
   ],
   "source": [
    "n = arr.view()\n",
    "n"
   ]
  },
  {
   "cell_type": "code",
   "execution_count": 89,
   "id": "a6c29f37-0b71-4640-8496-24ea885c9c9d",
   "metadata": {
    "scrolled": true
   },
   "outputs": [
    {
     "data": {
      "text/plain": [
       "array([32,  5,  6,  7,  8])"
      ]
     },
     "execution_count": 89,
     "metadata": {},
     "output_type": "execute_result"
    }
   ],
   "source": [
    "arr[0] = 32\n",
    "arr"
   ]
  },
  {
   "cell_type": "code",
   "execution_count": 90,
   "id": "2d1d1b02-ef08-43bb-8b7d-bce51a15af41",
   "metadata": {},
   "outputs": [
    {
     "name": "stdout",
     "output_type": "stream",
     "text": [
      "[32  5  6  7  8]\n",
      "[32  5  6  7  8]\n"
     ]
    }
   ],
   "source": [
    "print(arr)\n",
    "print(n)"
   ]
  },
  {
   "cell_type": "code",
   "execution_count": 91,
   "id": "25f5dd81-e62e-4478-b26c-5a3d24496ffa",
   "metadata": {},
   "outputs": [
    {
     "data": {
      "text/plain": [
       "array([2, 4, 6, 8])"
      ]
     },
     "execution_count": 91,
     "metadata": {},
     "output_type": "execute_result"
    }
   ],
   "source": [
    "arr2 = np.array([2,4,6,8])\n",
    "arr2"
   ]
  },
  {
   "cell_type": "code",
   "execution_count": 92,
   "id": "e6c485a1-306c-4041-aa2d-088b22f3d71a",
   "metadata": {},
   "outputs": [
    {
     "data": {
      "text/plain": [
       "array([2, 4, 6, 8])"
      ]
     },
     "execution_count": 92,
     "metadata": {},
     "output_type": "execute_result"
    }
   ],
   "source": [
    "s = arr2.view()\n",
    "s"
   ]
  },
  {
   "cell_type": "code",
   "execution_count": 93,
   "id": "f2c717c4-6258-45aa-9329-80fbf7be3432",
   "metadata": {},
   "outputs": [
    {
     "data": {
      "text/plain": [
       "array([42,  4,  6,  8])"
      ]
     },
     "execution_count": 93,
     "metadata": {},
     "output_type": "execute_result"
    }
   ],
   "source": [
    "s[0] = 42\n",
    "s"
   ]
  },
  {
   "cell_type": "code",
   "execution_count": 94,
   "id": "a2dfc428-2333-4321-8baf-41a448c22277",
   "metadata": {},
   "outputs": [
    {
     "name": "stdout",
     "output_type": "stream",
     "text": [
      "[42  4  6  8]\n",
      "[42  4  6  8]\n"
     ]
    }
   ],
   "source": [
    "print(arr2)\n",
    "print(s)"
   ]
  },
  {
   "cell_type": "markdown",
   "id": "5779be4f-b811-459c-81eb-196300bb0764",
   "metadata": {},
   "source": [
    "## check copy or view\n",
    "### base()"
   ]
  },
  {
   "cell_type": "code",
   "execution_count": 96,
   "id": "af081321-a795-45bb-bd80-64c25c9b60e2",
   "metadata": {},
   "outputs": [],
   "source": [
    "arr4 = np.array([1,3,5,7,9])"
   ]
  },
  {
   "cell_type": "code",
   "execution_count": 97,
   "id": "c1112b3c-c64d-4f5b-bf01-63d61ce10909",
   "metadata": {},
   "outputs": [],
   "source": [
    "y = arr4.view()\n",
    "x = arr4.copy()"
   ]
  },
  {
   "cell_type": "code",
   "execution_count": 98,
   "id": "9905ca2b-4354-4d4f-b2cc-914be2c4ed85",
   "metadata": {},
   "outputs": [
    {
     "name": "stdout",
     "output_type": "stream",
     "text": [
      "[1 3 5 7 9]\n"
     ]
    }
   ],
   "source": [
    "print(y.base)"
   ]
  },
  {
   "cell_type": "code",
   "execution_count": 99,
   "id": "a67aa660-fe75-4ea6-b615-cdacbee3aa36",
   "metadata": {},
   "outputs": [
    {
     "name": "stdout",
     "output_type": "stream",
     "text": [
      "None\n"
     ]
    }
   ],
   "source": [
    "print(x.base)"
   ]
  },
  {
   "cell_type": "code",
   "execution_count": 100,
   "id": "346270c8-bcab-495c-8184-6356b5adc6e6",
   "metadata": {},
   "outputs": [],
   "source": [
    "arr5 = np.array([[1,2],[4,5],[7,8]])"
   ]
  },
  {
   "cell_type": "code",
   "execution_count": 101,
   "id": "356d404f-158f-4c28-8674-eef2fc0fe67a",
   "metadata": {},
   "outputs": [
    {
     "data": {
      "text/plain": [
       "(3, 2)"
      ]
     },
     "execution_count": 101,
     "metadata": {},
     "output_type": "execute_result"
    }
   ],
   "source": [
    "arr5.shape"
   ]
  },
  {
   "cell_type": "markdown",
   "id": "3caa9ec3-04ef-4897-ad31-bb34581cf3d0",
   "metadata": {},
   "source": [
    "## diomeansion convert"
   ]
  },
  {
   "cell_type": "code",
   "execution_count": 103,
   "id": "066d2897-f591-4a1d-8026-c62573bfb2ac",
   "metadata": {},
   "outputs": [],
   "source": [
    "arr6 = np.array([[1,2,3,4],[5,6,7,8],[9,10,11,12],[13,14,15,16]])"
   ]
  },
  {
   "cell_type": "code",
   "execution_count": 104,
   "id": "1a55fc5c-8a12-4611-80ff-38b8435e25cc",
   "metadata": {},
   "outputs": [
    {
     "name": "stdout",
     "output_type": "stream",
     "text": [
      "(4, 4)\n",
      "2\n"
     ]
    }
   ],
   "source": [
    "print(arr6.shape)\n",
    "print(arr6.ndim)"
   ]
  },
  {
   "cell_type": "code",
   "execution_count": 105,
   "id": "4384c5a2-83bf-413a-b96b-ee24af40422d",
   "metadata": {},
   "outputs": [],
   "source": [
    "arr6 = np.array([[1,2,3,4],[5,6,7,8],[9,10,11,12],[13,14,15,16]],ndmin = 4)"
   ]
  },
  {
   "cell_type": "code",
   "execution_count": 106,
   "id": "88dd5de6-b122-4ba2-a956-e6b5df3f0cd9",
   "metadata": {},
   "outputs": [
    {
     "data": {
      "text/plain": [
       "array([[[[ 1,  2,  3,  4],\n",
       "         [ 5,  6,  7,  8],\n",
       "         [ 9, 10, 11, 12],\n",
       "         [13, 14, 15, 16]]]])"
      ]
     },
     "execution_count": 106,
     "metadata": {},
     "output_type": "execute_result"
    }
   ],
   "source": [
    "arr6"
   ]
  },
  {
   "cell_type": "code",
   "execution_count": 107,
   "id": "5021483c-0af3-42bd-8a4c-6eeb112649ae",
   "metadata": {},
   "outputs": [],
   "source": [
    "arr = np.array([\n",
    "    [[1,2,3,4,5],[6,7,8,9,10],[11,12,13,14,15]],\n",
    "    [[16,17,18,19,20],[21,22,23,24,25],[26,27,28,29,30]\n",
    "]])"
   ]
  },
  {
   "cell_type": "code",
   "execution_count": 108,
   "id": "5fb95b08-453a-4b34-a169-f7f9e713090e",
   "metadata": {},
   "outputs": [
    {
     "data": {
      "text/plain": [
       "(2, 3, 5)"
      ]
     },
     "execution_count": 108,
     "metadata": {},
     "output_type": "execute_result"
    }
   ],
   "source": [
    "arr.shape"
   ]
  },
  {
   "cell_type": "code",
   "execution_count": 109,
   "id": "c5118d83-c217-4e01-a4fb-9dc06f342574",
   "metadata": {},
   "outputs": [
    {
     "data": {
      "text/plain": [
       "30"
      ]
     },
     "execution_count": 109,
     "metadata": {},
     "output_type": "execute_result"
    }
   ],
   "source": [
    "arr.size"
   ]
  },
  {
   "cell_type": "code",
   "execution_count": 110,
   "id": "d6927b89-1a00-4791-a7d7-429213b5e92f",
   "metadata": {},
   "outputs": [
    {
     "data": {
      "text/plain": [
       "3"
      ]
     },
     "execution_count": 110,
     "metadata": {},
     "output_type": "execute_result"
    }
   ],
   "source": [
    "arr.ndim"
   ]
  },
  {
   "cell_type": "markdown",
   "id": "e9e46f0c-15c6-4d5b-b66f-1ca4194d79f7",
   "metadata": {},
   "source": [
    "## Reshaping Arrays"
   ]
  },
  {
   "cell_type": "code",
   "execution_count": 112,
   "id": "b9fb7e57-45cc-448b-ba4b-64d7f83bf7ef",
   "metadata": {},
   "outputs": [],
   "source": [
    "arr1 = np.array([1,2,3,4,5,6,7,8,9,10,11,12])"
   ]
  },
  {
   "cell_type": "code",
   "execution_count": 113,
   "id": "c4963195-0555-4179-bf35-0f949be8f1b8",
   "metadata": {},
   "outputs": [
    {
     "data": {
      "text/plain": [
       "array([[ 1,  2,  3],\n",
       "       [ 4,  5,  6],\n",
       "       [ 7,  8,  9],\n",
       "       [10, 11, 12]])"
      ]
     },
     "execution_count": 113,
     "metadata": {},
     "output_type": "execute_result"
    }
   ],
   "source": [
    "newarr = arr1.reshape(4,3)\n",
    "newarr"
   ]
  },
  {
   "cell_type": "code",
   "execution_count": 114,
   "id": "7e8a88d9-0d80-4d29-8735-9acc841ca6c4",
   "metadata": {},
   "outputs": [
    {
     "data": {
      "text/plain": [
       "array([[[ 1,  2],\n",
       "        [ 3,  4],\n",
       "        [ 5,  6]],\n",
       "\n",
       "       [[ 7,  8],\n",
       "        [ 9, 10],\n",
       "        [11, 12]]])"
      ]
     },
     "execution_count": 114,
     "metadata": {},
     "output_type": "execute_result"
    }
   ],
   "source": [
    "newarr3 = arr1.reshape(2,3,2)\n",
    "newarr3"
   ]
  },
  {
   "cell_type": "code",
   "execution_count": 115,
   "id": "04fdb705-7ba5-472a-8c13-6efe547eefc7",
   "metadata": {},
   "outputs": [
    {
     "data": {
      "text/plain": [
       "array([[[[ 1,  2,  3],\n",
       "         [ 4,  5,  6]],\n",
       "\n",
       "        [[ 7,  8,  9],\n",
       "         [10, 11, 12]]]])"
      ]
     },
     "execution_count": 115,
     "metadata": {},
     "output_type": "execute_result"
    }
   ],
   "source": [
    "newarr4 = arr1.reshape(1,2,2,3)\n",
    "newarr4"
   ]
  },
  {
   "cell_type": "code",
   "execution_count": 116,
   "id": "5d67cdad-dd38-4322-988d-cb290f37ce75",
   "metadata": {},
   "outputs": [],
   "source": [
    "arr = np.array([\n",
    "    [[1,2,3,4,5],[6,7,8,9,10],[11,12,13,14,15]],\n",
    "    [[16,17,18,19,20],[21,22,23,24,25],[26,27,28,29,30]\n",
    "]])"
   ]
  },
  {
   "cell_type": "code",
   "execution_count": 117,
   "id": "32bdadc4-c959-4781-a365-0e11fb02eec6",
   "metadata": {},
   "outputs": [
    {
     "data": {
      "text/plain": [
       "array([[ 1,  2,  3,  4,  5],\n",
       "       [ 6,  7,  8,  9, 10],\n",
       "       [11, 12, 13, 14, 15],\n",
       "       [16, 17, 18, 19, 20],\n",
       "       [21, 22, 23, 24, 25],\n",
       "       [26, 27, 28, 29, 30]])"
      ]
     },
     "execution_count": 117,
     "metadata": {},
     "output_type": "execute_result"
    }
   ],
   "source": [
    "newarr = arr.reshape(6,5)\n",
    "newarr"
   ]
  },
  {
   "cell_type": "code",
   "execution_count": 118,
   "id": "a74e876e-6e1d-47fa-b2db-c80bc4ba88fe",
   "metadata": {},
   "outputs": [
    {
     "data": {
      "text/plain": [
       "array([[[[ 1,  2,  3,  4,  5],\n",
       "         [ 6,  7,  8,  9, 10]]],\n",
       "\n",
       "\n",
       "       [[[11, 12, 13, 14, 15],\n",
       "         [16, 17, 18, 19, 20]]],\n",
       "\n",
       "\n",
       "       [[[21, 22, 23, 24, 25],\n",
       "         [26, 27, 28, 29, 30]]]])"
      ]
     },
     "execution_count": 118,
     "metadata": {},
     "output_type": "execute_result"
    }
   ],
   "source": [
    "newarr4 = arr.reshape(3,1,2,5)\n",
    "newarr4"
   ]
  },
  {
   "cell_type": "code",
   "execution_count": 119,
   "id": "c5765532-f66e-4336-b311-539d91cce30a",
   "metadata": {},
   "outputs": [
    {
     "name": "stdout",
     "output_type": "stream",
     "text": [
      "[[[ 1  2  3  4  5]\n",
      "  [ 6  7  8  9 10]\n",
      "  [11 12 13 14 15]]\n",
      "\n",
      " [[16 17 18 19 20]\n",
      "  [21 22 23 24 25]\n",
      "  [26 27 28 29 30]]]\n"
     ]
    }
   ],
   "source": [
    "print(newarr4.base)"
   ]
  },
  {
   "cell_type": "code",
   "execution_count": 120,
   "id": "eb473f8d-7345-4cec-b9ef-781ee73d6944",
   "metadata": {},
   "outputs": [
    {
     "data": {
      "text/plain": [
       "array([[[[[[1, 2, 3, 4]]]]]])"
      ]
     },
     "execution_count": 120,
     "metadata": {},
     "output_type": "execute_result"
    }
   ],
   "source": [
    "arr1 = np.array([1,2,3,4],ndmin = 6)\n",
    "arr1"
   ]
  },
  {
   "cell_type": "markdown",
   "id": "c8afa94c-065c-4aba-9524-d65355476d3f",
   "metadata": {},
   "source": [
    "## Diomantion create funtion\n",
    "\n",
    "### 1.Arange()"
   ]
  },
  {
   "cell_type": "code",
   "execution_count": 122,
   "id": "5bdcc1c1-1d97-4179-ac1c-7dc9d8f2fb09",
   "metadata": {},
   "outputs": [
    {
     "data": {
      "text/plain": [
       "array([0, 1, 2, 3, 4, 5, 6, 7, 8, 9])"
      ]
     },
     "execution_count": 122,
     "metadata": {},
     "output_type": "execute_result"
    }
   ],
   "source": [
    "arr = np.arange(0,10)\n",
    "arr"
   ]
  },
  {
   "cell_type": "code",
   "execution_count": 123,
   "id": "f5c8e945-2124-4953-b3ca-67a575a7293e",
   "metadata": {},
   "outputs": [
    {
     "data": {
      "text/plain": [
       "array([[0, 1],\n",
       "       [2, 3],\n",
       "       [4, 5],\n",
       "       [6, 7],\n",
       "       [8, 9]])"
      ]
     },
     "execution_count": 123,
     "metadata": {},
     "output_type": "execute_result"
    }
   ],
   "source": [
    "numerr = arr.reshape(5,2)\n",
    "numerr"
   ]
  },
  {
   "cell_type": "code",
   "execution_count": 124,
   "id": "77ca2100-0cbd-4c0c-b6b8-2576aaa98458",
   "metadata": {},
   "outputs": [
    {
     "data": {
      "text/plain": [
       "array([0, 2, 4, 6, 8])"
      ]
     },
     "execution_count": 124,
     "metadata": {},
     "output_type": "execute_result"
    }
   ],
   "source": [
    "arr1 = np.arange(0,10,2)\n",
    "arr1"
   ]
  },
  {
   "cell_type": "code",
   "execution_count": 125,
   "id": "40a7e0be-2e07-4f3c-b005-8c3c232f9c0e",
   "metadata": {},
   "outputs": [
    {
     "data": {
      "text/plain": [
       "array([0, 3, 6, 9])"
      ]
     },
     "execution_count": 125,
     "metadata": {},
     "output_type": "execute_result"
    }
   ],
   "source": [
    "arr3 = np.arange(0,12,3)\n",
    "arr3"
   ]
  },
  {
   "cell_type": "markdown",
   "id": "259c9577-e659-4bd2-88e7-4b4b4bec5c0e",
   "metadata": {},
   "source": [
    "### 2. ones()"
   ]
  },
  {
   "cell_type": "code",
   "execution_count": 127,
   "id": "4ccfed0b-b86d-4c26-a714-a753c40027e4",
   "metadata": {},
   "outputs": [
    {
     "data": {
      "text/plain": [
       "array([[1, 1, 1, 1],\n",
       "       [1, 1, 1, 1],\n",
       "       [1, 1, 1, 1]], dtype=int32)"
      ]
     },
     "execution_count": 127,
     "metadata": {},
     "output_type": "execute_result"
    }
   ],
   "source": [
    "arr = np.ones((3,4),dtype = 'i')\n",
    "arr"
   ]
  },
  {
   "cell_type": "code",
   "execution_count": 128,
   "id": "d596ed29-5557-4fc2-b2ca-8d5c7006c9ff",
   "metadata": {},
   "outputs": [
    {
     "data": {
      "text/plain": [
       "array([[[1, 1, 1],\n",
       "        [1, 1, 1]],\n",
       "\n",
       "       [[1, 1, 1],\n",
       "        [1, 1, 1]]], dtype=int32)"
      ]
     },
     "execution_count": 128,
     "metadata": {},
     "output_type": "execute_result"
    }
   ],
   "source": [
    "arr3 = np.ones((2,2,3),dtype = 'i')\n",
    "arr3"
   ]
  },
  {
   "cell_type": "markdown",
   "id": "8f387885-4f6c-4017-b8b3-fb7f9010690d",
   "metadata": {},
   "source": [
    "### 3. Zeros()"
   ]
  },
  {
   "cell_type": "code",
   "execution_count": 130,
   "id": "2493e564-69c0-4c98-a720-a2924e1dee14",
   "metadata": {},
   "outputs": [
    {
     "data": {
      "text/plain": [
       "array([[0, 0],\n",
       "       [0, 0],\n",
       "       [0, 0]], dtype=int32)"
      ]
     },
     "execution_count": 130,
     "metadata": {},
     "output_type": "execute_result"
    }
   ],
   "source": [
    "arr = np.zeros((3,2),dtype = 'i')\n",
    "arr"
   ]
  },
  {
   "cell_type": "code",
   "execution_count": 131,
   "id": "810ab1ac-a951-45fd-9ab0-f8aff3448f3e",
   "metadata": {},
   "outputs": [
    {
     "data": {
      "text/plain": [
       "array([[[0, 0, 0],\n",
       "        [0, 0, 0]],\n",
       "\n",
       "       [[0, 0, 0],\n",
       "        [0, 0, 0]]], dtype=int32)"
      ]
     },
     "execution_count": 131,
     "metadata": {},
     "output_type": "execute_result"
    }
   ],
   "source": [
    "arr = np.zeros((2,2,3),dtype = 'i')\n",
    "arr"
   ]
  },
  {
   "cell_type": "code",
   "execution_count": 132,
   "id": "e131bda7-79df-42ba-87dc-988fcb8d8385",
   "metadata": {},
   "outputs": [
    {
     "data": {
      "text/plain": [
       "array([0, 0, 0, 0, 0], dtype=int32)"
      ]
     },
     "execution_count": 132,
     "metadata": {},
     "output_type": "execute_result"
    }
   ],
   "source": [
    "arr1 = np.zeros(5,dtype = 'i')\n",
    "arr1"
   ]
  },
  {
   "cell_type": "markdown",
   "id": "90c14870-0896-48d0-a0fd-f2785ae44f4e",
   "metadata": {},
   "source": [
    "### 4. linspace()"
   ]
  },
  {
   "cell_type": "code",
   "execution_count": 134,
   "id": "7af623f6-d972-47d4-b539-45f740de5a0c",
   "metadata": {},
   "outputs": [
    {
     "data": {
      "text/plain": [
       "array([ 1.  , 13.25, 25.5 , 37.75, 50.  ])"
      ]
     },
     "execution_count": 134,
     "metadata": {},
     "output_type": "execute_result"
    }
   ],
   "source": [
    "arr = np.linspace(1,50,5)\n",
    "arr"
   ]
  },
  {
   "cell_type": "code",
   "execution_count": 135,
   "id": "2911a5f5-16b4-485c-806b-8d89869732c8",
   "metadata": {},
   "outputs": [
    {
     "data": {
      "text/plain": [
       "array([ 0. , 12.5, 25. , 37.5, 50. ])"
      ]
     },
     "execution_count": 135,
     "metadata": {},
     "output_type": "execute_result"
    }
   ],
   "source": [
    "arr =np.linspace(0,50,5)\n",
    "arr"
   ]
  },
  {
   "cell_type": "markdown",
   "id": "2290006b-2fd3-4c42-a00c-6620c10194d8",
   "metadata": {},
   "source": [
    "### 5. diag()"
   ]
  },
  {
   "cell_type": "code",
   "execution_count": 137,
   "id": "e87d7664-efde-4a0d-8e0d-38d3f544f2df",
   "metadata": {},
   "outputs": [
    {
     "data": {
      "text/plain": [
       "array([[3, 0, 0, 0, 0, 0],\n",
       "       [0, 4, 0, 0, 0, 0],\n",
       "       [0, 0, 5, 0, 0, 0],\n",
       "       [0, 0, 0, 6, 0, 0],\n",
       "       [0, 0, 0, 0, 7, 0],\n",
       "       [0, 0, 0, 0, 0, 8]])"
      ]
     },
     "execution_count": 137,
     "metadata": {},
     "output_type": "execute_result"
    }
   ],
   "source": [
    "f = np.diag([3,4,5,6,7,8])\n",
    "f"
   ]
  },
  {
   "cell_type": "code",
   "execution_count": 138,
   "id": "438ac887-7238-4ffe-8df7-0916f52588b7",
   "metadata": {},
   "outputs": [
    {
     "data": {
      "text/plain": [
       "array([[3]])"
      ]
     },
     "execution_count": 138,
     "metadata": {},
     "output_type": "execute_result"
    }
   ],
   "source": [
    "c = np.diag([3])\n",
    "c"
   ]
  },
  {
   "cell_type": "markdown",
   "id": "e96899eb-d195-49fb-bcd6-9651cd366df0",
   "metadata": {},
   "source": [
    "### 6. eye()"
   ]
  },
  {
   "cell_type": "code",
   "execution_count": 140,
   "id": "63242f63-0b7d-4936-88fb-ad66aca6d42b",
   "metadata": {},
   "outputs": [
    {
     "data": {
      "text/plain": [
       "array([[1, 0, 0],\n",
       "       [0, 1, 0],\n",
       "       [0, 0, 1]], dtype=int32)"
      ]
     },
     "execution_count": 140,
     "metadata": {},
     "output_type": "execute_result"
    }
   ],
   "source": [
    "arr = np.eye((3),dtype = 'i')\n",
    "arr"
   ]
  },
  {
   "cell_type": "code",
   "execution_count": 141,
   "id": "08a618c5-065a-420b-972b-316435980ca4",
   "metadata": {},
   "outputs": [
    {
     "data": {
      "text/plain": [
       "array([20, 21, 22, 23, 24, 25, 26, 27, 28, 29, 30, 31, 32, 33, 34])"
      ]
     },
     "execution_count": 141,
     "metadata": {},
     "output_type": "execute_result"
    }
   ],
   "source": [
    "ara = np.arange(20,35)\n",
    "ara"
   ]
  },
  {
   "cell_type": "code",
   "execution_count": 142,
   "id": "b70489d1-54c5-47c9-b436-deee773cc3b2",
   "metadata": {},
   "outputs": [
    {
     "data": {
      "text/plain": [
       "array([[20, 21, 22],\n",
       "       [23, 24, 25],\n",
       "       [26, 27, 28],\n",
       "       [29, 30, 31],\n",
       "       [32, 33, 34]])"
      ]
     },
     "execution_count": 142,
     "metadata": {},
     "output_type": "execute_result"
    }
   ],
   "source": [
    "x = ara.reshape(5,3)\n",
    "x"
   ]
  },
  {
   "cell_type": "code",
   "execution_count": 143,
   "id": "b5c426db-ec7f-47aa-bbd3-38bb6866509b",
   "metadata": {},
   "outputs": [
    {
     "data": {
      "text/plain": [
       "array([ 0,  1,  2,  3,  4,  5,  6,  7,  8,  9, 10, 11, 12, 13, 14])"
      ]
     },
     "execution_count": 143,
     "metadata": {},
     "output_type": "execute_result"
    }
   ],
   "source": [
    "ar0 = np.arange(0,15)\n",
    "ar0"
   ]
  },
  {
   "cell_type": "markdown",
   "id": "80ac4760-6885-4382-83bb-4d122c23de35",
   "metadata": {},
   "source": [
    "## mathmatical operators\n",
    "### 1. Add()"
   ]
  },
  {
   "cell_type": "code",
   "execution_count": 145,
   "id": "3b6ca6dc-bf8a-4e49-95e9-eb46fc01c8f8",
   "metadata": {},
   "outputs": [],
   "source": [
    "add = np.add(ara,ar0)"
   ]
  },
  {
   "cell_type": "code",
   "execution_count": 146,
   "id": "fd5e7b22-cdf5-4afc-9ea5-c6b0293679a6",
   "metadata": {},
   "outputs": [
    {
     "data": {
      "text/plain": [
       "array([20, 22, 24, 26, 28, 30, 32, 34, 36, 38, 40, 42, 44, 46, 48])"
      ]
     },
     "execution_count": 146,
     "metadata": {},
     "output_type": "execute_result"
    }
   ],
   "source": [
    "add"
   ]
  },
  {
   "cell_type": "markdown",
   "id": "1adbd0f0-0a91-4d47-a2a4-f13b12a84512",
   "metadata": {},
   "source": [
    "### 2. subtract()"
   ]
  },
  {
   "cell_type": "code",
   "execution_count": 148,
   "id": "6aa439fd-1333-4805-aa91-ec0a1e585dda",
   "metadata": {},
   "outputs": [],
   "source": [
    "sub = np.subtract(ara,ar0)"
   ]
  },
  {
   "cell_type": "code",
   "execution_count": 149,
   "id": "902fa75e-4b67-4dff-8c9a-32a29b913796",
   "metadata": {},
   "outputs": [
    {
     "data": {
      "text/plain": [
       "array([20, 20, 20, 20, 20, 20, 20, 20, 20, 20, 20, 20, 20, 20, 20])"
      ]
     },
     "execution_count": 149,
     "metadata": {},
     "output_type": "execute_result"
    }
   ],
   "source": [
    "sub"
   ]
  },
  {
   "cell_type": "markdown",
   "id": "3f303e20-1230-4762-b32d-1d4c2d419407",
   "metadata": {},
   "source": [
    "### 3. multiply()"
   ]
  },
  {
   "cell_type": "code",
   "execution_count": 151,
   "id": "3c517102-735d-44e2-bf26-4879e802b696",
   "metadata": {},
   "outputs": [],
   "source": [
    "mul = np.multiply(ara,ar0)"
   ]
  },
  {
   "cell_type": "code",
   "execution_count": 152,
   "id": "df9040eb-9c42-49a5-ae9a-c15bb7b9aab4",
   "metadata": {},
   "outputs": [
    {
     "data": {
      "text/plain": [
       "array([  0,  21,  44,  69,  96, 125, 156, 189, 224, 261, 300, 341, 384,\n",
       "       429, 476])"
      ]
     },
     "execution_count": 152,
     "metadata": {},
     "output_type": "execute_result"
    }
   ],
   "source": [
    "mul"
   ]
  },
  {
   "cell_type": "markdown",
   "id": "a19565e2-dc47-4b8d-8a7f-5c695d88b95f",
   "metadata": {},
   "source": [
    "### 4. dot()"
   ]
  },
  {
   "cell_type": "code",
   "execution_count": 154,
   "id": "39eb666a-240b-46c7-93a6-e14f9f0b792d",
   "metadata": {},
   "outputs": [],
   "source": [
    "dot = np.dot(ar0,ara)"
   ]
  },
  {
   "cell_type": "code",
   "execution_count": 155,
   "id": "6a1e491b-f820-4e02-85d6-64b980ec8111",
   "metadata": {},
   "outputs": [
    {
     "data": {
      "text/plain": [
       "3115"
      ]
     },
     "execution_count": 155,
     "metadata": {},
     "output_type": "execute_result"
    }
   ],
   "source": [
    "dot"
   ]
  },
  {
   "cell_type": "markdown",
   "id": "f73f994c-b30c-482a-9dae-402fe79dc4eb",
   "metadata": {},
   "source": [
    "### 5. sum()"
   ]
  },
  {
   "cell_type": "code",
   "execution_count": 157,
   "id": "6ef715f8-206f-4098-900a-fee91ea66829",
   "metadata": {},
   "outputs": [
    {
     "data": {
      "text/plain": [
       "105"
      ]
     },
     "execution_count": 157,
     "metadata": {},
     "output_type": "execute_result"
    }
   ],
   "source": [
    "sum = np.sum(ar0)\n",
    "sum"
   ]
  },
  {
   "cell_type": "markdown",
   "id": "f7204738-2415-40d9-8bd3-fd80fd745f15",
   "metadata": {},
   "source": [
    "### 6. mea()"
   ]
  },
  {
   "cell_type": "code",
   "execution_count": 159,
   "id": "70ac7387-0337-4ed5-81c1-c9dde968bb5f",
   "metadata": {},
   "outputs": [],
   "source": [
    "mean = np.mean(ar0)"
   ]
  },
  {
   "cell_type": "code",
   "execution_count": 160,
   "id": "a01805c5-c18c-43b2-b7b6-609134e33645",
   "metadata": {},
   "outputs": [
    {
     "data": {
      "text/plain": [
       "7.0"
      ]
     },
     "execution_count": 160,
     "metadata": {},
     "output_type": "execute_result"
    }
   ],
   "source": [
    "mean"
   ]
  },
  {
   "cell_type": "markdown",
   "id": "86e7db66-2be1-4184-852c-bd8fe3895390",
   "metadata": {},
   "source": [
    "### 7. standerd deviation()"
   ]
  },
  {
   "cell_type": "code",
   "execution_count": 162,
   "id": "0560126a-d603-4473-b564-dbdf7409ad2a",
   "metadata": {},
   "outputs": [],
   "source": [
    "std = np.std(ar0)"
   ]
  },
  {
   "cell_type": "code",
   "execution_count": 163,
   "id": "7df78874-e3b8-4be1-9429-441159388faa",
   "metadata": {},
   "outputs": [
    {
     "data": {
      "text/plain": [
       "4.320493798938574"
      ]
     },
     "execution_count": 163,
     "metadata": {},
     "output_type": "execute_result"
    }
   ],
   "source": [
    "std"
   ]
  },
  {
   "cell_type": "markdown",
   "id": "fc51e0a4-3549-478f-a365-d33a61c0bfd6",
   "metadata": {},
   "source": [
    "### 8. variance()"
   ]
  },
  {
   "cell_type": "code",
   "execution_count": 165,
   "id": "96614b9d-4191-4f4c-a1a6-3054e3531cfd",
   "metadata": {},
   "outputs": [],
   "source": [
    "var = np.var(ar0)"
   ]
  },
  {
   "cell_type": "code",
   "execution_count": 166,
   "id": "5463c6c8-2e65-4cc4-a0a8-5052309a91f9",
   "metadata": {},
   "outputs": [
    {
     "data": {
      "text/plain": [
       "18.666666666666668"
      ]
     },
     "execution_count": 166,
     "metadata": {},
     "output_type": "execute_result"
    }
   ],
   "source": [
    "var"
   ]
  },
  {
   "cell_type": "markdown",
   "id": "f745d65b-ba8f-425c-a11d-cd03726aa0f7",
   "metadata": {},
   "source": [
    "### 9. max()"
   ]
  },
  {
   "cell_type": "code",
   "execution_count": 168,
   "id": "127e2039-b6c4-4e62-8595-2692ee1aac7a",
   "metadata": {},
   "outputs": [],
   "source": [
    "max = np.max(ar0)"
   ]
  },
  {
   "cell_type": "code",
   "execution_count": 169,
   "id": "b7f0c4a2-56e5-4e28-a8d3-7ba3eba63dbd",
   "metadata": {},
   "outputs": [
    {
     "data": {
      "text/plain": [
       "14"
      ]
     },
     "execution_count": 169,
     "metadata": {},
     "output_type": "execute_result"
    }
   ],
   "source": [
    "max"
   ]
  },
  {
   "cell_type": "markdown",
   "id": "2364d16d-374a-4336-88bb-38a97cbcfaff",
   "metadata": {},
   "source": [
    "### 10.min()"
   ]
  },
  {
   "cell_type": "code",
   "execution_count": 171,
   "id": "e8f8a715-e67f-4448-95a9-093c55d80dcf",
   "metadata": {},
   "outputs": [],
   "source": [
    "min = np.min(ar0)"
   ]
  },
  {
   "cell_type": "code",
   "execution_count": 172,
   "id": "b446cc78-9944-4607-81fe-b6510154ed42",
   "metadata": {},
   "outputs": [
    {
     "data": {
      "text/plain": [
       "0"
      ]
     },
     "execution_count": 172,
     "metadata": {},
     "output_type": "execute_result"
    }
   ],
   "source": [
    "min"
   ]
  },
  {
   "cell_type": "code",
   "execution_count": 173,
   "id": "8a038a9a-9bac-477e-9bfa-89be98697b02",
   "metadata": {},
   "outputs": [],
   "source": [
    "arr = np.linspace(0,40,8)"
   ]
  },
  {
   "cell_type": "code",
   "execution_count": 174,
   "id": "29b22631-8099-4699-b9fb-20e69666251a",
   "metadata": {},
   "outputs": [
    {
     "data": {
      "text/plain": [
       "array([ 0.        ,  5.71428571, 11.42857143, 17.14285714, 22.85714286,\n",
       "       28.57142857, 34.28571429, 40.        ])"
      ]
     },
     "execution_count": 174,
     "metadata": {},
     "output_type": "execute_result"
    }
   ],
   "source": [
    "arr"
   ]
  },
  {
   "cell_type": "code",
   "execution_count": 175,
   "id": "df6dc4e6-465c-406a-998a-90bc29cc7080",
   "metadata": {},
   "outputs": [],
   "source": [
    "x = arr.reshape(2,4)"
   ]
  },
  {
   "cell_type": "code",
   "execution_count": 176,
   "id": "1b75c62a-cde8-41df-b5e5-f8b36a763cc6",
   "metadata": {},
   "outputs": [
    {
     "data": {
      "text/plain": [
       "array([[ 0.        ,  5.71428571, 11.42857143, 17.14285714],\n",
       "       [22.85714286, 28.57142857, 34.28571429, 40.        ]])"
      ]
     },
     "execution_count": 176,
     "metadata": {},
     "output_type": "execute_result"
    }
   ],
   "source": [
    "x"
   ]
  },
  {
   "cell_type": "markdown",
   "id": "6b8b4c21-de31-4c9e-85df-2b0d1d201642",
   "metadata": {},
   "source": [
    "## flattening the arrays"
   ]
  },
  {
   "cell_type": "code",
   "execution_count": 178,
   "id": "71e67e5a-e74a-4a64-86bf-84b9d21f0d5d",
   "metadata": {},
   "outputs": [],
   "source": [
    "newarr = x.reshape(-1)"
   ]
  },
  {
   "cell_type": "code",
   "execution_count": 179,
   "id": "2ce99185-1620-4bbe-bfcc-81f0a3f1239f",
   "metadata": {},
   "outputs": [
    {
     "data": {
      "text/plain": [
       "array([ 0.        ,  5.71428571, 11.42857143, 17.14285714, 22.85714286,\n",
       "       28.57142857, 34.28571429, 40.        ])"
      ]
     },
     "execution_count": 179,
     "metadata": {},
     "output_type": "execute_result"
    }
   ],
   "source": [
    "newarr"
   ]
  },
  {
   "cell_type": "code",
   "execution_count": 180,
   "id": "15e9f708-c4f5-4be4-b872-ac8601ec99a9",
   "metadata": {},
   "outputs": [],
   "source": [
    "max = np.max(newarr)"
   ]
  },
  {
   "cell_type": "code",
   "execution_count": 181,
   "id": "a3839a40-cf7f-4a4c-834b-89d6a5488ea8",
   "metadata": {},
   "outputs": [
    {
     "data": {
      "text/plain": [
       "40.0"
      ]
     },
     "execution_count": 181,
     "metadata": {},
     "output_type": "execute_result"
    }
   ],
   "source": [
    "max"
   ]
  },
  {
   "cell_type": "code",
   "execution_count": 182,
   "id": "e2d5b56e-1200-43a3-a529-4498ceb7cf59",
   "metadata": {},
   "outputs": [],
   "source": [
    "min = np.min(newarr)"
   ]
  },
  {
   "cell_type": "code",
   "execution_count": 183,
   "id": "70189197-b7ec-4c2d-b075-5727c86b39e0",
   "metadata": {},
   "outputs": [
    {
     "data": {
      "text/plain": [
       "0.0"
      ]
     },
     "execution_count": 183,
     "metadata": {},
     "output_type": "execute_result"
    }
   ],
   "source": [
    "min"
   ]
  },
  {
   "cell_type": "code",
   "execution_count": 184,
   "id": "dbb4fc99-1623-498b-afea-b5cd90fd0320",
   "metadata": {},
   "outputs": [],
   "source": [
    "mean = np.mean(newarr)"
   ]
  },
  {
   "cell_type": "code",
   "execution_count": 185,
   "id": "bdb61f13-81b1-416b-bb0c-2c63a8b5e333",
   "metadata": {},
   "outputs": [
    {
     "data": {
      "text/plain": [
       "20.0"
      ]
     },
     "execution_count": 185,
     "metadata": {},
     "output_type": "execute_result"
    }
   ],
   "source": [
    "mean"
   ]
  },
  {
   "cell_type": "code",
   "execution_count": 186,
   "id": "436ff2f2-b7fa-4d42-bc21-9b0765457bea",
   "metadata": {},
   "outputs": [],
   "source": [
    "std = np.std(newarr)"
   ]
  },
  {
   "cell_type": "code",
   "execution_count": 187,
   "id": "50414c58-7efa-466e-8685-7a53cbee1318",
   "metadata": {},
   "outputs": [
    {
     "data": {
      "text/plain": [
       "13.093073414159543"
      ]
     },
     "execution_count": 187,
     "metadata": {},
     "output_type": "execute_result"
    }
   ],
   "source": [
    "std"
   ]
  },
  {
   "cell_type": "code",
   "execution_count": 188,
   "id": "af86ffb3-fe69-455d-a4be-f02f15776428",
   "metadata": {},
   "outputs": [],
   "source": [
    "sum = np.sum(newarr)"
   ]
  },
  {
   "cell_type": "code",
   "execution_count": 189,
   "id": "9326e37f-0ca1-433a-a37d-894420bd0baa",
   "metadata": {},
   "outputs": [
    {
     "data": {
      "text/plain": [
       "160.0"
      ]
     },
     "execution_count": 189,
     "metadata": {},
     "output_type": "execute_result"
    }
   ],
   "source": [
    "sum"
   ]
  },
  {
   "cell_type": "code",
   "execution_count": 190,
   "id": "16d37f8b-0f15-4896-aef4-dfa183f4fb8d",
   "metadata": {},
   "outputs": [],
   "source": [
    "var = np.var(newarr)"
   ]
  },
  {
   "cell_type": "code",
   "execution_count": 191,
   "id": "c5e812b5-cbb4-4ecf-88e3-b177dfc46f23",
   "metadata": {},
   "outputs": [
    {
     "data": {
      "text/plain": [
       "171.42857142857144"
      ]
     },
     "execution_count": 191,
     "metadata": {},
     "output_type": "execute_result"
    }
   ],
   "source": [
    "var"
   ]
  },
  {
   "cell_type": "code",
   "execution_count": 192,
   "id": "ddc562a0-e08e-4392-8f8c-7c997ff22060",
   "metadata": {},
   "outputs": [],
   "source": [
    "arr1 = np.arange(0,18)"
   ]
  },
  {
   "cell_type": "code",
   "execution_count": 193,
   "id": "690151be-46bf-4e78-96b4-ea3ddce61047",
   "metadata": {},
   "outputs": [
    {
     "data": {
      "text/plain": [
       "array([ 0,  1,  2,  3,  4,  5,  6,  7,  8,  9, 10, 11, 12, 13, 14, 15, 16,\n",
       "       17])"
      ]
     },
     "execution_count": 193,
     "metadata": {},
     "output_type": "execute_result"
    }
   ],
   "source": [
    "arr1"
   ]
  },
  {
   "cell_type": "code",
   "execution_count": 194,
   "id": "56846cfe-3b18-4207-bd63-88a5197470f3",
   "metadata": {},
   "outputs": [],
   "source": [
    "res = arr1.reshape(1,3,6)"
   ]
  },
  {
   "cell_type": "code",
   "execution_count": 195,
   "id": "18926280-0ddb-4eac-aa20-8e906791006e",
   "metadata": {},
   "outputs": [
    {
     "data": {
      "text/plain": [
       "array([[[ 0,  1,  2,  3,  4,  5],\n",
       "        [ 6,  7,  8,  9, 10, 11],\n",
       "        [12, 13, 14, 15, 16, 17]]])"
      ]
     },
     "execution_count": 195,
     "metadata": {},
     "output_type": "execute_result"
    }
   ],
   "source": [
    "res"
   ]
  },
  {
   "cell_type": "code",
   "execution_count": 196,
   "id": "0d71113c-8117-4b75-8101-a4973b78f9c5",
   "metadata": {},
   "outputs": [],
   "source": [
    "res1 = arr1.reshape(-2)"
   ]
  },
  {
   "cell_type": "code",
   "execution_count": 197,
   "id": "5ee66bbf-439f-4e77-b464-d4685cee4e88",
   "metadata": {},
   "outputs": [
    {
     "data": {
      "text/plain": [
       "array([ 0,  1,  2,  3,  4,  5,  6,  7,  8,  9, 10, 11, 12, 13, 14, 15, 16,\n",
       "       17])"
      ]
     },
     "execution_count": 197,
     "metadata": {},
     "output_type": "execute_result"
    }
   ],
   "source": [
    "res1"
   ]
  },
  {
   "cell_type": "code",
   "execution_count": 198,
   "id": "025bcead-0f4e-488b-988b-96a68fff2501",
   "metadata": {},
   "outputs": [],
   "source": [
    "mean = np.mean(res1)"
   ]
  },
  {
   "cell_type": "code",
   "execution_count": 199,
   "id": "30051809-a355-4eee-8473-7411025c88a5",
   "metadata": {},
   "outputs": [
    {
     "data": {
      "text/plain": [
       "8.5"
      ]
     },
     "execution_count": 199,
     "metadata": {},
     "output_type": "execute_result"
    }
   ],
   "source": [
    "mean"
   ]
  },
  {
   "cell_type": "code",
   "execution_count": 200,
   "id": "016d147f-5131-47a6-8e45-0913afe9da81",
   "metadata": {},
   "outputs": [
    {
     "data": {
      "text/plain": [
       "153"
      ]
     },
     "execution_count": 200,
     "metadata": {},
     "output_type": "execute_result"
    }
   ],
   "source": [
    "sum = np.sum(res1)\n",
    "sum"
   ]
  },
  {
   "cell_type": "code",
   "execution_count": 201,
   "id": "7074e1ea-c5df-41f9-8f67-271169ba9022",
   "metadata": {},
   "outputs": [
    {
     "data": {
      "text/plain": [
       "153"
      ]
     },
     "execution_count": 201,
     "metadata": {},
     "output_type": "execute_result"
    }
   ],
   "source": [
    "std = np.sum(res1)\n",
    "std"
   ]
  },
  {
   "cell_type": "code",
   "execution_count": 202,
   "id": "b5748d13-2ecc-4d60-a2bc-0aaeb5fe468d",
   "metadata": {},
   "outputs": [
    {
     "data": {
      "text/plain": [
       "17"
      ]
     },
     "execution_count": 202,
     "metadata": {},
     "output_type": "execute_result"
    }
   ],
   "source": [
    "max = np.max(res1)\n",
    "max"
   ]
  },
  {
   "cell_type": "code",
   "execution_count": 203,
   "id": "7016c4cb-9b12-4fc5-a74c-bf6974258c1b",
   "metadata": {},
   "outputs": [
    {
     "data": {
      "text/plain": [
       "0"
      ]
     },
     "execution_count": 203,
     "metadata": {},
     "output_type": "execute_result"
    }
   ],
   "source": [
    "min = np.min(res1)\n",
    "min"
   ]
  },
  {
   "cell_type": "code",
   "execution_count": 204,
   "id": "1ecdd38e-b95d-4e58-aea5-50febab14d26",
   "metadata": {},
   "outputs": [
    {
     "data": {
      "text/plain": [
       "26.916666666666668"
      ]
     },
     "execution_count": 204,
     "metadata": {},
     "output_type": "execute_result"
    }
   ],
   "source": [
    "var = np.var(res1)\n",
    "var"
   ]
  },
  {
   "cell_type": "markdown",
   "id": "a28ced0d-f10c-4783-b070-ef1c95172bd8",
   "metadata": {},
   "source": [
    "### print iter"
   ]
  },
  {
   "cell_type": "code",
   "execution_count": 206,
   "id": "21b50831-c0e1-4c36-89ef-677a7d534889",
   "metadata": {},
   "outputs": [
    {
     "name": "stdout",
     "output_type": "stream",
     "text": [
      "0\n",
      "1\n",
      "2\n",
      "3\n",
      "4\n",
      "5\n",
      "6\n",
      "7\n",
      "8\n",
      "9\n",
      "10\n",
      "11\n",
      "12\n",
      "13\n",
      "14\n",
      "15\n",
      "16\n",
      "17\n"
     ]
    }
   ],
   "source": [
    "for i in res1:\n",
    "    print(i)"
   ]
  },
  {
   "cell_type": "code",
   "execution_count": 207,
   "id": "02d5cb49-d785-4cf6-b069-729af123f135",
   "metadata": {},
   "outputs": [],
   "source": [
    "res2 = res1.reshape(3,6)"
   ]
  },
  {
   "cell_type": "code",
   "execution_count": 208,
   "id": "277ecb73-debe-4a13-989a-6abb00314d00",
   "metadata": {},
   "outputs": [
    {
     "data": {
      "text/plain": [
       "array([[ 0,  1,  2,  3,  4,  5],\n",
       "       [ 6,  7,  8,  9, 10, 11],\n",
       "       [12, 13, 14, 15, 16, 17]])"
      ]
     },
     "execution_count": 208,
     "metadata": {},
     "output_type": "execute_result"
    }
   ],
   "source": [
    "res2"
   ]
  },
  {
   "cell_type": "code",
   "execution_count": 209,
   "id": "2618a2cd-0580-46b8-b224-e27a82d98c0c",
   "metadata": {},
   "outputs": [
    {
     "name": "stdout",
     "output_type": "stream",
     "text": [
      "0\n",
      "1\n",
      "2\n",
      "3\n",
      "4\n",
      "5\n",
      "6\n",
      "7\n",
      "8\n",
      "9\n",
      "10\n",
      "11\n",
      "12\n",
      "13\n",
      "14\n",
      "15\n",
      "16\n",
      "17\n"
     ]
    }
   ],
   "source": [
    "for i in res2:\n",
    "    for j in i:\n",
    "        print(j)\n",
    "   "
   ]
  },
  {
   "cell_type": "code",
   "execution_count": 210,
   "id": "b32a99d1-93c3-40e9-98c5-169650e27f7e",
   "metadata": {},
   "outputs": [
    {
     "data": {
      "text/plain": [
       "array([[[ 0,  1,  2,  3,  4,  5],\n",
       "        [ 6,  7,  8,  9, 10, 11],\n",
       "        [12, 13, 14, 15, 16, 17]]])"
      ]
     },
     "execution_count": 210,
     "metadata": {},
     "output_type": "execute_result"
    }
   ],
   "source": [
    "res"
   ]
  },
  {
   "cell_type": "code",
   "execution_count": 211,
   "id": "eac74ddb-e8dd-492e-92d3-3fd42be0f800",
   "metadata": {},
   "outputs": [
    {
     "name": "stdout",
     "output_type": "stream",
     "text": [
      "0\n",
      "1\n",
      "2\n",
      "3\n",
      "4\n",
      "5\n",
      "6\n",
      "7\n",
      "8\n",
      "9\n",
      "10\n",
      "11\n",
      "12\n",
      "13\n",
      "14\n",
      "15\n",
      "16\n",
      "17\n"
     ]
    }
   ],
   "source": [
    "for i in res:\n",
    "    for two in i:\n",
    "        for one in two:\n",
    "            print(one)"
   ]
  },
  {
   "cell_type": "markdown",
   "id": "744ad68e-299e-4fdd-b5ba-7882dd773e53",
   "metadata": {},
   "source": [
    "## Iterating Arrays Using (nditer)"
   ]
  },
  {
   "cell_type": "code",
   "execution_count": 213,
   "id": "99717549-fdaa-41ed-9ba3-55e368a4d612",
   "metadata": {},
   "outputs": [
    {
     "name": "stdout",
     "output_type": "stream",
     "text": [
      "0\n",
      "1\n",
      "2\n",
      "3\n",
      "4\n",
      "5\n",
      "6\n",
      "7\n",
      "8\n",
      "9\n",
      "10\n",
      "11\n",
      "12\n",
      "13\n",
      "14\n",
      "15\n",
      "16\n",
      "17\n"
     ]
    }
   ],
   "source": [
    "for x in np.nditer(res):\n",
    "    print(x)"
   ]
  },
  {
   "cell_type": "code",
   "execution_count": 214,
   "id": "ca206d5e-33ac-4522-a1cd-1399a44ab42a",
   "metadata": {},
   "outputs": [],
   "source": [
    "arr2 = np.array([[1,2,3],[4,5,6]])"
   ]
  },
  {
   "cell_type": "code",
   "execution_count": 215,
   "id": "60d6861c-58a6-400f-916f-517437411f10",
   "metadata": {},
   "outputs": [
    {
     "name": "stdout",
     "output_type": "stream",
     "text": [
      "1\n",
      "2\n",
      "3\n",
      "4\n",
      "5\n",
      "6\n"
     ]
    }
   ],
   "source": [
    "for x in np.nditer(arr2):\n",
    "    print(x)"
   ]
  },
  {
   "cell_type": "markdown",
   "id": "fcdecf98-f9ad-4154-b7b9-c5b76492c310",
   "metadata": {},
   "source": [
    "# Enumerated Iteration Using ndenumerate()\n",
    "\n",
    "* ## Enumeration means mentioning sequence number of somethings one by one.\n",
    "* ## Sometimes we require corresponding index of the element while iterating, the ndenumerate() method can be used for those use cases."
   ]
  },
  {
   "cell_type": "code",
   "execution_count": 217,
   "id": "daa2b35a-bfc8-44bd-8f93-6f83c6f09b90",
   "metadata": {},
   "outputs": [],
   "source": [
    "arr2 = np.array([[1,2,3],[4,5,6]])"
   ]
  },
  {
   "cell_type": "code",
   "execution_count": 218,
   "id": "a38ce142-7626-4765-9ffd-1f001f8b02db",
   "metadata": {},
   "outputs": [
    {
     "name": "stdout",
     "output_type": "stream",
     "text": [
      "(0, 0) 1\n",
      "(0, 1) 2\n",
      "(0, 2) 3\n",
      "(1, 0) 4\n",
      "(1, 1) 5\n",
      "(1, 2) 6\n"
     ]
    }
   ],
   "source": [
    "for idx,x in np.ndenumerate(arr2):\n",
    "    print(idx,x)"
   ]
  },
  {
   "cell_type": "code",
   "execution_count": 219,
   "id": "e8f8c301-b6b7-4a0a-900f-e4c802265c99",
   "metadata": {},
   "outputs": [
    {
     "name": "stdout",
     "output_type": "stream",
     "text": [
      "(0, 0, 0) 0\n",
      "(0, 0, 1) 1\n",
      "(0, 0, 2) 2\n",
      "(0, 0, 3) 3\n",
      "(0, 0, 4) 4\n",
      "(0, 0, 5) 5\n",
      "(0, 1, 0) 6\n",
      "(0, 1, 1) 7\n",
      "(0, 1, 2) 8\n",
      "(0, 1, 3) 9\n",
      "(0, 1, 4) 10\n",
      "(0, 1, 5) 11\n",
      "(0, 2, 0) 12\n",
      "(0, 2, 1) 13\n",
      "(0, 2, 2) 14\n",
      "(0, 2, 3) 15\n",
      "(0, 2, 4) 16\n",
      "(0, 2, 5) 17\n"
     ]
    }
   ],
   "source": [
    "for idx,x in np.ndenumerate(res):\n",
    "    print(idx,x)"
   ]
  },
  {
   "cell_type": "markdown",
   "id": "2b099d4e-5857-48fb-b36c-6b7f689b1560",
   "metadata": {},
   "source": [
    "## Joining Numpy Arrays"
   ]
  },
  {
   "cell_type": "code",
   "execution_count": 221,
   "id": "c7e42bd0-cf72-4fa4-a3cf-6ed004fe370a",
   "metadata": {},
   "outputs": [],
   "source": [
    "arr1 = np.array([1,2,3])\n",
    "arr2 = np.array([4,5,6])"
   ]
  },
  {
   "cell_type": "code",
   "execution_count": 222,
   "id": "6d8bd249-bd68-4ce3-babb-22c4d15e76d4",
   "metadata": {},
   "outputs": [],
   "source": [
    "arr = np.concatenate((arr1,arr2))"
   ]
  },
  {
   "cell_type": "code",
   "execution_count": 223,
   "id": "8b30b33e-4001-489a-95a8-cef7b77c3366",
   "metadata": {},
   "outputs": [
    {
     "data": {
      "text/plain": [
       "array([1, 2, 3, 4, 5, 6])"
      ]
     },
     "execution_count": 223,
     "metadata": {},
     "output_type": "execute_result"
    }
   ],
   "source": [
    "arr"
   ]
  },
  {
   "cell_type": "code",
   "execution_count": 224,
   "id": "96fe0af5-d48d-4bb9-a784-cc3dc5129a58",
   "metadata": {},
   "outputs": [],
   "source": [
    "arr1 = np.array([[1,2,3],[7,8,9]])\n",
    "arr2 = np.array([[4,5,6],[10,12,13]])"
   ]
  },
  {
   "cell_type": "code",
   "execution_count": 225,
   "id": "70ffe210-9885-4eb9-9f90-cfa4fcc33476",
   "metadata": {},
   "outputs": [],
   "source": [
    "arrr = np.concatenate((arr1,arr2),axis = 1)"
   ]
  },
  {
   "cell_type": "markdown",
   "id": "c1317a3c-a028-437e-9a53-635018a0c663",
   "metadata": {},
   "source": [
    "Column Wise Change"
   ]
  },
  {
   "cell_type": "code",
   "execution_count": 227,
   "id": "3e1e2d3a-e9c2-42c4-873c-af6fd0c3e76e",
   "metadata": {},
   "outputs": [
    {
     "data": {
      "text/plain": [
       "array([[ 1,  2,  3,  4,  5,  6],\n",
       "       [ 7,  8,  9, 10, 12, 13]])"
      ]
     },
     "execution_count": 227,
     "metadata": {},
     "output_type": "execute_result"
    }
   ],
   "source": [
    "arrr"
   ]
  },
  {
   "cell_type": "code",
   "execution_count": 228,
   "id": "2ba1e911-428a-479e-b7bd-029c1ccd2308",
   "metadata": {},
   "outputs": [],
   "source": [
    "arrr = np.concatenate((arr1,arr2))"
   ]
  },
  {
   "cell_type": "markdown",
   "id": "764c71f8-aaa3-4953-b636-ecd992a3e325",
   "metadata": {},
   "source": [
    "Row wise Change"
   ]
  },
  {
   "cell_type": "code",
   "execution_count": 230,
   "id": "0ed99f05-aece-43f2-8f34-bdac665ce59e",
   "metadata": {},
   "outputs": [
    {
     "data": {
      "text/plain": [
       "array([[ 1,  2,  3],\n",
       "       [ 7,  8,  9],\n",
       "       [ 4,  5,  6],\n",
       "       [10, 12, 13]])"
      ]
     },
     "execution_count": 230,
     "metadata": {},
     "output_type": "execute_result"
    }
   ],
   "source": [
    "arrr"
   ]
  },
  {
   "cell_type": "code",
   "execution_count": 231,
   "id": "5cf09c35-d4df-4247-80b1-fcb721c53b29",
   "metadata": {},
   "outputs": [],
   "source": [
    "arr = np.arange(0,24)"
   ]
  },
  {
   "cell_type": "code",
   "execution_count": 232,
   "id": "2d6a5e32-1eb4-4e2a-886b-d608353e047f",
   "metadata": {},
   "outputs": [],
   "source": [
    "arr1 = arr.reshape(2,2,6)\n",
    "arr2 = arr.reshape(2,2,6)"
   ]
  },
  {
   "cell_type": "code",
   "execution_count": 233,
   "id": "ad1e3b53-2afc-4519-804d-078014962b01",
   "metadata": {},
   "outputs": [
    {
     "data": {
      "text/plain": [
       "array([[[ 0,  1,  2,  3,  4,  5],\n",
       "        [ 6,  7,  8,  9, 10, 11]],\n",
       "\n",
       "       [[12, 13, 14, 15, 16, 17],\n",
       "        [18, 19, 20, 21, 22, 23]]])"
      ]
     },
     "execution_count": 233,
     "metadata": {},
     "output_type": "execute_result"
    }
   ],
   "source": [
    "arr2"
   ]
  },
  {
   "cell_type": "code",
   "execution_count": 234,
   "id": "e43f3ae3-780e-421f-ad34-37f9d35a1122",
   "metadata": {},
   "outputs": [
    {
     "data": {
      "text/plain": [
       "array([[[ 0,  1,  2,  3,  4,  5],\n",
       "        [ 6,  7,  8,  9, 10, 11]],\n",
       "\n",
       "       [[12, 13, 14, 15, 16, 17],\n",
       "        [18, 19, 20, 21, 22, 23]]])"
      ]
     },
     "execution_count": 234,
     "metadata": {},
     "output_type": "execute_result"
    }
   ],
   "source": [
    "arr1"
   ]
  },
  {
   "cell_type": "code",
   "execution_count": 235,
   "id": "a9ae631a-ce67-4539-bf84-af92cdfcb416",
   "metadata": {},
   "outputs": [],
   "source": [
    "arrc = np.concatenate((arr1,arr2))"
   ]
  },
  {
   "cell_type": "code",
   "execution_count": 236,
   "id": "0749386b-cc31-4385-9fb2-11386ec7f7f1",
   "metadata": {},
   "outputs": [
    {
     "data": {
      "text/plain": [
       "array([[[ 0,  1,  2,  3,  4,  5],\n",
       "        [ 6,  7,  8,  9, 10, 11]],\n",
       "\n",
       "       [[12, 13, 14, 15, 16, 17],\n",
       "        [18, 19, 20, 21, 22, 23]],\n",
       "\n",
       "       [[ 0,  1,  2,  3,  4,  5],\n",
       "        [ 6,  7,  8,  9, 10, 11]],\n",
       "\n",
       "       [[12, 13, 14, 15, 16, 17],\n",
       "        [18, 19, 20, 21, 22, 23]]])"
      ]
     },
     "execution_count": 236,
     "metadata": {},
     "output_type": "execute_result"
    }
   ],
   "source": [
    "arrc"
   ]
  },
  {
   "cell_type": "code",
   "execution_count": 237,
   "id": "59293ac3-a5b5-48bd-8d73-e1ca6529e84a",
   "metadata": {},
   "outputs": [],
   "source": [
    "arrc = np.concatenate((arr1,arr2),axis = 1)"
   ]
  },
  {
   "cell_type": "code",
   "execution_count": 238,
   "id": "9b9f0e9b-2099-4b0e-88fe-6d578266303d",
   "metadata": {},
   "outputs": [
    {
     "data": {
      "text/plain": [
       "array([[[ 0,  1,  2,  3,  4,  5],\n",
       "        [ 6,  7,  8,  9, 10, 11],\n",
       "        [ 0,  1,  2,  3,  4,  5],\n",
       "        [ 6,  7,  8,  9, 10, 11]],\n",
       "\n",
       "       [[12, 13, 14, 15, 16, 17],\n",
       "        [18, 19, 20, 21, 22, 23],\n",
       "        [12, 13, 14, 15, 16, 17],\n",
       "        [18, 19, 20, 21, 22, 23]]])"
      ]
     },
     "execution_count": 238,
     "metadata": {},
     "output_type": "execute_result"
    }
   ],
   "source": [
    "arrc"
   ]
  },
  {
   "cell_type": "markdown",
   "id": "f6563dac-5095-4ae8-a694-4a4b9e1fff84",
   "metadata": {},
   "source": [
    "## Joining Arrays Using Stack Functions\n",
    "Stacking is same as concatenation, the only difference is that stacking is done along a new axis.\n",
    "\n",
    "Unlike the concatenate() function, the stack() function joins 1D arrays to be one 2D array and joins 2D arrays to be one 3D array.\n",
    "\n",
    "We can concatenate two 1-D arrays along the second axis which would result in putting them one over the other, ie. stacking.\n",
    "\n",
    "We pass a sequence of arrays that we want to join to the stack() method along with the axis. If axis is not explicitly passed it is taken as 0.\n",
    "### CHOOSING BETWEEN STACK AND CONCATENATION:\n",
    "\n",
    "The choice depends on your desired outcome:\n",
    "\n",
    "If you want to combine arrays with a new level of organization, use stack.\n",
    "\n",
    "If you simply want to join arrays along an existing dimension, use concatenate."
   ]
  },
  {
   "cell_type": "code",
   "execution_count": 240,
   "id": "e35d8980-03ad-4190-ac12-f2ddb5aa2e31",
   "metadata": {},
   "outputs": [],
   "source": [
    "arr1 = np.array([1,2,3])\n",
    "arr2 = np.array([7,8,9])"
   ]
  },
  {
   "cell_type": "code",
   "execution_count": 241,
   "id": "d9375e5f-02de-431d-88ae-5138d797108d",
   "metadata": {},
   "outputs": [],
   "source": [
    "arr = np.stack((arr1,arr2))"
   ]
  },
  {
   "cell_type": "code",
   "execution_count": 242,
   "id": "c1f67393-cb4e-4f1e-9662-8d37d7e49b16",
   "metadata": {},
   "outputs": [
    {
     "data": {
      "text/plain": [
       "array([[1, 2, 3],\n",
       "       [7, 8, 9]])"
      ]
     },
     "execution_count": 242,
     "metadata": {},
     "output_type": "execute_result"
    }
   ],
   "source": [
    "arr"
   ]
  },
  {
   "cell_type": "code",
   "execution_count": 243,
   "id": "e1521769-3d84-4755-a095-de6150bff3c7",
   "metadata": {},
   "outputs": [],
   "source": [
    "arr = np.stack((arr1,arr2),axis = 1)"
   ]
  },
  {
   "cell_type": "code",
   "execution_count": 244,
   "id": "f1e7c9c1-3f68-4ebb-867c-e0cc9c389f8b",
   "metadata": {},
   "outputs": [
    {
     "data": {
      "text/plain": [
       "array([[1, 7],\n",
       "       [2, 8],\n",
       "       [3, 9]])"
      ]
     },
     "execution_count": 244,
     "metadata": {},
     "output_type": "execute_result"
    }
   ],
   "source": [
    "arr"
   ]
  },
  {
   "cell_type": "code",
   "execution_count": 245,
   "id": "aae94a03-3b6d-43c7-b646-3e75d79cd9c7",
   "metadata": {},
   "outputs": [],
   "source": [
    "arr = np.concatenate((arr1,arr2))"
   ]
  },
  {
   "cell_type": "code",
   "execution_count": 246,
   "id": "8a28dd14-53ad-4c0b-8e53-8f8ae65c06cf",
   "metadata": {},
   "outputs": [
    {
     "data": {
      "text/plain": [
       "array([1, 2, 3, 7, 8, 9])"
      ]
     },
     "execution_count": 246,
     "metadata": {},
     "output_type": "execute_result"
    }
   ],
   "source": [
    "arr"
   ]
  },
  {
   "cell_type": "markdown",
   "id": "69c206b3-2c71-45af-8051-22501ebaca12",
   "metadata": {},
   "source": [
    "### horizontal"
   ]
  },
  {
   "cell_type": "code",
   "execution_count": 248,
   "id": "858f2091-2dbd-4b6e-8d13-5863e3c8b79d",
   "metadata": {},
   "outputs": [],
   "source": [
    "arrh = np.hstack((arr1,arr2))"
   ]
  },
  {
   "cell_type": "code",
   "execution_count": 249,
   "id": "19504abb-4487-4231-811c-c83427221a33",
   "metadata": {},
   "outputs": [
    {
     "data": {
      "text/plain": [
       "array([1, 2, 3, 7, 8, 9])"
      ]
     },
     "execution_count": 249,
     "metadata": {},
     "output_type": "execute_result"
    }
   ],
   "source": [
    "arrh"
   ]
  },
  {
   "cell_type": "code",
   "execution_count": 250,
   "id": "1e9761af-ef29-4147-a2cc-00bb98289b13",
   "metadata": {},
   "outputs": [],
   "source": [
    "arr1 = np.array([[1,2,3],[4,5,6]])\n",
    "arr2 = np.array([[7,8,9],[10,11,12]])"
   ]
  },
  {
   "cell_type": "code",
   "execution_count": 251,
   "id": "36ccffa5-937d-4832-a554-5bf50342f4e1",
   "metadata": {},
   "outputs": [],
   "source": [
    "arrh = np.hstack((arr1,arr2))"
   ]
  },
  {
   "cell_type": "code",
   "execution_count": 252,
   "id": "70dadc53-ebae-4148-9fc2-1209be2bbcce",
   "metadata": {},
   "outputs": [
    {
     "data": {
      "text/plain": [
       "array([[ 1,  2,  3,  7,  8,  9],\n",
       "       [ 4,  5,  6, 10, 11, 12]])"
      ]
     },
     "execution_count": 252,
     "metadata": {},
     "output_type": "execute_result"
    }
   ],
   "source": [
    "arrh"
   ]
  },
  {
   "cell_type": "code",
   "execution_count": 253,
   "id": "3c653b5b-b093-4c2b-b1d2-7649e8c652db",
   "metadata": {},
   "outputs": [],
   "source": [
    "arr = np.array([\n",
    "    [[1,2,3],[4,5,6],[7,8,9],[10,11,12]],\n",
    "    [[13,14,15],[16,17,18],[19,20,21],[22,23,24]],\n",
    "    [[25,26,27],[28,29,30],[31,32,33],[34,35,36]]\n",
    "])"
   ]
  },
  {
   "cell_type": "code",
   "execution_count": 254,
   "id": "278c61c9-81b0-470f-a381-32f190f965b7",
   "metadata": {},
   "outputs": [
    {
     "data": {
      "text/plain": [
       "array([[[ 1,  2,  3],\n",
       "        [ 4,  5,  6],\n",
       "        [ 7,  8,  9],\n",
       "        [10, 11, 12]],\n",
       "\n",
       "       [[13, 14, 15],\n",
       "        [16, 17, 18],\n",
       "        [19, 20, 21],\n",
       "        [22, 23, 24]],\n",
       "\n",
       "       [[25, 26, 27],\n",
       "        [28, 29, 30],\n",
       "        [31, 32, 33],\n",
       "        [34, 35, 36]]])"
      ]
     },
     "execution_count": 254,
     "metadata": {},
     "output_type": "execute_result"
    }
   ],
   "source": [
    "arr"
   ]
  },
  {
   "cell_type": "code",
   "execution_count": 255,
   "id": "27ba65a5-5429-4699-b815-eb484f63fc9c",
   "metadata": {},
   "outputs": [
    {
     "data": {
      "text/plain": [
       "(3, 4, 3)"
      ]
     },
     "execution_count": 255,
     "metadata": {},
     "output_type": "execute_result"
    }
   ],
   "source": [
    "arr.shape"
   ]
  },
  {
   "cell_type": "code",
   "execution_count": 256,
   "id": "3842a498-aae3-4dce-83e4-1f5ce3ec6e1c",
   "metadata": {},
   "outputs": [
    {
     "data": {
      "text/plain": [
       "array([[13, 14, 15],\n",
       "       [16, 17, 18],\n",
       "       [19, 20, 21],\n",
       "       [22, 23, 24]])"
      ]
     },
     "execution_count": 256,
     "metadata": {},
     "output_type": "execute_result"
    }
   ],
   "source": [
    "arr[1,:,:]"
   ]
  },
  {
   "cell_type": "code",
   "execution_count": 257,
   "id": "00ff3702-a3fc-4dfc-a4f9-ab654f3a48a2",
   "metadata": {},
   "outputs": [
    {
     "data": {
      "text/plain": [
       "array([[13, 14, 15],\n",
       "       [19, 20, 21]])"
      ]
     },
     "execution_count": 257,
     "metadata": {},
     "output_type": "execute_result"
    }
   ],
   "source": [
    "arr[1,::2,:]"
   ]
  },
  {
   "cell_type": "code",
   "execution_count": 258,
   "id": "6be3aec4-2c18-49ee-ac77-f28c785ef323",
   "metadata": {},
   "outputs": [
    {
     "data": {
      "text/plain": [
       "array([[13, 15],\n",
       "       [19, 21]])"
      ]
     },
     "execution_count": 258,
     "metadata": {},
     "output_type": "execute_result"
    }
   ],
   "source": [
    "arr[1,::2,::2]"
   ]
  },
  {
   "cell_type": "code",
   "execution_count": 259,
   "id": "bd338bf1-0be2-438d-81c8-b8e3e1cc5b0a",
   "metadata": {},
   "outputs": [
    {
     "data": {
      "text/plain": [
       "array([[[ 7,  8,  9],\n",
       "        [10, 11, 12]],\n",
       "\n",
       "       [[19, 20, 21],\n",
       "        [22, 23, 24]],\n",
       "\n",
       "       [[31, 32, 33],\n",
       "        [34, 35, 36]]])"
      ]
     },
     "execution_count": 259,
     "metadata": {},
     "output_type": "execute_result"
    }
   ],
   "source": [
    "arr[:,2::,:]"
   ]
  },
  {
   "cell_type": "code",
   "execution_count": 260,
   "id": "f09c85d5-8bd4-4549-93e8-910ea8f52c08",
   "metadata": {},
   "outputs": [
    {
     "data": {
      "text/plain": [
       "array([[14],\n",
       "       [17],\n",
       "       [20],\n",
       "       [23]])"
      ]
     },
     "execution_count": 260,
     "metadata": {},
     "output_type": "execute_result"
    }
   ],
   "source": [
    "arr[1,:,1::2]"
   ]
  },
  {
   "cell_type": "code",
   "execution_count": 261,
   "id": "5f393ac9-ad4b-49f4-a98b-b53bcc4f4110",
   "metadata": {},
   "outputs": [
    {
     "data": {
      "text/plain": [
       "array([[[ 1,  2,  3],\n",
       "        [ 4,  5,  6],\n",
       "        [ 7,  8,  9],\n",
       "        [10, 11, 12]],\n",
       "\n",
       "       [[13, 14, 15],\n",
       "        [16, 17, 18],\n",
       "        [19, 20, 21],\n",
       "        [22, 23, 24]],\n",
       "\n",
       "       [[25, 26, 27],\n",
       "        [28, 29, 30],\n",
       "        [31, 32, 33],\n",
       "        [34, 35, 36]]])"
      ]
     },
     "execution_count": 261,
     "metadata": {},
     "output_type": "execute_result"
    }
   ],
   "source": [
    "arr"
   ]
  },
  {
   "cell_type": "code",
   "execution_count": 262,
   "id": "fc2ccd3c-72e2-4a78-8b9d-3e41fdf9098a",
   "metadata": {},
   "outputs": [],
   "source": [
    "arr2 = np.array([[1,2,3],[4,5,6]],ndmin = 6)"
   ]
  },
  {
   "cell_type": "code",
   "execution_count": 263,
   "id": "e2969728-3676-4057-b0f3-143162aedd78",
   "metadata": {},
   "outputs": [
    {
     "data": {
      "text/plain": [
       "array([[[[[[1, 2, 3],\n",
       "           [4, 5, 6]]]]]])"
      ]
     },
     "execution_count": 263,
     "metadata": {},
     "output_type": "execute_result"
    }
   ],
   "source": [
    "arr2"
   ]
  },
  {
   "cell_type": "code",
   "execution_count": 264,
   "id": "386044bb-27f2-484f-864a-285ac7b41eff",
   "metadata": {},
   "outputs": [
    {
     "name": "stdout",
     "output_type": "stream",
     "text": [
      "1\n",
      "2\n",
      "3\n",
      "4\n",
      "5\n",
      "6\n"
     ]
    }
   ],
   "source": [
    "for x in np.nditer(arr2):\n",
    "    print(x)"
   ]
  },
  {
   "cell_type": "code",
   "execution_count": 265,
   "id": "d3f3f781-477a-44a4-ae2b-39d66c3a6ad5",
   "metadata": {},
   "outputs": [
    {
     "name": "stdout",
     "output_type": "stream",
     "text": [
      "((0, 0, 0, 0, 0, 0), 1)\n",
      "((0, 0, 0, 0, 0, 1), 2)\n",
      "((0, 0, 0, 0, 0, 2), 3)\n",
      "((0, 0, 0, 0, 1, 0), 4)\n",
      "((0, 0, 0, 0, 1, 1), 5)\n",
      "((0, 0, 0, 0, 1, 2), 6)\n"
     ]
    }
   ],
   "source": [
    "for x in np.ndenumerate(arr2):\n",
    "    print(x)"
   ]
  },
  {
   "cell_type": "code",
   "execution_count": 266,
   "id": "ae26db04-8ee4-4155-a7e5-96635b2d88d6",
   "metadata": {},
   "outputs": [],
   "source": [
    "arr = np.array([[1,2,3],[4,5,6]])"
   ]
  },
  {
   "cell_type": "code",
   "execution_count": 267,
   "id": "8f7b9d0c-3011-410b-8bed-8e5bb707f324",
   "metadata": {},
   "outputs": [
    {
     "name": "stdout",
     "output_type": "stream",
     "text": [
      "((0, 0), 1)\n",
      "((0, 1), 2)\n",
      "((0, 2), 3)\n",
      "((1, 0), 4)\n",
      "((1, 1), 5)\n",
      "((1, 2), 6)\n"
     ]
    }
   ],
   "source": [
    "for x in np.ndenumerate(arr):\n",
    "    print(x)"
   ]
  },
  {
   "cell_type": "code",
   "execution_count": 268,
   "id": "f1ab14f5-be82-4257-b2bb-3b8536b3f651",
   "metadata": {},
   "outputs": [],
   "source": [
    "sum = np.sum(arr2)"
   ]
  },
  {
   "cell_type": "code",
   "execution_count": 269,
   "id": "ee5cd6fe-3cce-46f7-809c-df6637ab9c7f",
   "metadata": {},
   "outputs": [
    {
     "data": {
      "text/plain": [
       "21"
      ]
     },
     "execution_count": 269,
     "metadata": {},
     "output_type": "execute_result"
    }
   ],
   "source": [
    "sum"
   ]
  },
  {
   "cell_type": "code",
   "execution_count": 270,
   "id": "2576eda0-e0b4-4a33-998e-cd8a2c4121ac",
   "metadata": {},
   "outputs": [
    {
     "data": {
      "text/plain": [
       "1"
      ]
     },
     "execution_count": 270,
     "metadata": {},
     "output_type": "execute_result"
    }
   ],
   "source": [
    "min = np.min(arr2)\n",
    "min"
   ]
  },
  {
   "cell_type": "code",
   "execution_count": 271,
   "id": "0ad57e5d-ddb0-494f-8393-5ab3d9003717",
   "metadata": {},
   "outputs": [],
   "source": [
    "max = np.max(arr2)"
   ]
  },
  {
   "cell_type": "code",
   "execution_count": 272,
   "id": "f021ddfa-7ed9-46c5-b8a5-c9c2116c0d04",
   "metadata": {},
   "outputs": [
    {
     "data": {
      "text/plain": [
       "6"
      ]
     },
     "execution_count": 272,
     "metadata": {},
     "output_type": "execute_result"
    }
   ],
   "source": [
    "max"
   ]
  },
  {
   "cell_type": "code",
   "execution_count": 273,
   "id": "1b2d23ab-a7a5-4e74-9bc5-3b5dcfc55bca",
   "metadata": {},
   "outputs": [
    {
     "data": {
      "text/plain": [
       "array([[1, 2, 3],\n",
       "       [4, 5, 6]])"
      ]
     },
     "execution_count": 273,
     "metadata": {},
     "output_type": "execute_result"
    }
   ],
   "source": [
    "arr1 = np.array([[1,2,3],[4,5,6]])\n",
    "arr"
   ]
  },
  {
   "cell_type": "code",
   "execution_count": 274,
   "id": "0f3af171-1183-4df2-948c-344d9dc30955",
   "metadata": {},
   "outputs": [
    {
     "data": {
      "text/plain": [
       "array([[ 7,  8,  9],\n",
       "       [10, 11, 12]])"
      ]
     },
     "execution_count": 274,
     "metadata": {},
     "output_type": "execute_result"
    }
   ],
   "source": [
    "arr2 = np.array([[7,8,9],[10,11,12]])\n",
    "arr2"
   ]
  },
  {
   "cell_type": "code",
   "execution_count": 275,
   "id": "7c16f676-0e9c-4519-b6f2-8fe3be92ce3e",
   "metadata": {},
   "outputs": [
    {
     "data": {
      "text/plain": [
       "array([[ 1,  2,  3,  7,  8,  9],\n",
       "       [ 4,  5,  6, 10, 11, 12]])"
      ]
     },
     "execution_count": 275,
     "metadata": {},
     "output_type": "execute_result"
    }
   ],
   "source": [
    "arrh = np.hstack((arr1,arr2))\n",
    "arrh"
   ]
  },
  {
   "cell_type": "code",
   "execution_count": 276,
   "id": "0b1d244a-09d9-4cd9-85a4-5c21dd1bc574",
   "metadata": {},
   "outputs": [
    {
     "data": {
      "text/plain": [
       "array([[[ 1,  2,  3],\n",
       "        [ 7,  8,  9]],\n",
       "\n",
       "       [[ 4,  5,  6],\n",
       "        [10, 11, 12]]])"
      ]
     },
     "execution_count": 276,
     "metadata": {},
     "output_type": "execute_result"
    }
   ],
   "source": [
    "arrh = np.stack((arr1,arr2),axis = 1)\n",
    "arrh"
   ]
  },
  {
   "cell_type": "code",
   "execution_count": 277,
   "id": "e9ed593a-9614-4c77-95c7-4c983eb76508",
   "metadata": {},
   "outputs": [
    {
     "data": {
      "text/plain": [
       "array([[ 1,  2,  3,  7,  8,  9],\n",
       "       [ 4,  5,  6, 10, 11, 12]])"
      ]
     },
     "execution_count": 277,
     "metadata": {},
     "output_type": "execute_result"
    }
   ],
   "source": [
    "arrrh = np.concatenate((arr1,arr2),axis = 1)\n",
    "arrrh"
   ]
  },
  {
   "cell_type": "markdown",
   "id": "b53037ff-bfcf-456f-9679-4f77b04dfc3d",
   "metadata": {},
   "source": [
    "## vstack"
   ]
  },
  {
   "cell_type": "code",
   "execution_count": 279,
   "id": "32b93c29-9cc6-493a-8bd6-cca8dbbf18be",
   "metadata": {},
   "outputs": [
    {
     "data": {
      "text/plain": [
       "array([[ 1,  2,  3],\n",
       "       [ 4,  5,  6],\n",
       "       [ 7,  8,  9],\n",
       "       [10, 11, 12]])"
      ]
     },
     "execution_count": 279,
     "metadata": {},
     "output_type": "execute_result"
    }
   ],
   "source": [
    "arrh = np.vstack((arr1,arr2))\n",
    "arrh"
   ]
  },
  {
   "cell_type": "markdown",
   "id": "f3de89a7-6f22-4019-8775-4d1f5138dad7",
   "metadata": {},
   "source": [
    "## Array_split\n",
    "•\tSplitting is reverse operation of Joining.\n",
    "\n",
    "•\tJoining merges multiple arrays into one and Splitting breaks one array into multiple.\n",
    "\n",
    "•\tWe use array_split() for splitting arrays, we pass it the array we want to split and the number of splits.\n",
    "\n",
    "•\tIf the array has less elements than required, it will adjust from the end accordingly."
   ]
  },
  {
   "cell_type": "code",
   "execution_count": 281,
   "id": "cec207ed-d847-4499-8be9-10358dfeb181",
   "metadata": {},
   "outputs": [
    {
     "data": {
      "text/plain": [
       "array([1, 2, 3, 4, 5, 6])"
      ]
     },
     "execution_count": 281,
     "metadata": {},
     "output_type": "execute_result"
    }
   ],
   "source": [
    "arr = np.array([1,2,3,4,5,6])\n",
    "arr"
   ]
  },
  {
   "cell_type": "code",
   "execution_count": 282,
   "id": "2d574045-3fdc-4872-a3e4-aca2dca706e1",
   "metadata": {},
   "outputs": [
    {
     "data": {
      "text/plain": [
       "[array([1, 2, 3]), array([4, 5, 6])]"
      ]
     },
     "execution_count": 282,
     "metadata": {},
     "output_type": "execute_result"
    }
   ],
   "source": [
    "newarr = np.array_split(arr,2)\n",
    "newarr"
   ]
  },
  {
   "cell_type": "code",
   "execution_count": 283,
   "id": "d9ee018b-c8ed-4547-9876-66d709644220",
   "metadata": {},
   "outputs": [
    {
     "data": {
      "text/plain": [
       "[array([1, 2]), array([3, 4]), array([5, 6])]"
      ]
     },
     "execution_count": 283,
     "metadata": {},
     "output_type": "execute_result"
    }
   ],
   "source": [
    "newarr = np.array_split(arr,3)\n",
    "newarr"
   ]
  },
  {
   "cell_type": "code",
   "execution_count": 284,
   "id": "3abb4c5a-5aa0-452f-a9cd-9dee07c9df6a",
   "metadata": {},
   "outputs": [
    {
     "data": {
      "text/plain": [
       "[array([1, 2]), array([3]), array([4]), array([5]), array([6])]"
      ]
     },
     "execution_count": 284,
     "metadata": {},
     "output_type": "execute_result"
    }
   ],
   "source": [
    "newarr = np.array_split(arr,5)\n",
    "newarr"
   ]
  },
  {
   "cell_type": "code",
   "execution_count": 285,
   "id": "0b26312f-af53-489c-b8dd-5afb76615937",
   "metadata": {},
   "outputs": [
    {
     "data": {
      "text/plain": [
       "[array([1, 2, 3]), array([4, 5, 6])]"
      ]
     },
     "execution_count": 285,
     "metadata": {},
     "output_type": "execute_result"
    }
   ],
   "source": [
    "newarr = np.split(arr,2)\n",
    "newarr"
   ]
  },
  {
   "cell_type": "code",
   "execution_count": 286,
   "id": "c1419a00-ce9c-470d-80db-9f25b697e307",
   "metadata": {},
   "outputs": [
    {
     "data": {
      "text/plain": [
       "[array([1, 2]), array([3, 4]), array([5, 6])]"
      ]
     },
     "execution_count": 286,
     "metadata": {},
     "output_type": "execute_result"
    }
   ],
   "source": [
    "newarr = np.split(arr,3)\n",
    "newarr"
   ]
  },
  {
   "cell_type": "markdown",
   "id": "56967074-e57f-4092-b0cd-1a4f2d226525",
   "metadata": {},
   "source": [
    "We also have the method split() available but it will ### not adjust the elements when elements are less in source array for splitting like in example above, array_split() worked properly but split() would fail."
   ]
  },
  {
   "cell_type": "code",
   "execution_count": 288,
   "id": "82bc4de8-fa3c-4a4d-b409-3b4cd64199dc",
   "metadata": {},
   "outputs": [
    {
     "ename": "ValueError",
     "evalue": "array split does not result in an equal division",
     "output_type": "error",
     "traceback": [
      "\u001b[1;31m---------------------------------------------------------------------------\u001b[0m",
      "\u001b[1;31mValueError\u001b[0m                                Traceback (most recent call last)",
      "Cell \u001b[1;32mIn[288], line 1\u001b[0m\n\u001b[1;32m----> 1\u001b[0m newarr \u001b[38;5;241m=\u001b[39m np\u001b[38;5;241m.\u001b[39msplit(arr,\u001b[38;5;241m5\u001b[39m)\n\u001b[0;32m      2\u001b[0m newarr\n",
      "File \u001b[1;32mC:\\ProgramData\\anaconda3\\Lib\\site-packages\\numpy\\lib\\shape_base.py:864\u001b[0m, in \u001b[0;36msplit\u001b[1;34m(ary, indices_or_sections, axis)\u001b[0m\n\u001b[0;32m    862\u001b[0m     N \u001b[38;5;241m=\u001b[39m ary\u001b[38;5;241m.\u001b[39mshape[axis]\n\u001b[0;32m    863\u001b[0m     \u001b[38;5;28;01mif\u001b[39;00m N \u001b[38;5;241m%\u001b[39m sections:\n\u001b[1;32m--> 864\u001b[0m         \u001b[38;5;28;01mraise\u001b[39;00m \u001b[38;5;167;01mValueError\u001b[39;00m(\n\u001b[0;32m    865\u001b[0m             \u001b[38;5;124m'\u001b[39m\u001b[38;5;124marray split does not result in an equal division\u001b[39m\u001b[38;5;124m'\u001b[39m) \u001b[38;5;28;01mfrom\u001b[39;00m \u001b[38;5;28;01mNone\u001b[39;00m\n\u001b[0;32m    866\u001b[0m \u001b[38;5;28;01mreturn\u001b[39;00m array_split(ary, indices_or_sections, axis)\n",
      "\u001b[1;31mValueError\u001b[0m: array split does not result in an equal division"
     ]
    }
   ],
   "source": [
    "newarr = np.split(arr,5)\n",
    "newarr"
   ]
  },
  {
   "cell_type": "code",
   "execution_count": null,
   "id": "23571210-4520-4dc5-8887-08098b833ee2",
   "metadata": {},
   "outputs": [],
   "source": [
    "arr = np.array([1,2,3,4,5,6,7,8])\n",
    "arr"
   ]
  },
  {
   "cell_type": "code",
   "execution_count": null,
   "id": "b09b7b8b-9b49-44fe-a6b9-be8db869ecd3",
   "metadata": {},
   "outputs": [],
   "source": [
    "newarr = np.array_split(arr,3)\n",
    "newarr"
   ]
  },
  {
   "cell_type": "code",
   "execution_count": null,
   "id": "d2a59195-635d-4193-a9ce-742e0e15285c",
   "metadata": {},
   "outputs": [],
   "source": [
    "arr = np.array([\n",
    "    [1,2,3,4],[5,6,7,8],[9,10,11,12]])\n",
    "arr"
   ]
  },
  {
   "cell_type": "code",
   "execution_count": null,
   "id": "5a21c99f-0581-45fb-afd5-364d62169007",
   "metadata": {},
   "outputs": [],
   "source": [
    "newarr = np.array_split(arr,2)\n",
    "newarr"
   ]
  },
  {
   "cell_type": "code",
   "execution_count": null,
   "id": "57091178-fdb1-4783-ba53-8e46d5435ed6",
   "metadata": {},
   "outputs": [],
   "source": [
    "newarr = np.array_split(arr,2,axis = 1)\n",
    "newarr"
   ]
  },
  {
   "cell_type": "markdown",
   "id": "e2c3e6b4-be73-4c30-b990-499eabe04788",
   "metadata": {},
   "source": [
    "## Searching Arrays\n",
    "•\tYou can search an array for a certain value, and return the indexes that get a match.\n",
    "\n",
    "•\tTo search an array, use the where() method.\n",
    "\n",
    "•\tFor replacing a value in a array using where()\n",
    "\n",
    "•\tnp.where(condition, x, y)\n",
    "\n",
    "•\tcondition: An array-like structure that contains boolean values (True or False).\n",
    "\n",
    "•\tx: The values to place in the output array where the condition is True.\n",
    "\n",
    "•\ty: The values to place in the output array where the condition is False."
   ]
  },
  {
   "cell_type": "code",
   "execution_count": null,
   "id": "36ee5eba-06ff-4c5f-be3c-af73bee37fe8",
   "metadata": {},
   "outputs": [],
   "source": [
    "arr = np.array([1,2,3,4,5,6])\n",
    "arr"
   ]
  },
  {
   "cell_type": "code",
   "execution_count": null,
   "id": "3253b6cc-ca66-409f-86a8-0863e08744fc",
   "metadata": {},
   "outputs": [],
   "source": [
    "newarr = np.where(arr == 2)\n",
    "newarr"
   ]
  },
  {
   "cell_type": "code",
   "execution_count": null,
   "id": "cbc88c81-d469-449e-98f0-279252170f4a",
   "metadata": {},
   "outputs": [],
   "source": [
    "newarr = np.where(arr == 5)\n",
    "newarr"
   ]
  },
  {
   "cell_type": "code",
   "execution_count": null,
   "id": "8dbbff0d-5d3b-4140-8ab1-a9c0a7e199eb",
   "metadata": {},
   "outputs": [],
   "source": [
    "arr = np.array([1,2,3,4,5,6,1,2,3,4,5,6])\n",
    "arr"
   ]
  },
  {
   "cell_type": "code",
   "execution_count": null,
   "id": "2cbd07cd-2b90-4713-a3a9-985328fb5faf",
   "metadata": {},
   "outputs": [],
   "source": [
    "newarr = np.where(arr == 5)\n",
    "newarr"
   ]
  },
  {
   "cell_type": "code",
   "execution_count": null,
   "id": "85ec4be4-0752-42d3-9f5b-e7c2cce1f45a",
   "metadata": {},
   "outputs": [],
   "source": [
    "arr = np.array([1,2,3,4,5,6,1,2,3,4,5,6])\n",
    "arr"
   ]
  },
  {
   "cell_type": "code",
   "execution_count": null,
   "id": "1a31ba2a-9d4c-41e5-8c36-0c410c2096a7",
   "metadata": {},
   "outputs": [],
   "source": [
    "oddnum = np.where(arr%2== 1)\n",
    "oddnum"
   ]
  },
  {
   "cell_type": "code",
   "execution_count": null,
   "id": "0b55882e-dc71-4a0b-833e-fdd331e1aeb5",
   "metadata": {},
   "outputs": [],
   "source": [
    "arr = np.array([1,2,3,4,5,6,7,8,9,10,12,11,13,14])\n",
    "arr"
   ]
  },
  {
   "cell_type": "code",
   "execution_count": null,
   "id": "29ce13e6-6e23-49af-ae94-54888d1988fc",
   "metadata": {},
   "outputs": [],
   "source": [
    "a = np.where(arr<5,0,arr)\n",
    "a"
   ]
  },
  {
   "cell_type": "code",
   "execution_count": null,
   "id": "f715597a-a2c9-4e2d-a2d3-7c44a7e61c9c",
   "metadata": {},
   "outputs": [],
   "source": [
    "arr = np.arange(1,13)"
   ]
  },
  {
   "cell_type": "code",
   "execution_count": null,
   "id": "813e213b-02a6-4110-8a41-26092578e5a0",
   "metadata": {},
   "outputs": [],
   "source": [
    "arr2 = arr.reshape(3,4)\n",
    "arr2"
   ]
  },
  {
   "cell_type": "code",
   "execution_count": null,
   "id": "bea25d61-d9b4-448d-82a9-acda77293ca4",
   "metadata": {},
   "outputs": [],
   "source": [
    "a = np.where(arr2==5)\n",
    "a"
   ]
  },
  {
   "cell_type": "code",
   "execution_count": null,
   "id": "61d2220b-7407-47e2-b971-634392d404ef",
   "metadata": {},
   "outputs": [],
   "source": [
    "a = np.where(arr2%3==0,arr2+1,arr2)\n",
    "a"
   ]
  },
  {
   "cell_type": "code",
   "execution_count": null,
   "id": "9f12f4c4-e8b2-4189-8f98-e4d76cefdcbf",
   "metadata": {},
   "outputs": [],
   "source": [
    "a = np.where(arr2<3,arr2*-1,arr2)\n",
    "a"
   ]
  },
  {
   "cell_type": "markdown",
   "id": "6cce0eea-f5a1-4467-9a83-c057555ebd84",
   "metadata": {},
   "source": [
    "## Sort Arrays\n",
    "• Sorting means putting elements in an ordered sequence.\n",
    "\n",
    "• Ordered sequence is any sequence that has an order corresponding to elements, like numeric or alphabetical, ascending or descending.\n",
    "\n",
    "• The NumPy ndarray object has a function called sort(), that will sort a specified array."
   ]
  },
  {
   "cell_type": "code",
   "execution_count": null,
   "id": "38ee8f48-d6d3-485f-99f0-bbe874e7093a",
   "metadata": {},
   "outputs": [],
   "source": [
    "arr = np.array([1,5,9,2,3,0])\n"
   ]
  },
  {
   "cell_type": "code",
   "execution_count": null,
   "id": "458a6f13-cb51-4a26-a5fa-3a98c4cfe5b6",
   "metadata": {},
   "outputs": [],
   "source": [
    "x = np.sort(arr)\n",
    "x"
   ]
  },
  {
   "cell_type": "code",
   "execution_count": null,
   "id": "59e67c5f-8aaf-443f-ba60-c970732b041c",
   "metadata": {},
   "outputs": [],
   "source": [
    "x = np.sort(arr)[::-1]\n",
    "x"
   ]
  },
  {
   "cell_type": "code",
   "execution_count": null,
   "id": "92e69288-cf80-4b28-808f-ed42eb4f651d",
   "metadata": {},
   "outputs": [],
   "source": [
    "arr = np.arange(1,13)\n",
    "arr"
   ]
  },
  {
   "cell_type": "code",
   "execution_count": null,
   "id": "c6724ef9-a2f6-44cc-b20e-c4acb01ce1c1",
   "metadata": {},
   "outputs": [],
   "source": [
    "x = np.sort(arr)[::-1]\n",
    "x"
   ]
  },
  {
   "cell_type": "code",
   "execution_count": null,
   "id": "30916444-95b2-4150-ba46-7d53a5feae00",
   "metadata": {},
   "outputs": [],
   "source": [
    "arr2 = arr.reshape(3,4)\n",
    "print(np.sort(arr2))"
   ]
  },
  {
   "cell_type": "code",
   "execution_count": null,
   "id": "2df9aa5f-7e44-4939-868d-0e489f61741c",
   "metadata": {},
   "outputs": [],
   "source": [
    "arr2"
   ]
  },
  {
   "cell_type": "code",
   "execution_count": null,
   "id": "f810b3f2-58d2-4ebc-bae1-95cb4c257dd5",
   "metadata": {},
   "outputs": [],
   "source": [
    "x = np.sort(arr2)[::-1]"
   ]
  },
  {
   "cell_type": "code",
   "execution_count": null,
   "id": "1bba6566-83ab-482f-8d91-52359146c10d",
   "metadata": {},
   "outputs": [],
   "source": [
    "x"
   ]
  },
  {
   "cell_type": "code",
   "execution_count": null,
   "id": "05b5aaba-2b07-41e4-ac13-e15467e96bf2",
   "metadata": {},
   "outputs": [],
   "source": [
    "x = np.sort(arr2)[::-1,::-1]"
   ]
  },
  {
   "cell_type": "code",
   "execution_count": null,
   "id": "55b98004-459a-4d24-882f-5a074dc6abb6",
   "metadata": {},
   "outputs": [],
   "source": [
    "x"
   ]
  },
  {
   "cell_type": "markdown",
   "id": "05e6babd-7204-4082-9694-640083d8ed18",
   "metadata": {},
   "source": [
    "## Search Sorted (Optional)\n",
    "\n",
    "•\tThere is a method called searchsorted() which performs a binary search in the array, and returns the index where the specified value would be inserted to maintain the search order.\n",
    "\n",
    "•\tThe searchsorted() method is assumed to be used on sorted arrays.\n",
    "\n",
    "•\tThe method starts the search from the left and returns the first index where the number 7 is no longer larger than the next value."
   ]
  },
  {
   "cell_type": "code",
   "execution_count": null,
   "id": "134e5dc5-0c18-4122-965c-61560806beb0",
   "metadata": {},
   "outputs": [],
   "source": [
    "arr = np.arange(1,13)\n",
    "arr"
   ]
  },
  {
   "cell_type": "code",
   "execution_count": null,
   "id": "d403e9c6-63d5-41f2-8430-fb893223343f",
   "metadata": {},
   "outputs": [],
   "source": [
    "x = np.searchsorted(arr,7)\n",
    "x"
   ]
  },
  {
   "cell_type": "markdown",
   "id": "61e2c184-443e-4bf7-a245-ca868c9b5c5f",
   "metadata": {},
   "source": [
    "## Search From the Right Side\n",
    "\n",
    "•\tBy default the left most index is returned, but we can give side='right' to return the right most index instead."
   ]
  },
  {
   "cell_type": "code",
   "execution_count": null,
   "id": "7f5a6674-0cc8-40cc-a9a1-9ffca9d85a8a",
   "metadata": {},
   "outputs": [],
   "source": [
    "arr = np.arange(1,13)\n",
    "arr\n"
   ]
  },
  {
   "cell_type": "code",
   "execution_count": null,
   "id": "3620b7c8-a4e1-4ac5-a20d-f85d967060bd",
   "metadata": {},
   "outputs": [],
   "source": [
    "b = np.sort(arr)\n",
    "b"
   ]
  },
  {
   "cell_type": "code",
   "execution_count": null,
   "id": "12b6bc30-29f6-406b-ad61-584468e38f18",
   "metadata": {},
   "outputs": [],
   "source": [
    "x = np.searchsorted(b,5,side = 'right')\n",
    "x"
   ]
  },
  {
   "cell_type": "code",
   "execution_count": null,
   "id": "ffeae95f-8c65-4c29-bdbe-45452800b2a5",
   "metadata": {},
   "outputs": [],
   "source": [
    "x = np.searchsorted(b,5,side = 'left')\n",
    "x"
   ]
  },
  {
   "cell_type": "markdown",
   "id": "2e077b83-fd68-40a8-a8e3-b83ae831018b",
   "metadata": {},
   "source": [
    "## Filtering Arrays\n",
    "•\tGetting some elements out of an existing array and creating a new array out of them is called filtering.\n",
    "\n",
    "•\tIn NumPy, you filter an array using a boolean index list.\n",
    "\n",
    "•\tA boolean index list is a list of booleans corresponding to indexes in the array.\n",
    "\n",
    "•\tIf the value at an index is True that element is contained in the filtered array, if the value at that index is False that element is excluded from the filtered array."
   ]
  },
  {
   "cell_type": "code",
   "execution_count": null,
   "id": "01f5e22c-c5b0-4d0a-b116-e6346af718d7",
   "metadata": {},
   "outputs": [],
   "source": [
    "arr = np.array([41,42,43,44])"
   ]
  },
  {
   "cell_type": "code",
   "execution_count": null,
   "id": "b5dbe778-32cb-4295-a94d-f4c7e782a9dd",
   "metadata": {},
   "outputs": [],
   "source": [
    "x = [True,False,True,False]\n",
    "newarr = arr[x]\n",
    "newarr"
   ]
  },
  {
   "cell_type": "code",
   "execution_count": null,
   "id": "0f838681-2ec2-415a-9062-a5301fe1ab6d",
   "metadata": {},
   "outputs": [],
   "source": [
    "arr = np.arange(1,16)"
   ]
  },
  {
   "cell_type": "code",
   "execution_count": null,
   "id": "9f97064b-af91-4a34-b1d8-ac2b539bcab4",
   "metadata": {},
   "outputs": [],
   "source": [
    "filter_arr = []"
   ]
  },
  {
   "cell_type": "code",
   "execution_count": null,
   "id": "39009692-a5be-462c-aa24-d135067a5111",
   "metadata": {},
   "outputs": [],
   "source": [
    "for i in arr:\n",
    "    if i%2==0:\n",
    "        filter_arr.append(True)\n",
    "    else:\n",
    "        filter_arr.append(False)\n",
    "newarr = arr[filter_arr]\n",
    "newarr"
   ]
  },
  {
   "cell_type": "code",
   "execution_count": null,
   "id": "78174ec2-e40a-4534-8140-ce5e1ae037ae",
   "metadata": {},
   "outputs": [],
   "source": [
    "filter_arr = arr%2==0\n",
    "filter_arr"
   ]
  },
  {
   "cell_type": "code",
   "execution_count": null,
   "id": "702fead5-0602-4358-be69-0e5dacf6978a",
   "metadata": {},
   "outputs": [],
   "source": [
    "newarr = arr[filter_arr]\n",
    "newarr"
   ]
  },
  {
   "cell_type": "markdown",
   "id": "4ab470d0-96f5-4057-8f0a-4770186b104f",
   "metadata": {},
   "source": [
    "## Random\n"
   ]
  },
  {
   "cell_type": "markdown",
   "id": "ae12c55a-9bb6-4f3a-8644-3fb144d11155",
   "metadata": {},
   "source": [
    "# Random Numbers\n",
    "* Random numbers are numbers that are generated in such a way that each number has an equal probability of being chosen within a specified range.\n",
    "* Random Numbers are used in a wide range of applications, from scientific simulations to cryptography (including key generation, encryption, digital signatures, and secure communication protocols) and gaming\n",
    "  \n",
    "\t- Random Events (The locations and times at which enemies appear can be controlled by random numbers to keep gameplay unpredictable and engaging)\n",
    "\t- Randomized Outcomes (Shuffling a deck of cards in digital card games relies on random numbers to ensure fair play and unpredictability).)\n",
    "* However, not all random numbers are created equal. They can be broadly categorized into two types:\n",
    "  \n",
    " \t1. pseudo-random numbers \n",
    " \t2. True random numbers\n",
    "     \n",
    "## True Random Numbers\n",
    "True Random Numbers are generated from physical processes that are inherently unpredictable, like radioactive decay or atmospheric noise.\n",
    "\n",
    "* Unpredictable: Their next value can't be guessed.\n",
    "* Examples: Flipping a coin, rolling a dice, measuring radioactive decay.\n",
    "  \n",
    "## Pseudo-Random Numbers\n",
    "Pseudo-Random Numbers are generated using algorithms and a starting value called a seed. They appear random, but are actually predictable if you know the seed.\n",
    "\n",
    "* Deterministic: If you start with the same seed, you get the same sequence of numbers.\n",
    "* Examples: Random numbers generated by computer algorithms like the Linear Congruential Generator (LCG).\n",
    "\n",
    "\tTrue Random Numbers: Best for cryptographic applications because they are truly unpredictable.\n",
    "\n",
    "\tPseudo-Random Numbers: Suitable for non-cryptographic applications where high speed and reproducibility are important.\n",
    "\n",
    "## Random Number Generation in NumPy\n",
    "* Python defines a set of functions that are used to generate or manipulate random numbers through the random module. \n",
    "* Functions in the random module rely on a pseudo-random number generator function random(), which generates a random float number between 0.0 and 1.0.\n",
    "* This particular type of functions is used in a lot of games, lotteries, or any application requiring a random number generation."
   ]
  },
  {
   "cell_type": "markdown",
   "id": "03eb0223-231e-4b2e-b585-32bdea461555",
   "metadata": {},
   "source": [
    "### Rnadom float"
   ]
  },
  {
   "cell_type": "code",
   "execution_count": 327,
   "id": "b09fb977-929f-4588-9d09-0bce44b3d8cc",
   "metadata": {},
   "outputs": [
    {
     "data": {
      "text/plain": [
       "array([0.02161994, 0.1861005 , 0.45441368, 0.87480107, 0.41216781,\n",
       "       0.15041397, 0.42459266, 0.106131  , 0.50058572, 0.98704836])"
      ]
     },
     "execution_count": 327,
     "metadata": {},
     "output_type": "execute_result"
    }
   ],
   "source": [
    "ran = np.random.rand(10)\n",
    "ran"
   ]
  },
  {
   "cell_type": "code",
   "execution_count": 368,
   "id": "f418c340-6893-4dc9-a7e0-93c08df0a222",
   "metadata": {},
   "outputs": [
    {
     "data": {
      "text/plain": [
       "array([[0.86269068, 0.45692619, 0.73962314, 0.06082249, 0.42062674],\n",
       "       [0.70975903, 0.41663466, 0.39158563, 0.28324389, 0.72692659],\n",
       "       [0.2969267 , 0.55321308, 0.18733202, 0.57297313, 0.06899244],\n",
       "       [0.04926199, 0.081456  , 0.21631121, 0.02731226, 0.52584581],\n",
       "       [0.64450905, 0.86878854, 0.18287608, 0.4414453 , 0.99438424]])"
      ]
     },
     "execution_count": 368,
     "metadata": {},
     "output_type": "execute_result"
    }
   ],
   "source": [
    "ran = np.random.rand(5,5)\n",
    "ran"
   ]
  },
  {
   "cell_type": "code",
   "execution_count": 376,
   "id": "175b2f1c-ffde-4108-befb-30c76090b33f",
   "metadata": {},
   "outputs": [
    {
     "data": {
      "text/plain": [
       "array([[[0.98069745, 0.04342282, 0.23804182, 0.74982312],\n",
       "        [0.68485823, 0.91382642, 0.60296375, 0.46334573]],\n",
       "\n",
       "       [[0.17788682, 0.7745667 , 0.37788568, 0.31173479],\n",
       "        [0.11436698, 0.68943777, 0.05847159, 0.04455721]],\n",
       "\n",
       "       [[0.17312146, 0.22545821, 0.90988829, 0.43135528],\n",
       "        [0.99918423, 0.56652943, 0.72820967, 0.84176089]]])"
      ]
     },
     "execution_count": 376,
     "metadata": {},
     "output_type": "execute_result"
    }
   ],
   "source": [
    "ran = np.random.rand(3,2,4)\n",
    "ran"
   ]
  },
  {
   "cell_type": "markdown",
   "id": "78b4f17b-7fb1-4c1c-86b7-01bda8d1bafd",
   "metadata": {},
   "source": [
    "### Rnadom Int"
   ]
  },
  {
   "cell_type": "code",
   "execution_count": 345,
   "id": "e3b19fd7-75fe-430b-a7cf-65a94f4b80ef",
   "metadata": {},
   "outputs": [
    {
     "data": {
      "text/plain": [
       "array([7, 5, 6, 4, 2])"
      ]
     },
     "execution_count": 345,
     "metadata": {},
     "output_type": "execute_result"
    }
   ],
   "source": [
    "ran = np.random.randint(1,10,5)\n",
    "ran"
   ]
  },
  {
   "cell_type": "code",
   "execution_count": 353,
   "id": "aaf567fe-61ed-4311-a934-aa686991a603",
   "metadata": {},
   "outputs": [
    {
     "data": {
      "text/plain": [
       "2"
      ]
     },
     "execution_count": 353,
     "metadata": {},
     "output_type": "execute_result"
    }
   ],
   "source": [
    "ran = np.random.randint(5)\n",
    "ran"
   ]
  },
  {
   "cell_type": "code",
   "execution_count": 357,
   "id": "1f59fba5-bd17-4ab4-8978-965737bcf7ff",
   "metadata": {},
   "outputs": [
    {
     "data": {
      "text/plain": [
       "10"
      ]
     },
     "execution_count": 357,
     "metadata": {},
     "output_type": "execute_result"
    }
   ],
   "source": [
    "ran = np.random.randint(10,20)\n",
    "ran"
   ]
  },
  {
   "cell_type": "code",
   "execution_count": 359,
   "id": "60df93f5-fa70-41c3-bb6e-8cb5adc662ee",
   "metadata": {},
   "outputs": [
    {
     "data": {
      "text/plain": [
       "11"
      ]
     },
     "execution_count": 359,
     "metadata": {},
     "output_type": "execute_result"
    }
   ],
   "source": [
    "ran = np.random.randint(10,20)\n",
    "ran"
   ]
  },
  {
   "cell_type": "code",
   "execution_count": 361,
   "id": "c1b764d0-fb8d-43ff-9d75-0015d60bd143",
   "metadata": {},
   "outputs": [
    {
     "data": {
      "text/plain": [
       "array([11, 14, 16, 12, 15, 12])"
      ]
     },
     "execution_count": 361,
     "metadata": {},
     "output_type": "execute_result"
    }
   ],
   "source": [
    "ran = np.random.randint(10,20,6)\n",
    "ran"
   ]
  },
  {
   "cell_type": "code",
   "execution_count": 363,
   "id": "3c39b237-62da-46f4-9e8b-72b91a19b2a4",
   "metadata": {},
   "outputs": [
    {
     "data": {
      "text/plain": [
       "array([35, 14, 87, 63, 27, 92])"
      ]
     },
     "execution_count": 363,
     "metadata": {},
     "output_type": "execute_result"
    }
   ],
   "source": [
    "ran = np.random.randint(10,100,6)\n",
    "ran"
   ]
  },
  {
   "cell_type": "markdown",
   "id": "b2bd799b-2731-4b6b-8cb1-1a3a4fa256cf",
   "metadata": {},
   "source": [
    "### random.uniform"
   ]
  },
  {
   "cell_type": "code",
   "execution_count": 381,
   "id": "55b61ce6-e325-48a7-8f01-a20329b2663d",
   "metadata": {},
   "outputs": [
    {
     "data": {
      "text/plain": [
       "11.154719182833496"
      ]
     },
     "execution_count": 381,
     "metadata": {},
     "output_type": "execute_result"
    }
   ],
   "source": [
    "ran = np.random.uniform(10,15)\n",
    "ran"
   ]
  },
  {
   "cell_type": "code",
   "execution_count": 385,
   "id": "1fe63fd2-05e0-410e-8f24-ba1609ec416e",
   "metadata": {},
   "outputs": [
    {
     "data": {
      "text/plain": [
       "21.52450161283247"
      ]
     },
     "execution_count": 385,
     "metadata": {},
     "output_type": "execute_result"
    }
   ],
   "source": [
    "ran = np.random.uniform(20,25)\n",
    "ran"
   ]
  },
  {
   "cell_type": "code",
   "execution_count": 389,
   "id": "c52061c3-5944-4bae-9da5-e99fdfc7072b",
   "metadata": {},
   "outputs": [
    {
     "data": {
      "text/plain": [
       "array([25.33647122, 21.61090906, 24.16724861, 22.39090483, 22.85942408])"
      ]
     },
     "execution_count": 389,
     "metadata": {},
     "output_type": "execute_result"
    }
   ],
   "source": [
    "ran = np.random.uniform(20,30,5)\n",
    "ran"
   ]
  },
  {
   "cell_type": "code",
   "execution_count": 393,
   "id": "6557685c-ef8b-4117-8cc9-794d951f96db",
   "metadata": {},
   "outputs": [
    {
     "data": {
      "text/plain": [
       "array([16.46103088, 14.34944893, 19.79502693, 10.65572866, 10.47071942,\n",
       "       17.43476602, 10.09757664, 11.67061426, 15.35868182, 19.77193852])"
      ]
     },
     "execution_count": 393,
     "metadata": {},
     "output_type": "execute_result"
    }
   ],
   "source": [
    "ran = np.random.uniform(10,20,10)\n",
    "ran"
   ]
  },
  {
   "cell_type": "markdown",
   "id": "8cc09591-ddc8-4d60-b918-e020eb3d8078",
   "metadata": {},
   "source": [
    "### normal Distribution"
   ]
  },
  {
   "cell_type": "code",
   "execution_count": 403,
   "id": "39b71ffc-d62a-4f0f-9d22-189f9c4f6212",
   "metadata": {},
   "outputs": [
    {
     "data": {
      "text/plain": [
       "array([-0.24586162,  0.72895689, -0.01655792,  0.42445975,  0.14544833,\n",
       "        0.21609947,  1.17122242, -0.26742724, -0.60528896, -1.8840935 ])"
      ]
     },
     "execution_count": 403,
     "metadata": {},
     "output_type": "execute_result"
    }
   ],
   "source": [
    "ran = np.random.randn(10)\n",
    "ran"
   ]
  },
  {
   "cell_type": "code",
   "execution_count": 411,
   "id": "1a81ab43-572d-437d-8a3e-80cd74927350",
   "metadata": {},
   "outputs": [
    {
     "data": {
      "text/plain": [
       "array([[[ 1.51106584e+00,  1.56457663e+00, -6.79588735e-01,\n",
       "         -1.58032549e+00],\n",
       "        [ 5.77563778e-01,  1.70260760e+00, -4.20252343e-01,\n",
       "         -8.06766185e-01],\n",
       "        [ 2.03203636e+00,  3.45210265e-01,  2.52558138e-01,\n",
       "          6.80472883e-01]],\n",
       "\n",
       "       [[-6.94347088e-01,  9.31669338e-01, -2.80015833e-01,\n",
       "          9.05042870e-02],\n",
       "        [ 3.17858221e-01,  1.79546590e+00, -6.63090874e-01,\n",
       "          8.77340302e-01],\n",
       "        [-1.07679631e-01, -7.13208645e-04, -2.67189946e-01,\n",
       "         -9.75337110e-01]]])"
      ]
     },
     "execution_count": 411,
     "metadata": {},
     "output_type": "execute_result"
    }
   ],
   "source": [
    "ran = np.random.randn(2,3,4)\n",
    "ran"
   ]
  },
  {
   "cell_type": "markdown",
   "id": "e131d226-2067-40e9-abca-b91ee5462db8",
   "metadata": {},
   "source": [
    "### Random.Choice\n",
    "#### without Replace"
   ]
  },
  {
   "cell_type": "code",
   "execution_count": 419,
   "id": "695c8ba7-efca-4717-b8b8-9b846c6f76e5",
   "metadata": {},
   "outputs": [
    {
     "data": {
      "text/plain": [
       "array([10, 40, 50])"
      ]
     },
     "execution_count": 419,
     "metadata": {},
     "output_type": "execute_result"
    }
   ],
   "source": [
    "ran = np.random.choice([10,20,30,40,50],size = 3,replace = False)\n",
    "ran"
   ]
  },
  {
   "cell_type": "code",
   "execution_count": 423,
   "id": "03f4e63b-9a7b-421a-9e85-4bacea8dc94a",
   "metadata": {},
   "outputs": [
    {
     "data": {
      "text/plain": [
       "array([20, 10, 50])"
      ]
     },
     "execution_count": 423,
     "metadata": {},
     "output_type": "execute_result"
    }
   ],
   "source": [
    "ran = np.random.choice([10,20,30,40,50],size = 3,replace = False)\n",
    "ran"
   ]
  },
  {
   "cell_type": "code",
   "execution_count": 427,
   "id": "de87412d-88bb-4ba1-94df-4b94ba723fbc",
   "metadata": {},
   "outputs": [
    {
     "data": {
      "text/plain": [
       "array([30, 20, 50])"
      ]
     },
     "execution_count": 427,
     "metadata": {},
     "output_type": "execute_result"
    }
   ],
   "source": [
    "ran = np.random.choice([10,20,30,40,50],size = 3,replace = False)\n",
    "ran"
   ]
  },
  {
   "cell_type": "code",
   "execution_count": 454,
   "id": "365db3cb-6797-4e66-b5fd-93f1cfcbc3c2",
   "metadata": {},
   "outputs": [
    {
     "data": {
      "text/plain": [
       "array([30, 40, 20])"
      ]
     },
     "execution_count": 454,
     "metadata": {},
     "output_type": "execute_result"
    }
   ],
   "source": [
    "ran = np.random.choice([10,20,30,40,50],size = 3,replace = False)\n",
    "ran"
   ]
  },
  {
   "cell_type": "markdown",
   "id": "dd5240cd-50cd-458c-8ebd-d115e0b9a92d",
   "metadata": {},
   "source": [
    "#### With Replace"
   ]
  },
  {
   "cell_type": "code",
   "execution_count": 438,
   "id": "78dbf16e-a6f3-4196-a7c6-fa47268856b1",
   "metadata": {},
   "outputs": [
    {
     "data": {
      "text/plain": [
       "array([40, 20, 30])"
      ]
     },
     "execution_count": 438,
     "metadata": {},
     "output_type": "execute_result"
    }
   ],
   "source": [
    "ran = np.random.choice([10,20,30,40,50],size = 3,replace = True)\n",
    "ran"
   ]
  },
  {
   "cell_type": "code",
   "execution_count": 440,
   "id": "c6ebb87c-9eb0-4681-ad8e-d9f4ba38950d",
   "metadata": {},
   "outputs": [
    {
     "data": {
      "text/plain": [
       "array([20, 20, 20])"
      ]
     },
     "execution_count": 440,
     "metadata": {},
     "output_type": "execute_result"
    }
   ],
   "source": [
    "ran = np.random.choice([10,20,30,40,50],size = 3,replace = True)\n",
    "ran"
   ]
  },
  {
   "cell_type": "code",
   "execution_count": 448,
   "id": "c7a29c80-1c22-4146-9839-7dbb79f82637",
   "metadata": {},
   "outputs": [
    {
     "data": {
      "text/plain": [
       "array([40, 50, 30, 10])"
      ]
     },
     "execution_count": 448,
     "metadata": {},
     "output_type": "execute_result"
    }
   ],
   "source": [
    "ran = np.random.choice([10,20,30,40,50],size = 4 ,replace = True)\n",
    "ran"
   ]
  },
  {
   "cell_type": "code",
   "execution_count": 450,
   "id": "0cb91bd2-4478-411c-a7a1-648295acef67",
   "metadata": {},
   "outputs": [
    {
     "data": {
      "text/plain": [
       "array([50, 10, 50, 30])"
      ]
     },
     "execution_count": 450,
     "metadata": {},
     "output_type": "execute_result"
    }
   ],
   "source": [
    "ran = np.random.choice([10,20,30,40,50],size = 4,replace = True)\n",
    "ran"
   ]
  },
  {
   "cell_type": "code",
   "execution_count": 452,
   "id": "2ee83447-796a-43ea-929e-63bae8bd4de3",
   "metadata": {},
   "outputs": [
    {
     "data": {
      "text/plain": [
       "array([20, 30, 40, 30])"
      ]
     },
     "execution_count": 452,
     "metadata": {},
     "output_type": "execute_result"
    }
   ],
   "source": [
    "ran = np.random.choice([10,20,30,40,50],size = 4,replace = True)\n",
    "ran"
   ]
  },
  {
   "cell_type": "markdown",
   "id": "887919e4-435d-438e-9d4e-b99c08744db8",
   "metadata": {},
   "source": [
    "### seed"
   ]
  },
  {
   "cell_type": "code",
   "execution_count": 457,
   "id": "8a4d997f-a209-4cef-a071-3e8c696395d6",
   "metadata": {},
   "outputs": [
    {
     "data": {
      "text/plain": [
       "array([16, 13, 17, 14, 16])"
      ]
     },
     "execution_count": 457,
     "metadata": {},
     "output_type": "execute_result"
    }
   ],
   "source": [
    "np.random.seed(42)\n",
    "ran = np.random.randint(10,20,5)\n",
    "ran"
   ]
  },
  {
   "cell_type": "markdown",
   "id": "9650cc42-45a6-464b-b0e7-f2634078bd07",
   "metadata": {},
   "source": [
    "### Shuffling"
   ]
  },
  {
   "cell_type": "code",
   "execution_count": 466,
   "id": "b9720411-b01a-45d7-94c4-c9c7f57078a0",
   "metadata": {},
   "outputs": [
    {
     "data": {
      "text/plain": [
       "array([0, 1, 2, 3, 4, 5, 6, 7, 8, 9])"
      ]
     },
     "execution_count": 466,
     "metadata": {},
     "output_type": "execute_result"
    }
   ],
   "source": [
    "arr = np.arange(10)\n",
    "arr"
   ]
  },
  {
   "cell_type": "code",
   "execution_count": 470,
   "id": "cdf06380-635d-4c38-9447-d5a2678f58c9",
   "metadata": {},
   "outputs": [
    {
     "data": {
      "text/plain": [
       "array([9, 5, 0, 8, 2, 7, 3, 6, 1, 4])"
      ]
     },
     "execution_count": 470,
     "metadata": {},
     "output_type": "execute_result"
    }
   ],
   "source": [
    "np.random.shuffle(arr)\n",
    "arr"
   ]
  },
  {
   "cell_type": "code",
   "execution_count": null,
   "id": "d3890a1a-fb53-45bb-88b4-0b3ef3fd14e1",
   "metadata": {},
   "outputs": [],
   "source": []
  }
 ],
 "metadata": {
  "kernelspec": {
   "display_name": "Python 3 (ipykernel)",
   "language": "python",
   "name": "python3"
  },
  "language_info": {
   "codemirror_mode": {
    "name": "ipython",
    "version": 3
   },
   "file_extension": ".py",
   "mimetype": "text/x-python",
   "name": "python",
   "nbconvert_exporter": "python",
   "pygments_lexer": "ipython3",
   "version": "3.12.4"
  }
 },
 "nbformat": 4,
 "nbformat_minor": 5
}
